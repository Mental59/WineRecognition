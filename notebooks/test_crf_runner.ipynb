{
 "cells": [
  {
   "cell_type": "code",
   "execution_count": 1,
   "id": "3c844c13-9fbb-4443-beeb-c7e7dbe2142b",
   "metadata": {},
   "outputs": [],
   "source": [
    "import os\n",
    "import json\n",
    "import papermill as pm\n",
    "import datetime"
   ]
  },
  {
   "cell_type": "code",
   "execution_count": 2,
   "id": "6c41dc2f-4fcf-4118-bbeb-1b7c3aac40d8",
   "metadata": {},
   "outputs": [],
   "source": [
    "exp_settings = json.load(\n",
    "    open(r\"G:\\PythonProjects\\WineRecognition2\\experiment_settings.json\")\n",
    ")\n",
    "\n",
    "dictionary_path = \"G:/PythonProjects/WineRecognition2/data/dictionaries/Dict-byword_Halliday_Winesearcher_Wine_AU-only_completed_rows\"\n",
    "model_name = \"G:/PythonProjects/WineRecognition2/artifacts/train/CRF_26082021_175928\"\n",
    "\n",
    "experiments = [\n",
    "    {\n",
    "        'MODEL_NAME': model_name,\n",
    "        'DICTIONARY_PATH': dictionary_path,\n",
    "        'TEST_DATASET_PATH': \"G:/PythonProjects/WineRecognition2/data/text/WineSearcher_Wine_AU-all_rows-all_keys.txt\",\n",
    "        'OUTPUT_DIR': None,\n",
    "        'START_TIME': None,\n",
    "        'RUN_NAME': 'test_model_all_keys',\n",
    "        'COMPUTE_METRICS': True\n",
    "    },\n",
    "    {\n",
    "        'MODEL_NAME': model_name,\n",
    "        'DICTIONARY_PATH': dictionary_path,\n",
    "        'TEST_DATASET_PATH': \"G:/PythonProjects/WineRecognition2/data/text/WineSearcher_Wine_AU-all_rows-origin_fullname.txt\",\n",
    "        'OUTPUT_DIR': None,\n",
    "        'START_TIME': None,\n",
    "        'RUN_NAME': 'test_model_origin_fullname',\n",
    "        'COMPUTE_METRICS': False\n",
    "    },\n",
    "    {\n",
    "        'MODEL_NAME': model_name,\n",
    "        'DICTIONARY_PATH': dictionary_path,\n",
    "        'TEST_DATASET_PATH': \"G:/PythonProjects/WineRecognition2/data/text/WineSearcher_Wine_AU-all_rows-without_add.txt\",\n",
    "        'OUTPUT_DIR': None,\n",
    "        'START_TIME': None,\n",
    "        'RUN_NAME': 'test_model_without_add',\n",
    "        'COMPUTE_METRICS': False\n",
    "    }\n",
    "]"
   ]
  },
  {
   "cell_type": "code",
   "execution_count": 3,
   "id": "8a463503-92d7-450a-986e-87f843fc1ff4",
   "metadata": {},
   "outputs": [
    {
     "data": {
      "application/vnd.jupyter.widget-view+json": {
       "model_id": "9f8bdad10bc14ab997ccd8544d558579",
       "version_major": 2,
       "version_minor": 0
      },
      "text/plain": [
       "Executing:   0%|          | 0/10 [00:00<?, ?cell/s]"
      ]
     },
     "metadata": {},
     "output_type": "display_data"
    },
    {
     "data": {
      "application/vnd.jupyter.widget-view+json": {
       "model_id": "238b4749f01949ddb91a7dd851e7952e",
       "version_major": 2,
       "version_minor": 0
      },
      "text/plain": [
       "Executing:   0%|          | 0/10 [00:00<?, ?cell/s]"
      ]
     },
     "metadata": {},
     "output_type": "display_data"
    },
    {
     "data": {
      "application/vnd.jupyter.widget-view+json": {
       "model_id": "cafd34666f7d473884898625898b8b28",
       "version_major": 2,
       "version_minor": 0
      },
      "text/plain": [
       "Executing:   0%|          | 0/10 [00:00<?, ?cell/s]"
      ]
     },
     "metadata": {},
     "output_type": "display_data"
    }
   ],
   "source": [
    "for exp in experiments:   \n",
    "    exp['START_TIME'] = '{:%d%m%Y_%H%M%S}'.format(datetime.datetime.now())\n",
    "    exp['OUTPUT_DIR'] = f\"{exp_settings['artifacts_path']}/test/{exp['RUN_NAME'] + '_' + exp['START_TIME']}\"\n",
    "    \n",
    "    if not os.path.exists(exp['OUTPUT_DIR']):\n",
    "        os.mkdir(exp['OUTPUT_DIR'])\n",
    "    \n",
    "    pm.execute_notebook(\n",
    "        input_path='test_crf.ipynb',\n",
    "        output_path=os.path.join(exp['OUTPUT_DIR'], 'test_crf.ipynb'),\n",
    "        parameters=exp\n",
    "    )"
   ]
  }
 ],
 "metadata": {
  "kernelspec": {
   "display_name": "wine-recognition",
   "language": "python",
   "name": "wine-recognition"
  },
  "language_info": {
   "codemirror_mode": {
    "name": "ipython",
    "version": 3
   },
   "file_extension": ".py",
   "mimetype": "text/x-python",
   "name": "python",
   "nbconvert_exporter": "python",
   "pygments_lexer": "ipython3",
   "version": "3.9.7"
  }
 },
 "nbformat": 4,
 "nbformat_minor": 5
}
