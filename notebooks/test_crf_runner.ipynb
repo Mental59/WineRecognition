{
 "cells": [
  {
   "cell_type": "code",
   "execution_count": 1,
   "id": "3c844c13-9fbb-4443-beeb-c7e7dbe2142b",
   "metadata": {},
   "outputs": [],
   "source": [
    "import os\n",
    "import json\n",
    "import papermill as pm\n",
    "import datetime"
   ]
  },
  {
   "cell_type": "code",
   "execution_count": null,
   "id": "6c41dc2f-4fcf-4118-bbeb-1b7c3aac40d8",
   "metadata": {},
   "outputs": [],
   "source": [
    "exp_settings = json.load(\n",
    "    open(r\"G:\\PythonProjects\\WineRecognition2\\experiment_settings.json\")\n",
    ")\n",
    "\n",
    "dictionary_path = \"G:/PythonProjects/WineRecognition2/data/dictionaries/Dict-byword_Halliday_Winesearcher_Wine_AU-only_completed_rows\"\n",
    "model_path = \"G:/PythonProjects/WineRecognition2/artifacts/train/CRF_26082021_175928\"\n",
    "\n",
    "experiments = [\n",
    "    {\n",
    "        'MODEL_PATH': model_path,\n",
    "        'DICTIONARY_PATH': dictionary_path,\n",
    "        'TEST_DATASET_PATH': \"G:/PythonProjects/WineRecognition2/data/text/WineSearcher_Wine_AU-all_rows-all_keys.txt\",\n",
    "        'OUTPUT_DIR': None,\n",
    "        'START_TIME': None,\n",
    "        'RUN_NAME': 'test_model_all_keys',\n",
    "        'COMPUTE_METRICS': True\n",
    "    },\n",
    "    {\n",
    "        'MODEL_PATH': model_path,\n",
    "        'DICTIONARY_PATH': dictionary_path,\n",
    "        'TEST_DATASET_PATH': \"G:/PythonProjects/WineRecognition2/data/text/WineSearcher_Wine_AU-all_rows-origin_fullname.txt\",\n",
    "        'OUTPUT_DIR': None,\n",
    "        'START_TIME': None,\n",
    "        'RUN_NAME': 'test_model_origin_fullname',\n",
    "        'COMPUTE_METRICS': False\n",
    "    },\n",
    "    {\n",
    "        'MODEL_PATH': model_path,\n",
    "        'DICTIONARY_PATH': dictionary_path,\n",
    "        'TEST_DATASET_PATH': \"G:/PythonProjects/WineRecognition2/data/text/WineSearcher_Wine_AU-all_rows-without_add.txt\",\n",
    "        'OUTPUT_DIR': None,\n",
    "        'START_TIME': None,\n",
    "        'RUN_NAME': 'test_model_without_add',\n",
    "        'COMPUTE_METRICS': False\n",
    "    }\n",
    "]\n",
    "\n",
    "for exp in experiments:   \n",
    "    exp['START_TIME'] = '{:%d%m%Y_%H%M%S}'.format(datetime.datetime.now())\n",
    "    exp['OUTPUT_DIR'] = f\"{exp_settings['artifacts_path']}/test/{exp['RUN_NAME'] + '_' + exp['START_TIME']}\"\n",
    "    \n",
    "    if not os.path.exists(exp['OUTPUT_DIR']):\n",
    "        os.mkdir(exp['OUTPUT_DIR'])\n",
    "    \n",
    "    pm.execute_notebook(\n",
    "        input_path='test_crf.ipynb',\n",
    "        output_path=os.path.join(exp['OUTPUT_DIR'], 'test_crf.ipynb'),\n",
    "        parameters=exp\n",
    "    )"
   ]
  },
  {
   "cell_type": "code",
   "execution_count": 2,
   "id": "47e5316d-c063-4496-bdc9-f8f5dff69300",
   "metadata": {},
   "outputs": [
    {
     "data": {
      "application/vnd.jupyter.widget-view+json": {
       "model_id": "f6aaed1d3f1948d2a0a4fb69ad109316",
       "version_major": 2,
       "version_minor": 0
      },
      "text/plain": [
       "Executing:   0%|          | 0/10 [00:00<?, ?cell/s]"
      ]
     },
     "metadata": {},
     "output_type": "display_data"
    },
    {
     "data": {
      "application/vnd.jupyter.widget-view+json": {
       "model_id": "42f90e55524147f28249a437884352ac",
       "version_major": 2,
       "version_minor": 0
      },
      "text/plain": [
       "Executing:   0%|          | 0/10 [00:00<?, ?cell/s]"
      ]
     },
     "metadata": {},
     "output_type": "display_data"
    },
    {
     "data": {
      "application/vnd.jupyter.widget-view+json": {
       "model_id": "4f07933757a84c77a15e709af3d665a8",
       "version_major": 2,
       "version_minor": 0
      },
      "text/plain": [
       "Executing:   0%|          | 0/10 [00:00<?, ?cell/s]"
      ]
     },
     "metadata": {},
     "output_type": "display_data"
    }
   ],
   "source": [
    "exp_settings = json.load(\n",
    "    open(r\"G:\\PythonProjects\\WineRecognition2\\experiment_settings.json\")\n",
    ")\n",
    "\n",
    "model_path = \"G:/PythonProjects/WineRecognition2/artifacts/train/CRF_with_LSTM_features_17112021_170520\"\n",
    "LSTM_MODEL_PATH = r\"G:\\PythonProjects\\WineRecognition2\\artifacts\\train\\BiLSTM_CRF_10112021_030733\\model\\data\\model.pth\" # 100-64\n",
    "VOCAB_PATH = r\"G:\\PythonProjects\\WineRecognition2\\data\\vocabs\\Words_Halliday_Wine_AU.json\"\n",
    "DEVICE = 'cuda'\n",
    "CASE_SENSITIVE_VOCAB = False\n",
    "DICTIONARY_PATH = r\"G:\\PythonProjects\\WineRecognition2\\data\\dictionaries\\Dict-byword_Halliday_Winesearcher_Wine_AU-only_completed_rows\"\n",
    "DO_PREPROCESS = False\n",
    "\n",
    "experiments = [\n",
    "    {\n",
    "        'MODEL_PATH': model_path,\n",
    "        'DATASET_PATH': \"G:/PythonProjects/WineRecognition2/data/text/WineSearcher_Wine_AU-only_completed_rows-all_keys.txt\",\n",
    "        'LSTM_MODEL_PATH': LSTM_MODEL_PATH,\n",
    "        'VOCAB_PATH': VOCAB_PATH,\n",
    "        'CASE_SENSITIVE_VOCAB': CASE_SENSITIVE_VOCAB,\n",
    "        'DICTIONARY_PATH': DICTIONARY_PATH,\n",
    "        'DO_PREPROCESS': DO_PREPROCESS,\n",
    "        'DEVICE': DEVICE,\n",
    "        'OUTPUT_DIR': None,\n",
    "        'START_TIME': None,\n",
    "        'RUN_NAME': 'test_model_all_keys_only_completed_rows',\n",
    "        'COMPUTE_METRICS': True\n",
    "    },\n",
    "    {\n",
    "        'MODEL_PATH': model_path,\n",
    "        'DATASET_PATH': \"G:/PythonProjects/WineRecognition2/data/text/WineSearcher_Wine_AU-only_completed_rows-origin_fullname.txt\",\n",
    "        'LSTM_MODEL_PATH': LSTM_MODEL_PATH,\n",
    "        'VOCAB_PATH': VOCAB_PATH,\n",
    "        'CASE_SENSITIVE_VOCAB': CASE_SENSITIVE_VOCAB,\n",
    "        'DICTIONARY_PATH': DICTIONARY_PATH,\n",
    "        'DO_PREPROCESS': DO_PREPROCESS,\n",
    "        'DEVICE': DEVICE,\n",
    "        'OUTPUT_DIR': None,\n",
    "        'START_TIME': None,\n",
    "        'RUN_NAME': 'test_model_origin_fullname_only_completed_rows',\n",
    "        'COMPUTE_METRICS': False\n",
    "    },\n",
    "    {\n",
    "        'MODEL_PATH': model_path,\n",
    "        'DATASET_PATH': \"G:/PythonProjects/WineRecognition2/data/text/WineSearcher_Wine_AU-only_completed_rows-without_add.txt\",\n",
    "        'LSTM_MODEL_PATH': LSTM_MODEL_PATH,\n",
    "        'VOCAB_PATH': VOCAB_PATH,\n",
    "        'CASE_SENSITIVE_VOCAB': CASE_SENSITIVE_VOCAB,\n",
    "        'DICTIONARY_PATH': DICTIONARY_PATH,\n",
    "        'DO_PREPROCESS': DO_PREPROCESS,\n",
    "        'DEVICE': DEVICE,\n",
    "        'OUTPUT_DIR': None,\n",
    "        'START_TIME': None,\n",
    "        'RUN_NAME': 'test_model_without_add_only_completed_rows',\n",
    "        'COMPUTE_METRICS': False\n",
    "    }\n",
    "]\n",
    "\n",
    "for exp in experiments:   \n",
    "    exp['START_TIME'] = '{:%d%m%Y_%H%M%S}'.format(datetime.datetime.now())\n",
    "    exp['OUTPUT_DIR'] = f\"{exp_settings['artifacts_path']}/test/{exp['RUN_NAME'] + '_' + exp['START_TIME']}\"\n",
    "    \n",
    "    if not os.path.exists(exp['OUTPUT_DIR']):\n",
    "        os.mkdir(exp['OUTPUT_DIR'])\n",
    "    \n",
    "    pm.execute_notebook(\n",
    "        input_path='test_crf_with_lstm_features.ipynb',\n",
    "        output_path=os.path.join(exp['OUTPUT_DIR'], 'test_crf_with_lstm_features.ipynb'),\n",
    "        parameters=exp\n",
    "    )"
   ]
  },
  {
   "cell_type": "code",
   "execution_count": null,
   "id": "87089e6b-7ec4-4229-a0fd-475978233641",
   "metadata": {},
   "outputs": [],
   "source": []
  }
 ],
 "metadata": {
  "kernelspec": {
   "display_name": "wine-recognition",
   "language": "python",
   "name": "wine-recognition"
  },
  "language_info": {
   "codemirror_mode": {
    "name": "ipython",
    "version": 3
   },
   "file_extension": ".py",
   "mimetype": "text/x-python",
   "name": "python",
   "nbconvert_exporter": "python",
   "pygments_lexer": "ipython3",
   "version": "3.9.7"
  }
 },
 "nbformat": 4,
 "nbformat_minor": 5
}
