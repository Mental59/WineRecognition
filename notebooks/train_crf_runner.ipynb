{
 "cells": [
  {
   "cell_type": "code",
   "execution_count": 1,
   "id": "194a4d35-15e8-43d1-86e5-ac0c4afe4d52",
   "metadata": {},
   "outputs": [],
   "source": [
    "import os\n",
    "import json\n",
    "import papermill as pm\n",
    "import datetime"
   ]
  },
  {
   "cell_type": "code",
   "execution_count": null,
   "id": "92d61977-8aa7-4a5e-a720-8b1959d3f747",
   "metadata": {},
   "outputs": [],
   "source": [
    "exp_settings = json.load(\n",
    "    open(r\"G:\\PythonProjects\\WineRecognition2\\experiment_settings.json\")\n",
    ")\n",
    "\n",
    "experiments = [\n",
    "    {\n",
    "        'TRAIN_DATASET_PATH': \"G:/PythonProjects/WineRecognition2/data/text/Halliday_Wine_AU-only_completed_rows-all_keys.txt\",\n",
    "        'DICTIONARY_PATH': \"G:/PythonProjects/WineRecognition2/data/dictionaries/Dict-byword_Halliday_Winesearcher_Wine_AU-only_completed_rows\",\n",
    "        'MODEL_NAME': 'CRF',\n",
    "        'ALGORITHM': 'lbfgs',\n",
    "        'C1': 0.1,\n",
    "        'C2': 0.1,\n",
    "        'MAX_ITERATIONS': 5,\n",
    "        'ALL_POSSIBLE_TRANSITIONS': True,\n",
    "        'TEST_SIZE': 0.2,\n",
    "        'RUN_NAME': 'train_model',\n",
    "        'OUTPUT_DIR': None,\n",
    "        'START_TIME': None\n",
    "    }\n",
    "]\n",
    "\n",
    "for exp in experiments:\n",
    "    \n",
    "    exp['START_TIME'] = '{:%d%m%Y_%H%M%S}'.format(datetime.datetime.now())\n",
    "    exp['OUTPUT_DIR'] = f\"{exp_settings['artifacts_path']}/train/{exp['MODEL_NAME'] + '_' + exp['START_TIME']}\"\n",
    "    \n",
    "    if not os.path.exists(exp['OUTPUT_DIR']):\n",
    "        os.mkdir(exp['OUTPUT_DIR'])\n",
    "    \n",
    "    pm.execute_notebook(\n",
    "        input_path='train_crf.ipynb',\n",
    "        output_path=os.path.join(exp['OUTPUT_DIR'], 'train_crf.ipynb'),\n",
    "        parameters=exp\n",
    "    )"
   ]
  },
  {
   "cell_type": "code",
   "execution_count": 2,
   "id": "2fe4319e-f04e-4836-b6c8-3c8cc6d0bb50",
   "metadata": {},
   "outputs": [
    {
     "data": {
      "application/vnd.jupyter.widget-view+json": {
       "model_id": "d1bb4c16d0de4a77a63daee98216f201",
       "version_major": 2,
       "version_minor": 0
      },
      "text/plain": [
       "Executing:   0%|          | 0/11 [00:00<?, ?cell/s]"
      ]
     },
     "metadata": {},
     "output_type": "display_data"
    },
    {
     "ename": "PapermillExecutionError",
     "evalue": "\n---------------------------------------------------------------------------\nException encountered at \"In [11]\":\n---------------------------------------------------------------------------\nNameError                                 Traceback (most recent call last)\n<timed eval> in <module>\n\nNameError: name 'y_pred' is not defined\n",
     "output_type": "error",
     "traceback": [
      "\u001b[1;31m---------------------------------------------------------------------------\u001b[0m",
      "\u001b[1;31mPapermillExecutionError\u001b[0m                   Traceback (most recent call last)",
      "\u001b[1;32m~\\AppData\\Local\\Temp/ipykernel_3280/437746048.py\u001b[0m in \u001b[0;36m<module>\u001b[1;34m\u001b[0m\n\u001b[0;32m     33\u001b[0m         \u001b[0mos\u001b[0m\u001b[1;33m.\u001b[0m\u001b[0mmkdir\u001b[0m\u001b[1;33m(\u001b[0m\u001b[0mexp\u001b[0m\u001b[1;33m[\u001b[0m\u001b[1;34m'OUTPUT_DIR'\u001b[0m\u001b[1;33m]\u001b[0m\u001b[1;33m)\u001b[0m\u001b[1;33m\u001b[0m\u001b[1;33m\u001b[0m\u001b[0m\n\u001b[0;32m     34\u001b[0m \u001b[1;33m\u001b[0m\u001b[0m\n\u001b[1;32m---> 35\u001b[1;33m     pm.execute_notebook(\n\u001b[0m\u001b[0;32m     36\u001b[0m         \u001b[0minput_path\u001b[0m\u001b[1;33m=\u001b[0m\u001b[1;34m'train_crf_with_lstm_features.ipynb'\u001b[0m\u001b[1;33m,\u001b[0m\u001b[1;33m\u001b[0m\u001b[1;33m\u001b[0m\u001b[0m\n\u001b[0;32m     37\u001b[0m         \u001b[0moutput_path\u001b[0m\u001b[1;33m=\u001b[0m\u001b[0mos\u001b[0m\u001b[1;33m.\u001b[0m\u001b[0mpath\u001b[0m\u001b[1;33m.\u001b[0m\u001b[0mjoin\u001b[0m\u001b[1;33m(\u001b[0m\u001b[0mexp\u001b[0m\u001b[1;33m[\u001b[0m\u001b[1;34m'OUTPUT_DIR'\u001b[0m\u001b[1;33m]\u001b[0m\u001b[1;33m,\u001b[0m \u001b[1;34m'train_crf_with_lstm_features.ipynb'\u001b[0m\u001b[1;33m)\u001b[0m\u001b[1;33m,\u001b[0m\u001b[1;33m\u001b[0m\u001b[1;33m\u001b[0m\u001b[0m\n",
      "\u001b[1;32mD:\\ProgramFiles\\anaconda3\\envs\\wine-recognition\\lib\\site-packages\\papermill\\execute.py\u001b[0m in \u001b[0;36mexecute_notebook\u001b[1;34m(input_path, output_path, parameters, engine_name, request_save_on_cell_execute, prepare_only, kernel_name, language, progress_bar, log_output, stdout_file, stderr_file, start_timeout, report_mode, cwd, **engine_kwargs)\u001b[0m\n\u001b[0;32m    120\u001b[0m \u001b[1;33m\u001b[0m\u001b[0m\n\u001b[0;32m    121\u001b[0m             \u001b[1;31m# Check for errors first (it saves on error before raising)\u001b[0m\u001b[1;33m\u001b[0m\u001b[1;33m\u001b[0m\u001b[0m\n\u001b[1;32m--> 122\u001b[1;33m             \u001b[0mraise_for_execution_errors\u001b[0m\u001b[1;33m(\u001b[0m\u001b[0mnb\u001b[0m\u001b[1;33m,\u001b[0m \u001b[0moutput_path\u001b[0m\u001b[1;33m)\u001b[0m\u001b[1;33m\u001b[0m\u001b[1;33m\u001b[0m\u001b[0m\n\u001b[0m\u001b[0;32m    123\u001b[0m \u001b[1;33m\u001b[0m\u001b[0m\n\u001b[0;32m    124\u001b[0m         \u001b[1;31m# Write final output in case the engine didn't write it on cell completion.\u001b[0m\u001b[1;33m\u001b[0m\u001b[1;33m\u001b[0m\u001b[0m\n",
      "\u001b[1;32mD:\\ProgramFiles\\anaconda3\\envs\\wine-recognition\\lib\\site-packages\\papermill\\execute.py\u001b[0m in \u001b[0;36mraise_for_execution_errors\u001b[1;34m(nb, output_path)\u001b[0m\n\u001b[0;32m    232\u001b[0m \u001b[1;33m\u001b[0m\u001b[0m\n\u001b[0;32m    233\u001b[0m         \u001b[0mwrite_ipynb\u001b[0m\u001b[1;33m(\u001b[0m\u001b[0mnb\u001b[0m\u001b[1;33m,\u001b[0m \u001b[0moutput_path\u001b[0m\u001b[1;33m)\u001b[0m\u001b[1;33m\u001b[0m\u001b[1;33m\u001b[0m\u001b[0m\n\u001b[1;32m--> 234\u001b[1;33m         \u001b[1;32mraise\u001b[0m \u001b[0merror\u001b[0m\u001b[1;33m\u001b[0m\u001b[1;33m\u001b[0m\u001b[0m\n\u001b[0m",
      "\u001b[1;31mPapermillExecutionError\u001b[0m: \n---------------------------------------------------------------------------\nException encountered at \"In [11]\":\n---------------------------------------------------------------------------\nNameError                                 Traceback (most recent call last)\n<timed eval> in <module>\n\nNameError: name 'y_pred' is not defined\n"
     ]
    }
   ],
   "source": [
    "# CRF with lstm features experiment\n",
    "exp_settings = json.load(\n",
    "    open(r\"G:\\PythonProjects\\WineRecognition2\\experiment_settings.json\")\n",
    ")\n",
    "\n",
    "experiments = [\n",
    "    {\n",
    "        'DATASET_PATH': r\"G:\\PythonProjects\\WineRecognition2\\data\\text\\Halliday_Wine_AU-only_completed_rows-complex.txt\",\n",
    "        'LSTM_MODEL_PATH': r\"G:/PythonProjects/WineRecognition2/artifacts/train/BiLSTM_CRF_24112021_223320/model/data/model.pth\", # 100-64 case insensitive vocab\n",
    "        'VOCAB_PATH': r\"G:\\PythonProjects\\WineRecognition2\\data\\vocabs\\Words_Halliday_Wine_AU.json\",\n",
    "        'DICTIONARY_PATH': r\"G:\\PythonProjects\\WineRecognition2\\data\\dictionaries\\Dict-byword_Halliday_Winesearcher_Wine_AU-only_completed_rows\",\n",
    "        'DEVICE': 'cuda',\n",
    "        'CASE_SENSITIVE_VOCAB': False,\n",
    "        'MODEL_NAME': \"CRF_with_LSTM_and_Our_features\",\n",
    "        'ALGORITHM': 'lbfgs',\n",
    "        'C1': 0.1,\n",
    "        'C2': 0.1,\n",
    "        'MAX_ITERATIONS': 150,\n",
    "        'ALL_POSSIBLE_TRANSITIONS': True,\n",
    "        'TEST_SIZE': 0.2,\n",
    "        'RUN_NAME': 'Train-LSTMAndOurFeatures',\n",
    "        'OUTPUT_DIR': None,\n",
    "        'START_TIME': None\n",
    "    }\n",
    "]\n",
    "\n",
    "for exp in experiments:\n",
    "    \n",
    "    exp['START_TIME'] = '{:%d%m%Y_%H%M%S}'.format(datetime.datetime.now())\n",
    "    exp['OUTPUT_DIR'] = f\"{exp_settings['artifacts_path']}/train/{exp['MODEL_NAME'] + '_' + exp['START_TIME']}\"\n",
    "    \n",
    "    if not os.path.exists(exp['OUTPUT_DIR']):\n",
    "        os.mkdir(exp['OUTPUT_DIR'])\n",
    "    \n",
    "    pm.execute_notebook(\n",
    "        input_path='train_crf_with_lstm_features.ipynb',\n",
    "        output_path=os.path.join(exp['OUTPUT_DIR'], 'train_crf_with_lstm_features.ipynb'),\n",
    "        parameters=exp\n",
    "    )"
   ]
  },
  {
   "cell_type": "code",
   "execution_count": null,
   "id": "df60b882-c95b-4a1b-9aac-6d2b9579e911",
   "metadata": {},
   "outputs": [],
   "source": []
  }
 ],
 "metadata": {
  "kernelspec": {
   "display_name": "wine-recognition",
   "language": "python",
   "name": "wine-recognition"
  },
  "language_info": {
   "codemirror_mode": {
    "name": "ipython",
    "version": 3
   },
   "file_extension": ".py",
   "mimetype": "text/x-python",
   "name": "python",
   "nbconvert_exporter": "python",
   "pygments_lexer": "ipython3",
   "version": "3.9.7"
  }
 },
 "nbformat": 4,
 "nbformat_minor": 5
}
