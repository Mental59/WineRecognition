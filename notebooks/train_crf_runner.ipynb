{
 "cells": [
  {
   "cell_type": "code",
   "execution_count": 1,
   "id": "194a4d35-15e8-43d1-86e5-ac0c4afe4d52",
   "metadata": {},
   "outputs": [],
   "source": [
    "import os\n",
    "import json\n",
    "import papermill as pm\n",
    "import datetime"
   ]
  },
  {
   "cell_type": "code",
   "execution_count": 2,
   "id": "92d61977-8aa7-4a5e-a720-8b1959d3f747",
   "metadata": {},
   "outputs": [],
   "source": [
    "exp_settings = json.load(\n",
    "    open(r\"G:\\PythonProjects\\WineRecognition2\\experiment_settings.json\")\n",
    ")\n",
    "\n",
    "experiments = [\n",
    "    {\n",
    "        'TRAIN_DATASET_PATH': \"G:/PythonProjects/WineRecognition2/data/text/Halliday_Wine_AU-only_completed_rows-all_keys.txt\",\n",
    "        'DICTIONARY_PATH': \"G:/PythonProjects/WineRecognition2/data/dictionaries/Dict-byword_Halliday_Winesearcher_Wine_AU-only_completed_rows\",\n",
    "        'MODEL_NAME': 'CRF',\n",
    "        'ALGORITHM': 'lbfgs',\n",
    "        'C1': 0.1,\n",
    "        'C2': 0.1,\n",
    "        'MAX_ITERATIONS': 5,\n",
    "        'ALL_POSSIBLE_TRANSITIONS': True,\n",
    "        'TEST_SIZE': 0.2,\n",
    "        'RUN_NAME': 'train_model',\n",
    "        'OUTPUT_DIR': None,\n",
    "        'START_TIME': None\n",
    "    }\n",
    "]"
   ]
  },
  {
   "cell_type": "code",
   "execution_count": 3,
   "id": "a5f2ef10-a6eb-4580-9010-59afb19fd02a",
   "metadata": {},
   "outputs": [
    {
     "data": {
      "application/vnd.jupyter.widget-view+json": {
       "model_id": "259659ed709944fd84e58eb37a3485ec",
       "version_major": 2,
       "version_minor": 0
      },
      "text/plain": [
       "Executing:   0%|          | 0/12 [00:00<?, ?cell/s]"
      ]
     },
     "metadata": {},
     "output_type": "display_data"
    }
   ],
   "source": [
    "for exp in experiments:\n",
    "    \n",
    "    exp['START_TIME'] = '{:%d%m%Y_%H%M%S}'.format(datetime.datetime.now())\n",
    "    exp['OUTPUT_DIR'] = f\"{exp_settings['artifacts_path']}/train/{exp['MODEL_NAME'] + '_' + exp['START_TIME']}\"\n",
    "    \n",
    "    if not os.path.exists(exp['OUTPUT_DIR']):\n",
    "        os.mkdir(exp['OUTPUT_DIR'])\n",
    "    \n",
    "    pm.execute_notebook(\n",
    "        input_path='train_crf.ipynb',\n",
    "        output_path=os.path.join(exp['OUTPUT_DIR'], 'train_crf.ipynb'),\n",
    "        parameters=exp\n",
    "    )"
   ]
  }
 ],
 "metadata": {
  "kernelspec": {
   "display_name": "wine-recognition",
   "language": "python",
   "name": "wine-recognition"
  },
  "language_info": {
   "codemirror_mode": {
    "name": "ipython",
    "version": 3
   },
   "file_extension": ".py",
   "mimetype": "text/x-python",
   "name": "python",
   "nbconvert_exporter": "python",
   "pygments_lexer": "ipython3",
   "version": "3.9.7"
  }
 },
 "nbformat": 4,
 "nbformat_minor": 5
}
