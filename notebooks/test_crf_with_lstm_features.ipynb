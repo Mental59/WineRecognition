{
 "cells": [
  {
   "cell_type": "code",
   "execution_count": null,
   "id": "5fea23a7-2917-4c5e-a2c1-e88fc2c3a5ca",
   "metadata": {},
   "outputs": [],
   "source": [
    "%%time\n",
    "import sys\n",
    "if not r'G:\\PythonProjects\\WineRecognition2' in sys.path:\n",
    "    sys.path.insert(0, r'G:\\PythonProjects\\WineRecognition2')\n",
    "import os\n",
    "import pickle\n",
    "import json\n",
    "import torch\n",
    "import pandas as pd\n",
    "from data_master import DataGenerator\n",
    "from mlflow_utils import log_mlflow_on_test"
   ]
  },
  {
   "cell_type": "code",
   "execution_count": null,
   "id": "cacb157b-1e14-4ac3-a2fa-7439443c2764",
   "metadata": {
    "tags": [
     "parameters"
    ]
   },
   "outputs": [],
   "source": [
    "%%time\n",
    "MODEL_PATH = r\"G:/PythonProjects/WineRecognition2/artifacts/train/CRF_with_LSTM_features_17112021_170520\"\n",
    "DATASET_PATH = r\"G:\\PythonProjects\\WineRecognition2\\data\\text\\WineSearcher_Wine_AU-all_rows-all_keys.txt\"\n",
    "LSTM_MODEL_PATH = r\"G:\\PythonProjects\\WineRecognition2\\artifacts\\train\\BiLSTM_CRF_10112021_030733\\model\\data\\model.pth\"\n",
    "VOCAB_PATH = r\"G:\\PythonProjects\\WineRecognition2\\data\\vocabs\\Words_Halliday_Wine_AU.json\"\n",
    "DEVICE = 'cuda'\n",
    "OUTPUT_DIR = ''\n",
    "START_TIME = ''\n",
    "RUN_NAME = 'test_run'\n",
    "COMPUTE_METRICS = False"
   ]
  },
  {
   "cell_type": "code",
   "execution_count": null,
   "id": "fcdeb62b-7ee6-47b9-89ae-51b109d38310",
   "metadata": {},
   "outputs": [],
   "source": [
    "%%time\n",
    "with open(os.path.join(MODEL_PATH, 'model', 'model.pkl'), 'rb') as file:\n",
    "    model = pickle.load(file)\n",
    "\n",
    "bilstm_crf = torch.load(LSTM_MODEL_PATH).to(DEVICE).eval()\n",
    "with open(VOCAB_PATH, 'r', encoding='utf-8') as file:\n",
    "    word_to_ix = json.load(file)"
   ]
  },
  {
   "cell_type": "code",
   "execution_count": null,
   "id": "003e5eb4-0779-496c-ae4e-38f487397e71",
   "metadata": {},
   "outputs": [],
   "source": [
    "%%time\n",
    "# getting features from lstm\n",
    "\n",
    "def get_lstm_features(model, x):\n",
    "    x = model.embedding(x)\n",
    "    x, _ = model.lstm(x)\n",
    "    return x\n",
    "\n",
    "def features_with_keys(sentence):\n",
    "    return [{f'A{i}': feature for i, feature in enumerate(features)} for features in sentence]\n",
    "\n",
    "def is_number(s):\n",
    "    try:\n",
    "        float(s)\n",
    "        return True\n",
    "    except ValueError:\n",
    "        return False\n",
    "\n",
    "def preprocess_sent(x_sent, y_sent):\n",
    "    indices = [i for i, (x, y) in enumerate(zip(x_sent, y_sent)) if y == 'Add_BottleSize' and is_number(x)]\n",
    "    for i in indices:\n",
    "        x_sent[i] = str(float(x_sent[i]))\n",
    "\n",
    "with torch.no_grad():\n",
    "    sents = DataGenerator.generate_sents2(open(DATASET_PATH).read().split('\\n'))\n",
    "    metadata = {'features': [], 'labels': []}\n",
    "\n",
    "    for x_sent, y_sent in sents:\n",
    "        preprocess_sent(x_sent, y_sent)\n",
    "        x_tensor = torch.tensor(\n",
    "            [word_to_ix[word] if word in word_to_ix else word_to_ix['UNK'] for word in x_sent],\n",
    "            dtype=torch.int64\n",
    "        ).to(DEVICE)\n",
    "        features = get_lstm_features(bilstm_crf, x_tensor.unsqueeze(0))\n",
    "        features = features.squeeze(0).detach().cpu().numpy()\n",
    "        metadata['features'].append(features_with_keys(features))\n",
    "        metadata['labels'].append(y_sent)\n",
    "y_test = metadata['labels']\n",
    "X_test = metadata['features']\n",
    "len(X_test), len(y_test)"
   ]
  },
  {
   "cell_type": "code",
   "execution_count": null,
   "id": "8bd7aa18-66d3-4cd1-a821-260d8e7940c4",
   "metadata": {},
   "outputs": [],
   "source": [
    "%%time\n",
    "y_pred = model.predict(X_test)"
   ]
  },
  {
   "cell_type": "code",
   "execution_count": null,
   "id": "7c9deada-dc11-44da-8da4-2a0762495667",
   "metadata": {},
   "outputs": [],
   "source": [
    "%%time\n",
    "if COMPUTE_METRICS:\n",
    "    test_eval = [list(zip(sentence, tags, y_pred[index])) for index, (sentence, tags) in enumerate(sents)]  \n",
    "else:\n",
    "    test_eval = []\n",
    "    for i, (sentence, tags) in enumerate(sents):\n",
    "        dct = dict.fromkeys(model.classes_, '')\n",
    "        for j, word in enumerate(sentence):\n",
    "            if y_pred[i][j] in dct.keys():\n",
    "                dct[y_pred[i][j]] += f'{word}'\n",
    "        test_eval.append({key: value.rstrip() for key, value in dct.items()})\n",
    "    test_eval = pd.DataFrame({key: [wine.get(key) for wine in test_eval] for key in model.classes_})"
   ]
  },
  {
   "cell_type": "code",
   "execution_count": null,
   "id": "b44767e1-eba0-4b29-88d2-5faba40d9628",
   "metadata": {},
   "outputs": [],
   "source": [
    "%%time\n",
    "run_params = {\n",
    "    'model_path': MODEL_PATH,\n",
    "    'lstm_model_path': LSTM_MODEL_PATH,\n",
    "    'vocab_path': VOCAB_PATH,\n",
    "    'device': DEVICE,\n",
    "    'dataset_path': DATASET_PATH,\n",
    "    'output_dir': OUTPUT_DIR,\n",
    "    'compute_metrics': COMPUTE_METRICS,\n",
    "    'start_time': START_TIME,\n",
    "    'runname': RUN_NAME\n",
    "}"
   ]
  },
  {
   "cell_type": "code",
   "execution_count": null,
   "id": "8ed0147e-f285-4a63-9828-a5e95abf822a",
   "metadata": {
    "tags": []
   },
   "outputs": [],
   "source": [
    "log_mlflow_on_test(\n",
    "    run_params=run_params,\n",
    "    model=model,\n",
    "    y_true=y_test,\n",
    "    y_pred=y_pred,\n",
    "    test_eval=test_eval\n",
    ")"
   ]
  },
  {
   "cell_type": "code",
   "execution_count": null,
   "id": "b07d8fca-a4af-4123-b5cf-01a6ce3b9ed9",
   "metadata": {},
   "outputs": [],
   "source": []
  }
 ],
 "metadata": {
  "kernelspec": {
   "display_name": "wine-recognition",
   "language": "python",
   "name": "wine-recognition"
  },
  "language_info": {
   "codemirror_mode": {
    "name": "ipython",
    "version": 3
   },
   "file_extension": ".py",
   "mimetype": "text/x-python",
   "name": "python",
   "nbconvert_exporter": "python",
   "pygments_lexer": "ipython3",
   "version": "3.9.7"
  }
 },
 "nbformat": 4,
 "nbformat_minor": 5
}
