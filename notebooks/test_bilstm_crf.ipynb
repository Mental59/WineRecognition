{
 "cells": [
  {
   "cell_type": "code",
   "execution_count": 1,
   "id": "92e2b82f-b192-461c-a8a8-da4f40165fb6",
   "metadata": {},
   "outputs": [],
   "source": [
    "import sys\n",
    "import json\n",
    "import torch\n",
    "\n",
    "if r'G:\\PythonProjects\\WineRecognition2' not in sys.path:\n",
    "    sys.path.insert(0, r'G:\\PythonProjects\\WineRecognition2')\n",
    "\n",
    "from nn.utils import generate_tag_to_ix\n",
    "from nn.mlflow_utils import log_mlflow_on_test"
   ]
  },
  {
   "cell_type": "code",
   "execution_count": 2,
   "id": "97acfe66-e72e-4f08-a194-e0f966036996",
   "metadata": {
    "tags": [
     "parameters"
    ]
   },
   "outputs": [],
   "source": [
    "MODEL_NAME = 'BiLSTM_CRF'\n",
    "MODEL_PATH = 'G:/PythonProjects/WineRecognition2/artifacts/train/BiLSTM_CRF_10112021_032950/model/data/model.pth'\n",
    "RUN_NAME = 'Test-100-256'\n",
    "START_TIME = ''\n",
    "OUTPUT_DIR = 'G:/PythonProjects/WineRecognition2/artifacts/test/test'\n",
    "DATA_PATH = 'G:/PythonProjects/WineRecognition2/data/menus/Wines.txt'\n",
    "VOCAB_PATH = 'G:/PythonProjects/WineRecognition2/data/vocabs/Words_Halliday_Wine_AU.json'\n",
    "DATAINFO_PATH = 'G:/PythonProjects/WineRecognition2/data_info.json'\n",
    "DEVICE = 'cpu'"
   ]
  },
  {
   "cell_type": "code",
   "execution_count": 3,
   "id": "02a2d554-8ec8-4663-b1d8-10d0e7eb6f42",
   "metadata": {},
   "outputs": [
    {
     "data": {
      "text/plain": [
       "12139"
      ]
     },
     "execution_count": 3,
     "metadata": {},
     "output_type": "execute_result"
    }
   ],
   "source": [
    "with open(VOCAB_PATH, 'r', encoding='utf-8') as file:\n",
    "    word_to_ix = json.load(file)\n",
    "len(word_to_ix)"
   ]
  },
  {
   "cell_type": "code",
   "execution_count": 4,
   "id": "05397125-1258-4639-b4b1-250c061dddb3",
   "metadata": {
    "tags": []
   },
   "outputs": [],
   "source": [
    "x_test = []\n",
    "for line in open(DATA_PATH, encoding='utf-8'):\n",
    "    line = line.strip()\n",
    "    if line.startswith('http') or not line:\n",
    "        continue\n",
    "    x_test.append(line.split())"
   ]
  },
  {
   "cell_type": "code",
   "execution_count": 5,
   "id": "57cded28-eff2-4b6d-8f2c-34cad2e5421a",
   "metadata": {
    "tags": []
   },
   "outputs": [],
   "source": [
    "x_tensor = []\n",
    "for index, line in enumerate(x_test):\n",
    "    x_tensor.append(torch.tensor([word_to_ix[word] if word in word_to_ix else word_to_ix['UNK'] for word in line], dtype=torch.int64))\n",
    "x_tensor"
   ]
  },
  {
   "cell_type": "code",
   "execution_count": 6,
   "id": "8fe566a8-c271-4f0b-9abf-3fdd6e6b3b92",
   "metadata": {},
   "outputs": [
    {
     "data": {
      "text/plain": [
       "BiLSTM_CRF(\n",
       "  (embedding): Embedding(12139, 256, padding_idx=12137)\n",
       "  (lstm): LSTM(256, 64, batch_first=True, bidirectional=True)\n",
       "  (hidden2tags): Linear(in_features=128, out_features=15, bias=True)\n",
       "  (crf): CRF(num_tags=15)\n",
       ")"
      ]
     },
     "execution_count": 6,
     "metadata": {},
     "output_type": "execute_result"
    }
   ],
   "source": [
    "model = torch.load(MODEL_PATH).to(DEVICE)\n",
    "model.eval()"
   ]
  },
  {
   "cell_type": "code",
   "execution_count": 7,
   "id": "ca7b5d44-2e38-4613-9eb5-9e8725887533",
   "metadata": {},
   "outputs": [
    {
     "name": "stderr",
     "output_type": "stream",
     "text": [
      "D:\\ProgramFiles\\anaconda3\\envs\\wine-recognition\\lib\\site-packages\\torchcrf\\__init__.py:305: UserWarning: where received a uint8 condition tensor. This behavior is deprecated and will be removed in a future version of PyTorch. Use a boolean condition instead. (Triggered internally at  ..\\aten\\src\\ATen\\native\\TensorCompare.cpp:328.)\n",
      "  score = torch.where(mask[i].unsqueeze(1), next_score, score)\n"
     ]
    }
   ],
   "source": [
    "y_pred = []\n",
    "with torch.no_grad():\n",
    "    for input in x_tensor:\n",
    "        input = input.to(DEVICE)\n",
    "        y_pred.append(model(input.unsqueeze(0)))"
   ]
  },
  {
   "cell_type": "code",
   "execution_count": 8,
   "id": "508338cb-062a-4001-85cb-cbc43191428b",
   "metadata": {
    "tags": []
   },
   "outputs": [
    {
     "data": {
      "text/plain": [
       "{0: 'Add_TradeName',\n",
       " 1: 'Add_Brand',\n",
       " 2: 'Add_KeyWordTrue',\n",
       " 3: 'Add_KeyWordFalse',\n",
       " 4: 'Add_GrapeVarieties',\n",
       " 5: 'Add_GeoIndication',\n",
       " 6: 'Add_WineType',\n",
       " 7: 'Add_BottleSize',\n",
       " 8: 'Add_Sweetness',\n",
       " 9: 'Add_WineColor',\n",
       " 10: 'Add_ClosureType',\n",
       " 11: 'Add_Certificate',\n",
       " 12: 'Add_Vintage',\n",
       " 13: 'Add_Price',\n",
       " 14: 'Punctuation'}"
      ]
     },
     "execution_count": 8,
     "metadata": {},
     "output_type": "execute_result"
    }
   ],
   "source": [
    "with open(DATAINFO_PATH) as file:\n",
    "    tag_to_ix = generate_tag_to_ix(json.load(file)['keys']['all'] + ['Punctuation'])\n",
    "ix_to_tag = {value: key for key, value in tag_to_ix.items()}\n",
    "ix_to_tag"
   ]
  },
  {
   "cell_type": "code",
   "execution_count": 9,
   "id": "f94d518b-8226-4e33-a630-4a8f8f4c39a5",
   "metadata": {},
   "outputs": [],
   "source": [
    "for index, pred in enumerate(y_pred):\n",
    "    y_pred[index] = [ix_to_tag[tag] for tag in pred[0]]"
   ]
  },
  {
   "cell_type": "code",
   "execution_count": 10,
   "id": "e9170098-8b1c-4eaa-9735-6c7136cb51fa",
   "metadata": {},
   "outputs": [],
   "source": [
    "run_params = {\n",
    "    'model_name': MODEL_NAME,\n",
    "    'model_path': MODEL_PATH,\n",
    "    'run_name': RUN_NAME,\n",
    "    'start_time': START_TIME,\n",
    "    'output_dir': OUTPUT_DIR,\n",
    "    'data_path': DATA_PATH,\n",
    "    'vocab_path': VOCAB_PATH,\n",
    "    'datainfo_path': DATAINFO_PATH,\n",
    "    'device': DEVICE\n",
    "}"
   ]
  },
  {
   "cell_type": "code",
   "execution_count": 11,
   "id": "45015e48-02a1-4971-a872-240680f31a2d",
   "metadata": {
    "collapsed": true,
    "jupyter": {
     "outputs_hidden": true
    },
    "tags": []
   },
   "outputs": [
    {
     "name": "stdout",
     "output_type": "stream",
     "text": [
      "['%-20s', '%-20s', '%-20s', '%-20s', '%-20s', '%-20s', '%-20s', '%-20s', '%-20s', '%-20s']\n",
      "['Add_Vintage', 'Add_TradeName', 'Add_GeoIndication', 'Add_GeoIndication', 'Add_KeyWordTrue', 'Add_GeoIndication', 'Add_GeoIndication', 'Add_GrapeVarieties', 'Add_GrapeVarieties', 'Add_KeyWordTrue']\n",
      "['2018', 'Oakridge', 'Yarra', 'Valley', 'Series', 'Yarra', 'Valley', 'Pinot', 'Noir', '75']\n",
      "['%-20s', '%-20s', '%-20s', '%-20s', '%-20s', '%-20s', '%-20s', '%-20s', '%-20s', '%-20s']\n",
      "['Add_Vintage', 'Add_TradeName', 'Add_TradeName', 'Add_KeyWordTrue', 'Add_KeyWordFalse', 'Add_GeoIndication', 'Add_GeoIndication', 'Add_GrapeVarieties', 'Add_GrapeVarieties', 'Add_BottleSize']\n",
      "['2018', 'Giant', 'Steps', 'Nocton', 'Vineyard', 'Yarra', 'Valley', 'Pinot', 'Noir', '155']\n",
      "['%-20s', '%-20s', '%-20s', '%-20s', '%-20s', '%-20s', '%-20s', '%-20s']\n",
      "['Add_Vintage', 'Add_TradeName', 'Add_TradeName', 'Add_GeoIndication', 'Add_GeoIndication', 'Add_GrapeVarieties', 'Add_GrapeVarieties', 'Add_BottleSize']\n",
      "['2017', 'Mount', 'Mary', 'Yarra', 'Valley', 'Pinot', 'Noir', '370']\n",
      "['%-20s', '%-20s', '%-20s', '%-20s', '%-20s', '%-20s', '%-20s', '%-20s']\n",
      "['Add_Vintage', 'Add_TradeName', 'Add_TradeName', 'Add_GeoIndication', 'Add_GeoIndication', 'Add_GrapeVarieties', 'Add_GrapeVarieties', 'Add_BottleSize']\n",
      "['2017', 'Cobaw', 'Ridge', 'Macedon', 'Ranges', 'Pinot', 'Noir', '155']\n",
      "['%-20s', '%-20s', '%-20s', '%-20s', '%-20s', '%-20s', '%-20s', '%-20s', '%-20s']\n",
      "['Add_Vintage', 'Add_TradeName', 'Add_TradeName', 'Add_KeyWordTrue', 'Add_GeoIndication', 'Add_GeoIndication', 'Add_GrapeVarieties', 'Add_GrapeVarieties', 'Add_KeyWordTrue']\n",
      "['2018', 'Bindi', 'Block', '5', 'Macedon', 'Ranges', 'Pinot', 'Noir', '310']\n",
      "['%-20s', '%-20s', '%-20s', '%-20s', '%-20s', '%-20s', '%-20s', '%-20s', '%-20s', '%-20s', '%-20s']\n",
      "['Add_Vintage', 'Add_TradeName', 'Add_TradeName', 'Add_TradeName', 'Add_KeyWordTrue', 'Add_KeyWordTrue', 'Add_KeyWordTrue', 'Add_GrapeVarieties', 'Add_GrapeVarieties', 'Add_KeyWordTrue', 'Add_BottleSize']\n",
      "['2017', \"Best's\", 'Great', 'Western', 'Old', 'Vine', 'Great', 'Pinot', 'Meunier', 'Western', '215']\n",
      "['%-20s', '%-20s', '%-20s', '%-20s', '%-20s', '%-20s']\n",
      "['Add_Vintage', 'Add_TradeName', 'Add_GeoIndication', 'Add_GeoIndication', 'Add_GrapeVarieties', 'Add_BottleSize']\n",
      "['2018', 'Rising', 'Yarra', 'Valley', 'Gamay', '85']\n",
      "['%-20s', '%-20s', '%-20s', '%-20s', '%-20s', '%-20s', '%-20s', '%-20s']\n",
      "['Add_Vintage', 'Add_TradeName', 'Add_TradeName', 'Add_KeyWordTrue', 'Add_GeoIndication', 'Add_GeoIndication', 'Add_KeyWordTrue', 'Add_BottleSize']\n",
      "['2017', 'Lakes', 'Folly', 'Cabernets', 'Hunter', 'Valley', 'Cabernets', '270']\n",
      "['%-20s', '%-20s', '%-20s', '%-20s', '%-20s', '%-20s', '%-20s', '%-20s']\n",
      "['Add_Vintage', 'Add_TradeName', 'Add_GrapeVarieties', 'Add_KeyWordTrue', 'Add_GeoIndication', 'Add_GeoIndication', 'Add_KeyWordTrue', 'Add_BottleSize']\n",
      "['2016', 'Yeringberg', 'Cabernet', 'Blend', 'Yarra', 'Valley', 'Cabernets', '210']\n",
      "['%-20s', '%-20s', '%-20s', '%-20s', '%-20s', '%-20s', '%-20s', '%-20s']\n",
      "['Add_Vintage', 'Add_TradeName', 'Add_TradeName', 'Add_KeyWordTrue', 'Add_GeoIndication', 'Add_GeoIndication', 'Add_KeyWordTrue', 'Add_KeyWordTrue']\n",
      "['2016', 'Mount', 'Pleasant', 'Philip', 'Hunter', 'Valley', 'SHIRAZ', '75']\n",
      "['%-20s', '%-20s', '%-20s', '%-20s', '%-20s', '%-20s', '%-20s', '%-20s', '%-20s', '%-20s']\n",
      "['Add_TradeName', 'Punctuation', 'Add_Brand', 'Add_GrapeVarieties', 'Add_KeyWordTrue', 'Add_KeyWordTrue', 'Add_GeoIndication', 'Add_GeoIndication', 'Add_BottleSize', 'Add_Price']\n",
      "['Dunes', '&', 'Greene', 'Chardonnay', 'Pinot', 'NV', 'Eden', 'Valley', 'SA', '9/40']\n",
      "['%-20s', '%-20s', '%-20s', '%-20s', '%-20s', '%-20s', '%-20s']\n",
      "['Add_TradeName', 'Add_TradeName', 'Add_GrapeVarieties', 'Add_GeoIndication', 'Add_GeoIndication', 'Add_BottleSize', 'Add_KeyWordTrue']\n",
      "['Stomp', 'Sparkling', 'Verdelho', 'Hunter', 'Valley', 'NSW', '60']\n",
      "['%-20s', '%-20s', '%-20s', '%-20s', '%-20s', '%-20s', '%-20s', '%-20s']\n",
      "['Add_TradeName', 'Punctuation', 'Add_Brand', 'Add_GrapeVarieties', 'Add_GeoIndication', 'Add_GeoIndication', 'Add_BottleSize', 'Add_Price']\n",
      "['Dunes', '&', 'Greene', 'Prosecco', 'Eden', 'Valley', 'SA', '9/40']\n",
      "['%-20s', '%-20s', '%-20s', '%-20s', '%-20s']\n",
      "['Add_TradeName', 'Add_TradeName', 'Add_Brand', 'Add_GeoIndication', 'Add_BottleSize']\n",
      "['Jansz', 'Premium', 'Cuvée', 'Tasmania', '14/65']\n",
      "['%-20s', '%-20s', '%-20s', '%-20s', '%-20s', '%-20s', '%-20s']\n",
      "['Add_TradeName', 'Add_TradeName', 'Add_Sweetness', 'Add_GeoIndication', 'Add_GeoIndication', 'Add_GeoIndication', 'Add_KeyWordTrue']\n",
      "['Chandon', 'NV', 'Brut', 'Yarra', 'Valley', 'Victoria', '75']\n",
      "['%-20s', '%-20s', '%-20s', '%-20s', '%-20s', '%-20s', '%-20s']\n",
      "['Add_TradeName', 'Punctuation', 'Add_Brand', 'Add_Brand', 'Add_Sweetness', 'Add_BottleSize', 'Add_Price']\n",
      "['Moet', '&', 'Chandon', 'Imperial', 'Brut', 'France', '180']\n",
      "['%-20s', '%-20s', '%-20s', '%-20s', '%-20s', '%-20s', '%-20s']\n",
      "['Add_TradeName', 'Add_WineType', 'Add_GrapeVarieties', 'Add_GeoIndication', 'Add_GeoIndication', 'Add_BottleSize', 'Add_Brand']\n",
      "['Bleasdale', 'Sparkling', 'Shiraz', 'Langhorne', 'Creek', 'SA', '50']\n",
      "['%-20s', '%-20s', '%-20s', '%-20s', '%-20s', '%-20s', '%-20s']\n",
      "['Add_TradeName', 'Add_KeyWordTrue', 'Add_KeyWordTrue', 'Add_GrapeVarieties', 'Add_GeoIndication', 'Add_BottleSize', 'Add_Price']\n",
      "['Taltarni', 'Vintage', 'Cuvee', 'Rose', 'Pyrenees', 'VIC', '70']\n",
      "['%-20s', '%-20s', '%-20s', '%-20s', '%-20s', '%-20s', '%-20s', '%-20s', '%-20s', '%-20s']\n",
      "['Add_Vintage', 'Add_TradeName', 'Add_TradeName', 'Add_Brand', 'Add_Brand', 'Add_GrapeVarieties', 'Add_Vintage', 'Add_TradeName', 'Add_TradeName', 'Add_Price']\n",
      "['2019', 'Spring', 'Seed', 'Sweet', 'Pea', 'Moscato', '9/39', 'McLaren', 'Vale', 'SA']\n",
      "['%-20s', '%-20s', '%-20s', '%-20s', '%-20s', '%-20s', '%-20s']\n",
      "['Add_Vintage', 'Add_TradeName', 'Add_GrapeVarieties', 'Add_KeyWordTrue', 'Add_KeyWordTrue', 'Add_BottleSize', 'Add_KeyWordTrue']\n",
      "['2018', 'Pizzini', 'Prosecco', '10/46', 'King', 'Valley,', 'VIC']\n",
      "['%-20s', '%-20s', '%-20s', '%-20s', '%-20s', '%-20s', '%-20s', '%-20s']\n",
      "['Add_Vintage', 'Add_TradeName', 'Add_GrapeVarieties', 'Add_GrapeVarieties', 'Add_KeyWordTrue', 'Add_KeyWordTrue', 'Add_BottleSize', 'Add_KeyWordTrue']\n",
      "['2019', 'Pizzini', 'Sauvignon', 'Blanc', '10/46', 'King', 'Valley,', 'VIC']\n",
      "['%-20s', '%-20s', '%-20s', '%-20s', '%-20s', '%-20s', '%-20s', '%-20s']\n",
      "['Add_Vintage', 'Add_TradeName', 'Add_GrapeVarieties', 'Add_GrapeVarieties', 'Add_BottleSize', 'Add_Brand', 'Add_Vintage', 'Add_Price']\n",
      "['2018', 'Pizzini', 'Pinot', 'Grigio', '10/46', 'King', 'Valley,', 'VIC']\n",
      "['%-20s', '%-20s', '%-20s', '%-20s', '%-20s', '%-20s', '%-20s', '%-20s']\n",
      "['Add_Vintage', 'Add_TradeName', 'Add_TradeName', 'Add_Brand', 'Add_KeyWordTrue', 'Add_KeyWordTrue', 'Add_KeyWordTrue', 'Add_KeyWordTrue']\n",
      "['2018', 'Wyanga', 'Gewurtztraminer', '9/39', 'Dry,', 'Spicy,', 'Locally', 'Grown']\n",
      "['%-20s', '%-20s', '%-20s', '%-20s', '%-20s', '%-20s', '%-20s', '%-20s']\n",
      "['Add_Vintage', 'Add_TradeName', 'Punctuation', 'Add_TradeName', 'Add_GrapeVarieties', 'Add_BottleSize', 'Add_Vintage', 'Add_Price']\n",
      "['2018', 'Lightfoot', '&', 'Sons', 'Chardonnay', '12/49', 'Bairnsdale,', 'VIC']\n",
      "['%-20s', '%-20s', '%-20s', '%-20s', '%-20s', '%-20s', '%-20s']\n",
      "['Add_Vintage', 'Add_TradeName', 'Add_GrapeVarieties', 'Add_KeyWordTrue', 'Add_KeyWordTrue', 'Add_BottleSize', 'Add_Price']\n",
      "['2016', 'Wyanga', 'Rose', '9/39', 'Lakes', 'Entrance,', 'VIC']\n",
      "['%-20s', '%-20s', '%-20s', '%-20s', '%-20s', '%-20s', '%-20s', '%-20s', '%-20s']\n",
      "['Add_Vintage', 'Add_TradeName', 'Punctuation', 'Add_TradeName', 'Add_GrapeVarieties', 'Add_GrapeVarieties', 'Add_KeyWordTrue', 'Add_KeyWordTrue', 'Add_KeyWordTrue']\n",
      "['2016', 'Lightfoot', '&', 'Sons', 'Pinot', 'Noir', '12/49', 'Bairnsdale,', 'VIC']\n",
      "['%-20s', '%-20s', '%-20s', '%-20s', '%-20s', '%-20s', '%-20s', '%-20s']\n",
      "['Add_Vintage', 'Add_TradeName', 'Add_TradeName', 'Add_GrapeVarieties', 'Add_BottleSize', 'Add_KeyWordTrue', 'Add_KeyWordTrue', 'Add_KeyWordTrue']\n",
      "['2015', 'Mr', 'Mick', 'Shiraz', '10/46', 'Clare', 'Valley,', 'SA']\n",
      "['%-20s', '%-20s', '%-20s', '%-20s', '%-20s', '%-20s', '%-20s', '%-20s']\n",
      "['Add_Vintage', 'Add_TradeName', 'Punctuation', 'Add_TradeName', 'Add_GrapeVarieties', 'Add_BottleSize', 'Add_BottleSize', 'Add_Price']\n",
      "['2016', 'Lightfoot', '&', 'Sons', 'Shiraz', '10/45', 'Bairnsdale,', 'VIC']\n",
      "['%-20s', '%-20s', '%-20s', '%-20s', '%-20s', '%-20s']\n",
      "['Add_TradeName', 'Add_KeyWordTrue', 'Add_GrapeVarieties', 'Add_GrapeVarieties', 'Add_BottleSize', 'Add_Price']\n",
      "['821', 'South', 'Sauvignon', 'Blanc', '–', 'Glass']\n",
      "['%-20s', '%-20s', '%-20s', '%-20s', '%-20s', '%-20s']\n",
      "['Add_TradeName', 'Add_Brand', 'Add_GrapeVarieties', 'Add_GrapeVarieties', 'Add_BottleSize', 'Add_Price']\n",
      "['Cape', 'Schanck', 'Pinot', 'Grigio', '–', 'Glass']\n",
      "['%-20s', '%-20s', '%-20s', '%-20s', '%-20s']\n",
      "['Add_TradeName', 'Add_Brand', 'Add_Brand', 'Add_Brand', 'Add_Brand']\n",
      "['The', 'Stag', 'Rose', '–', 'Glass']\n",
      "['%-20s', '%-20s', '%-20s', '%-20s', '%-20s', '%-20s']\n",
      "['Add_TradeName', 'Add_Brand', 'Add_GrapeVarieties', 'Add_GrapeVarieties', 'Add_BottleSize', 'Add_Price']\n",
      "['CAPE', 'Schanck', 'Pinot', 'Noir', '–', 'Glass']\n",
      "['%-20s', '%-20s', '%-20s', '%-20s', '%-20s']\n",
      "['Add_TradeName', 'Add_Brand', 'Add_GrapeVarieties', 'Add_BottleSize', 'Add_Price']\n",
      "['Saltram', '1859', 'Shiraz', '–', 'Glass']\n",
      "['%-20s', '%-20s', '%-20s', '%-20s', '%-20s', '%-20s']\n",
      "['Add_TradeName', 'Add_KeyWordTrue', 'Add_GrapeVarieties', 'Add_GrapeVarieties', 'Add_BottleSize', 'Add_KeyWordTrue']\n",
      "['821', 'South', 'Sauvignon', 'Blanc', '–', 'Bottle']\n",
      "['%-20s', '%-20s', '%-20s', '%-20s', '%-20s', '%-20s']\n",
      "['Add_TradeName', 'Add_Brand', 'Add_GrapeVarieties', 'Add_GrapeVarieties', 'Add_BottleSize', 'Add_Price']\n",
      "['Cape', 'Schanck', 'Pinot', 'Grigio', '–', 'Bottle']\n",
      "['%-20s', '%-20s', '%-20s', '%-20s', '%-20s']\n",
      "['Add_TradeName', 'Add_Brand', 'Add_GrapeVarieties', 'Add_Price', 'Add_KeyWordTrue']\n",
      "['The', 'Stag', 'Rose', '–', 'Bottle']\n",
      "['%-20s', '%-20s', '%-20s', '%-20s', '%-20s', '%-20s']\n",
      "['Add_TradeName', 'Add_Brand', 'Add_GrapeVarieties', 'Add_GrapeVarieties', 'Add_BottleSize', 'Add_GeoIndication']\n",
      "['Cape', 'Schanck', 'Pinot', 'Noir', '–', 'Bottle']\n",
      "['%-20s', '%-20s', '%-20s', '%-20s', '%-20s']\n",
      "['Add_TradeName', 'Add_Brand', 'Add_GrapeVarieties', 'Add_BottleSize', 'Add_Price']\n",
      "['Saltram', '1859', 'Shiraz', '–', 'Bottle']\n",
      "['%-20s', '%-20s', '%-20s', '%-20s', '%-20s', '%-20s', '%-20s', '%-20s', '%-20s', '%-20s', '%-20s', '%-20s', '%-20s']\n",
      "['Add_TradeName', 'Add_TradeName', 'Add_GrapeVarieties', 'Add_GrapeVarieties', 'Add_GrapeVarieties', 'Punctuation', 'Add_GeoIndication', 'Add_Vintage', 'Add_TradeName', 'Add_Brand', 'Add_KeyWordTrue', 'Add_BottleSize', 'Add_Price']\n",
      "['2020', 'Spinifex', 'Mataro', 'Grenache', 'Cinsault', '-', 'Barossa', 'Valley,', 'SA', 'Rose', '150', 'mL', '17']\n",
      "['%-20s', '%-20s', '%-20s', '%-20s', '%-20s', '%-20s', '%-20s', '%-20s', '%-20s', '%-20s', '%-20s', '%-20s', '%-20s', '%-20s', '%-20s', '%-20s', '%-20s']\n",
      "['Add_TradeName', 'Add_TradeName', 'Add_Brand', 'Punctuation', 'Add_Brand', 'Add_GrapeVarieties', 'Add_GrapeVarieties', 'Punctuation', 'Add_KeyWordTrue', 'Add_GeoIndication', 'Add_Brand', 'Add_Brand', 'Add_KeyWordTrue', 'Add_KeyWordTrue', 'Add_KeyWordTrue', 'Add_BottleSize', 'Add_GeoIndication']\n",
      "['2020', 'Margan', 'Rose', '&', 'Bramble', 'Merlot', 'Barbera', '-', 'Broke,', 'Hunter', 'Valley,', 'NSW', '(off-dry)', 'Rose', '150', 'mL', '15']\n",
      "['%-20s', '%-20s', '%-20s', '%-20s', '%-20s', '%-20s', '%-20s', '%-20s', '%-20s']\n",
      "['Add_Vintage', 'Add_GrapeVarieties', 'Add_GrapeVarieties', 'Add_Price', 'Punctuation', 'Add_GeoIndication', 'Add_KeyWordTrue', 'Add_BottleSize', 'Add_Price']\n",
      "['2018', 'Pinot', 'Noir', 'Dalyrmple', '-', 'Tasmania', '150', 'mL', '19']\n",
      "['%-20s', '%-20s', '%-20s', '%-20s', '%-20s', '%-20s', '%-20s', '%-20s', '%-20s', '%-20s', '%-20s', '%-20s']\n",
      "['Add_Vintage', 'Add_GrapeVarieties', 'Add_GrapeVarieties', 'Add_KeyWordTrue', 'Add_KeyWordTrue', 'Add_KeyWordTrue', 'Punctuation', 'Add_BottleSize', 'Add_Vintage', 'Add_TradeName', 'Add_Price', 'Add_KeyWordTrue']\n",
      "['2015', 'Pinot', 'Noir', 'De', 'Salis', 'Lofty', '-', 'Orange,', 'NSW', '150', 'mL', '25']\n",
      "['%-20s', '%-20s', '%-20s', '%-20s', '%-20s', '%-20s', '%-20s', '%-20s', '%-20s', '%-20s', '%-20s', '%-20s']\n",
      "['Add_Vintage', 'Add_TradeName', 'Add_Brand', 'Add_Brand', 'Punctuation', 'Add_GeoIndication', 'Add_TradeName', 'Add_Brand', 'Add_GrapeVarieties', 'Add_KeyWordTrue', 'Add_BottleSize', 'Add_GeoIndication']\n",
      "['2014', 'Scarborough', 'Black', 'Label', '-', 'Hunter', 'Valley,', 'NSW', 'Shiraz', '150', 'mL', '15']\n"
     ]
    }
   ],
   "source": [
    "log_mlflow_on_test(\n",
    "    run_params,\n",
    "    classes=list(ix_to_tag.values()),\n",
    "    x=x_test,\n",
    "    y=y_pred\n",
    ")"
   ]
  }
 ],
 "metadata": {
  "kernelspec": {
   "display_name": "wine-recognition",
   "language": "python",
   "name": "wine-recognition"
  },
  "language_info": {
   "codemirror_mode": {
    "name": "ipython",
    "version": 3
   },
   "file_extension": ".py",
   "mimetype": "text/x-python",
   "name": "python",
   "nbconvert_exporter": "python",
   "pygments_lexer": "ipython3",
   "version": "3.9.7"
  }
 },
 "nbformat": 4,
 "nbformat_minor": 5
}
