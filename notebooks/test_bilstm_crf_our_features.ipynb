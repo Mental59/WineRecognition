{
 "cells": [
  {
   "cell_type": "code",
   "execution_count": 1,
   "id": "92e2b82f-b192-461c-a8a8-da4f40165fb6",
   "metadata": {},
   "outputs": [],
   "source": [
    "import sys\n",
    "import json\n",
    "import string\n",
    "import torch\n",
    "from torch.utils.data import DataLoader\n",
    "import numpy as np\n",
    "\n",
    "if r'G:\\PythonProjects\\WineRecognition2' not in sys.path:\n",
    "    sys.path.insert(0, r'G:\\PythonProjects\\WineRecognition2')\n",
    "\n",
    "from nn.utils import generate_tag_to_ix, get_model_confidence, CustomDataset\n",
    "from nn.mlflow_utils import log_mlflow_on_test\n",
    "from data_master import DataGenerator, count_unk_foreach_tag, DataLoader as data_loader"
   ]
  },
  {
   "cell_type": "code",
   "execution_count": null,
   "id": "97acfe66-e72e-4f08-a194-e0f966036996",
   "metadata": {
    "tags": [
     "parameters"
    ]
   },
   "outputs": [],
   "source": [
    "MODEL_NAME = 'BiLSTM_CRF'\n",
    "MODEL_PATH = 'G:/PythonProjects/WineRecognition2/artifacts/train/BiLSTM_CRF_17122021_120300/model/data/model.pth'\n",
    "RUN_NAME = 'Test-100-256'\n",
    "START_TIME = ''\n",
    "OUTPUT_DIR = 'G:/PythonProjects/WineRecognition2/artifacts/test/test'\n",
    "DATA_PATH = r'G:\\PythonProjects\\WineRecognition2\\data\\text\\menu_txt_tagged.txt'\n",
    "VOCAB_PATH = 'G:/PythonProjects/WineRecognition2/data/vocabs/Words_Halliday_Wine_AU.json'\n",
    "DATAINFO_PATH = 'G:/PythonProjects/WineRecognition2/data_info.json'\n",
    "DICTIONARY_PATH = r'G:\\PythonProjects\\WineRecognition2\\data\\dictionaries\\Dict-byword_Halliday_Winesearcher_Wine_AU-only_completed_rows'\n",
    "COMPUTE_METRICS = True\n",
    "CASE_SENSITIVE_VOCAB = True\n",
    "USE_NUM2WORDS = False\n",
    "DEVICE = 'cpu'"
   ]
  },
  {
   "cell_type": "code",
   "execution_count": null,
   "id": "02a2d554-8ec8-4663-b1d8-10d0e7eb6f42",
   "metadata": {},
   "outputs": [],
   "source": [
    "with open(VOCAB_PATH, 'r', encoding='utf-8') as file:\n",
    "    word_to_ix = json.load(file)\n",
    "freq_dict = data_loader.load_frequency_dictionary(DICTIONARY_PATH, to_lowercase=True)\n",
    "len(word_to_ix)"
   ]
  },
  {
   "cell_type": "code",
   "execution_count": null,
   "id": "7ed386ba-4fe2-4492-bea0-1ed764ba9f2c",
   "metadata": {},
   "outputs": [],
   "source": [
    "with open(DATAINFO_PATH) as file:\n",
    "    keys = json.load(file)['keys']['all']\n",
    "    \n",
    "if not COMPUTE_METRICS:\n",
    "    keys.append('UNKNOWN')\n",
    "tag_to_ix = generate_tag_to_ix(keys)\n",
    "\n",
    "ix_to_tag = {value: key for key, value in tag_to_ix.items()}\n",
    "ix_to_tag"
   ]
  },
  {
   "cell_type": "code",
   "execution_count": null,
   "id": "d9823680-213b-4100-af23-6bc0d04420b4",
   "metadata": {},
   "outputs": [],
   "source": [
    "with open(DATA_PATH, encoding='utf-8') as file:\n",
    "    x_test = DataGenerator.generate_sents2(file.read().split('\\n'))\n",
    "len(x_test)"
   ]
  },
  {
   "cell_type": "code",
   "execution_count": null,
   "id": "96a5727d-4093-4c21-a6a8-fbaf3ecc76dc",
   "metadata": {},
   "outputs": [],
   "source": [
    "dataset = CustomDataset(\n",
    "    x_test, tag_to_ix, word_to_ix, freq_dict=freq_dict, case_sensitive=CASE_SENSITIVE_VOCAB, convert_nums2words=USE_NUM2WORDS\n",
    ")\n",
    "y_test = [tags for _, tags in dataset.raw_data()]\n",
    "dataloader = DataLoader(dataset, batch_size=2048, shuffle=False, drop_last=False)\n",
    "len(dataset), len(dataloader)"
   ]
  },
  {
   "cell_type": "code",
   "execution_count": null,
   "id": "8fe566a8-c271-4f0b-9abf-3fdd6e6b3b92",
   "metadata": {},
   "outputs": [],
   "source": [
    "model = torch.load(MODEL_PATH).to(DEVICE).eval()"
   ]
  },
  {
   "cell_type": "code",
   "execution_count": null,
   "id": "1583460b-ff48-4567-b152-ef80ee404159",
   "metadata": {},
   "outputs": [],
   "source": [
    "y_pred = []\n",
    "with torch.no_grad():\n",
    "    for x, tags, mask, custom_features in dataloader:\n",
    "        x = x.to(DEVICE)\n",
    "        mask = mask.to(DEVICE)\n",
    "        custom_features = custom_features.to(DEVICE)\n",
    "        best_tag_seq = model(x, mask, custom_features)\n",
    "        y_pred.extend(best_tag_seq)"
   ]
  },
  {
   "cell_type": "code",
   "execution_count": null,
   "id": "6c046cb5-2d58-42bf-a57a-203e07237ad2",
   "metadata": {},
   "outputs": [],
   "source": [
    "X_test_tensor = [\n",
    "    torch.tensor(dataset.sentence_to_indices(sentence), dtype=torch.int64) for sentence, _ in dataset.raw_data()\n",
    "]"
   ]
  },
  {
   "cell_type": "code",
   "execution_count": null,
   "id": "c52263cc-e829-4283-b1f9-dee833be8e42",
   "metadata": {},
   "outputs": [],
   "source": [
    "confs = get_model_confidence(model, X_test_tensor, DEVICE, custom_features=dataset.custom_features)"
   ]
  },
  {
   "cell_type": "code",
   "execution_count": null,
   "id": "2fd8848e-4e49-4aeb-942e-9c5125abb8f9",
   "metadata": {},
   "outputs": [],
   "source": [
    "unk_foreach_tag = count_unk_foreach_tag(X_test_tensor, y_test, list(tag_to_ix), dataset.word_to_ix[dataset.unk])"
   ]
  },
  {
   "cell_type": "code",
   "execution_count": null,
   "id": "f94d518b-8226-4e33-a630-4a8f8f4c39a5",
   "metadata": {},
   "outputs": [],
   "source": [
    "for index, pred in enumerate(y_pred):\n",
    "    y_pred[index] = [ix_to_tag[tag] for tag in pred]"
   ]
  },
  {
   "cell_type": "code",
   "execution_count": null,
   "id": "e9170098-8b1c-4eaa-9735-6c7136cb51fa",
   "metadata": {},
   "outputs": [],
   "source": [
    "run_params = {\n",
    "    'model_name': MODEL_NAME,\n",
    "    'model_path': MODEL_PATH,\n",
    "    'run_name': RUN_NAME,\n",
    "    'start_time': START_TIME,\n",
    "    'output_dir': OUTPUT_DIR,\n",
    "    'data_path': DATA_PATH,\n",
    "    'vocab_path': VOCAB_PATH,\n",
    "    'datainfo_path': DATAINFO_PATH,\n",
    "    'case_sensitive_vocab': CASE_SENSITIVE_VOCAB,\n",
    "    'device': DEVICE,\n",
    "    'models_confidence': np.mean(confs),\n",
    "    'compute_metrics': COMPUTE_METRICS,\n",
    "    'unk_foreach_tag': json.dumps(unk_foreach_tag),\n",
    "    'dictionary_path': DICTIONARY_PATH,\n",
    "    'use_num2words': USE_NUM2WORDS\n",
    "}"
   ]
  },
  {
   "cell_type": "code",
   "execution_count": null,
   "id": "45015e48-02a1-4971-a872-240680f31a2d",
   "metadata": {
    "tags": []
   },
   "outputs": [],
   "source": [
    "log_mlflow_on_test(\n",
    "    run_params,\n",
    "    classes=list(ix_to_tag.values()),\n",
    "    x_test=[sentence for sentence, _ in dataset.raw_data()],\n",
    "    y_pred=y_pred,\n",
    "    y_true=y_test\n",
    ")"
   ]
  }
 ],
 "metadata": {
  "kernelspec": {
   "display_name": "wine-recognition",
   "language": "python",
   "name": "wine-recognition"
  },
  "language_info": {
   "codemirror_mode": {
    "name": "ipython",
    "version": 3
   },
   "file_extension": ".py",
   "mimetype": "text/x-python",
   "name": "python",
   "nbconvert_exporter": "python",
   "pygments_lexer": "ipython3",
   "version": "3.9.7"
  }
 },
 "nbformat": 4,
 "nbformat_minor": 5
}
