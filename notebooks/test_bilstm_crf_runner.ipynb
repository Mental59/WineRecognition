{
 "cells": [
  {
   "cell_type": "code",
   "execution_count": 1,
   "id": "81458c48-3b41-4ee6-8c61-be33371397da",
   "metadata": {},
   "outputs": [],
   "source": [
    "import sys\n",
    "import pandas as pd\n",
    "if r'G:\\PythonProjects\\WineRecognition2' not in sys.path:\n",
    "    sys.path.insert(0, r'G:\\PythonProjects\\WineRecognition2')\n",
    "from data_master import run_experiment"
   ]
  },
  {
   "cell_type": "markdown",
   "id": "933301a5",
   "metadata": {},
   "source": [
    "## BiLSTM-CRF Bruxelles num2words"
   ]
  },
  {
   "cell_type": "code",
   "execution_count": null,
   "id": "c1b19078",
   "metadata": {
    "scrolled": true
   },
   "outputs": [
    {
     "data": {
      "application/vnd.jupyter.widget-view+json": {
       "model_id": "ea7ae1305d3e4095a95ce31d4969723d",
       "version_major": 2,
       "version_minor": 0
      },
      "text/plain": [
       "Executing:   0%|          | 0/14 [00:00<?, ?cell/s]"
      ]
     },
     "metadata": {},
     "output_type": "display_data"
    },
    {
     "ename": "PapermillExecutionError",
     "evalue": "\n---------------------------------------------------------------------------\nException encountered at \"In [7]\":\n---------------------------------------------------------------------------\nAttributeError                            Traceback (most recent call last)\n~\\AppData\\Local\\Temp/ipykernel_224/3102785905.py in <module>\n----> 1 model = torch.load(MODEL_PATH).to(DEVICE)\n      2 model.eval()\n\nAttributeError: 'collections.OrderedDict' object has no attribute 'to'\n",
     "output_type": "error",
     "traceback": [
      "\u001b[1;31m---------------------------------------------------------------------------\u001b[0m",
      "\u001b[1;31mPapermillExecutionError\u001b[0m                   Traceback (most recent call last)",
      "\u001b[1;32m~\\AppData\\Local\\Temp/ipykernel_16868/3379819974.py\u001b[0m in \u001b[0;36m<module>\u001b[1;34m\u001b[0m\n\u001b[0;32m     12\u001b[0m }\n\u001b[0;32m     13\u001b[0m \u001b[1;33m\u001b[0m\u001b[0m\n\u001b[1;32m---> 14\u001b[1;33m experiment = run_experiment(\n\u001b[0m\u001b[0;32m     15\u001b[0m     \u001b[0mexperiment\u001b[0m\u001b[1;33m=\u001b[0m\u001b[0mexperiment\u001b[0m\u001b[1;33m,\u001b[0m\u001b[1;33m\u001b[0m\u001b[1;33m\u001b[0m\u001b[0m\n\u001b[0;32m     16\u001b[0m     \u001b[0mexp_settings_path\u001b[0m\u001b[1;33m=\u001b[0m\u001b[1;34mr\"G:\\PythonProjects\\WineRecognition2\\nn\\experiment_settings.json\"\u001b[0m\u001b[1;33m,\u001b[0m\u001b[1;33m\u001b[0m\u001b[1;33m\u001b[0m\u001b[0m\n",
      "\u001b[1;32mG:\\PythonProjects\\WineRecognition2\\data_master\\experiment_runner.py\u001b[0m in \u001b[0;36mrun_experiment\u001b[1;34m(experiment, exp_settings_path, notebook_path, train)\u001b[0m\n\u001b[0;32m     17\u001b[0m         \u001b[0mos\u001b[0m\u001b[1;33m.\u001b[0m\u001b[0mmkdir\u001b[0m\u001b[1;33m(\u001b[0m\u001b[0mexperiment\u001b[0m\u001b[1;33m[\u001b[0m\u001b[1;34m'OUTPUT_DIR'\u001b[0m\u001b[1;33m]\u001b[0m\u001b[1;33m)\u001b[0m\u001b[1;33m\u001b[0m\u001b[1;33m\u001b[0m\u001b[0m\n\u001b[0;32m     18\u001b[0m \u001b[1;33m\u001b[0m\u001b[0m\n\u001b[1;32m---> 19\u001b[1;33m     pm.execute_notebook(\n\u001b[0m\u001b[0;32m     20\u001b[0m         \u001b[0minput_path\u001b[0m\u001b[1;33m=\u001b[0m\u001b[0mnotebook_path\u001b[0m\u001b[1;33m,\u001b[0m\u001b[1;33m\u001b[0m\u001b[1;33m\u001b[0m\u001b[0m\n\u001b[0;32m     21\u001b[0m         \u001b[0moutput_path\u001b[0m\u001b[1;33m=\u001b[0m\u001b[0mos\u001b[0m\u001b[1;33m.\u001b[0m\u001b[0mpath\u001b[0m\u001b[1;33m.\u001b[0m\u001b[0mjoin\u001b[0m\u001b[1;33m(\u001b[0m\u001b[0mexperiment\u001b[0m\u001b[1;33m[\u001b[0m\u001b[1;34m'OUTPUT_DIR'\u001b[0m\u001b[1;33m]\u001b[0m\u001b[1;33m,\u001b[0m \u001b[0mos\u001b[0m\u001b[1;33m.\u001b[0m\u001b[0mpath\u001b[0m\u001b[1;33m.\u001b[0m\u001b[0mbasename\u001b[0m\u001b[1;33m(\u001b[0m\u001b[0mnotebook_path\u001b[0m\u001b[1;33m)\u001b[0m\u001b[1;33m)\u001b[0m\u001b[1;33m,\u001b[0m\u001b[1;33m\u001b[0m\u001b[1;33m\u001b[0m\u001b[0m\n",
      "\u001b[1;32mD:\\ProgramFiles\\anaconda3\\envs\\wine-recognition\\lib\\site-packages\\papermill\\execute.py\u001b[0m in \u001b[0;36mexecute_notebook\u001b[1;34m(input_path, output_path, parameters, engine_name, request_save_on_cell_execute, prepare_only, kernel_name, language, progress_bar, log_output, stdout_file, stderr_file, start_timeout, report_mode, cwd, **engine_kwargs)\u001b[0m\n\u001b[0;32m    120\u001b[0m \u001b[1;33m\u001b[0m\u001b[0m\n\u001b[0;32m    121\u001b[0m             \u001b[1;31m# Check for errors first (it saves on error before raising)\u001b[0m\u001b[1;33m\u001b[0m\u001b[1;33m\u001b[0m\u001b[0m\n\u001b[1;32m--> 122\u001b[1;33m             \u001b[0mraise_for_execution_errors\u001b[0m\u001b[1;33m(\u001b[0m\u001b[0mnb\u001b[0m\u001b[1;33m,\u001b[0m \u001b[0moutput_path\u001b[0m\u001b[1;33m)\u001b[0m\u001b[1;33m\u001b[0m\u001b[1;33m\u001b[0m\u001b[0m\n\u001b[0m\u001b[0;32m    123\u001b[0m \u001b[1;33m\u001b[0m\u001b[0m\n\u001b[0;32m    124\u001b[0m         \u001b[1;31m# Write final output in case the engine didn't write it on cell completion.\u001b[0m\u001b[1;33m\u001b[0m\u001b[1;33m\u001b[0m\u001b[0m\n",
      "\u001b[1;32mD:\\ProgramFiles\\anaconda3\\envs\\wine-recognition\\lib\\site-packages\\papermill\\execute.py\u001b[0m in \u001b[0;36mraise_for_execution_errors\u001b[1;34m(nb, output_path)\u001b[0m\n\u001b[0;32m    232\u001b[0m \u001b[1;33m\u001b[0m\u001b[0m\n\u001b[0;32m    233\u001b[0m         \u001b[0mwrite_ipynb\u001b[0m\u001b[1;33m(\u001b[0m\u001b[0mnb\u001b[0m\u001b[1;33m,\u001b[0m \u001b[0moutput_path\u001b[0m\u001b[1;33m)\u001b[0m\u001b[1;33m\u001b[0m\u001b[1;33m\u001b[0m\u001b[0m\n\u001b[1;32m--> 234\u001b[1;33m         \u001b[1;32mraise\u001b[0m \u001b[0merror\u001b[0m\u001b[1;33m\u001b[0m\u001b[1;33m\u001b[0m\u001b[0m\n\u001b[0m",
      "\u001b[1;31mPapermillExecutionError\u001b[0m: \n---------------------------------------------------------------------------\nException encountered at \"In [7]\":\n---------------------------------------------------------------------------\nAttributeError                            Traceback (most recent call last)\n~\\AppData\\Local\\Temp/ipykernel_224/3102785905.py in <module>\n----> 1 model = torch.load(MODEL_PATH).to(DEVICE)\n      2 model.eval()\n\nAttributeError: 'collections.OrderedDict' object has no attribute 'to'\n"
     ]
    }
   ],
   "source": [
    "experiment = {\n",
    "    'MODEL_NAME': 'BiLSTM_CRF_NUM2WORDS',\n",
    "    'MODEL_PATH': r'G:/PythonProjects/WineRecognition2/artifacts/train/BiLSTM_CRF_28032022_161428/model/data/model.pth',\n",
    "    'RUN_NAME': 'Test-MenuFixedBottleSize-NUM2WORDS',\n",
    "    'DATA_PATH': r'G:\\PythonProjects\\WineRecognition2\\data\\text\\menu_txt_tagged_fixed_bottlesize.txt',\n",
    "    'VOCAB_PATH': r'G:\\PythonProjects\\WineRecognition2\\data\\vocabs\\Words_Halliday_WineSearcher_Bruxelles_WORD_NUMS.json',\n",
    "    'DATAINFO_PATH': r'G:\\PythonProjects\\WineRecognition2\\data_info.json',\n",
    "    'COMPUTE_METRICS': True,\n",
    "    'CASE_SENSITIVE_VOCAB': False,\n",
    "    'USE_NUM2WORDS': True,\n",
    "    'DEVICE': 'cuda',\n",
    "}\n",
    "\n",
    "experiment = run_experiment(\n",
    "    experiment=experiment,\n",
    "    exp_settings_path=r\"G:\\PythonProjects\\WineRecognition2\\nn\\experiment_settings.json\",\n",
    "    notebook_path='test_bilstm_crf.ipynb',\n",
    "    train=False\n",
    ")"
   ]
  },
  {
   "cell_type": "code",
   "execution_count": null,
   "id": "79d2dffe",
   "metadata": {},
   "outputs": [],
   "source": [
    "exp_settings = json.load(\n",
    "    open(r\"G:\\PythonProjects\\WineRecognition2\\nn\\experiment_settings.json\")\n",
    ")\n",
    "\n",
    "experiment = {\n",
    "    'MODEL_NAME': 'BiLSTM_CRF_NUM2WORDS',\n",
    "    'MODEL_PATH': r'G:/PythonProjects/WineRecognition2/artifacts/train/BiLSTM_CRF_17022022_185854/model/data/model.pth',\n",
    "    'RUN_NAME': 'Test-Menu-NUM2WORDS',\n",
    "    'DATA_PATH': r'G:\\PythonProjects\\WineRecognition2\\data\\text\\menu_txt_tagged.txt',\n",
    "    'VOCAB_PATH': r'G:\\PythonProjects\\WineRecognition2\\data\\vocabs\\Words_Halliday_Wine_AU_WORD_NUMS.json',\n",
    "    'DATAINFO_PATH': r'G:\\PythonProjects\\WineRecognition2\\data_info.json',\n",
    "    'COMPUTE_METRICS': True,\n",
    "    'CASE_SENSITIVE_VOCAB': False,\n",
    "    'USE_NUM2WORDS': True,\n",
    "    'DEVICE': 'cuda',\n",
    "}\n",
    "\n",
    "experiment['START_TIME'] = '{:%d%m%Y_%H%M%S}'.format(datetime.datetime.now())\n",
    "experiment['OUTPUT_DIR'] = '{}/test/{}'.format(exp_settings['artifacts_path'], experiment['MODEL_NAME'] + '_' + experiment['START_TIME'])\n",
    "\n",
    "if not os.path.exists(experiment['OUTPUT_DIR']):\n",
    "    os.mkdir(experiment['OUTPUT_DIR'])\n",
    "\n",
    "pm.execute_notebook(\n",
    "    input_path='test_bilstm_crf.ipynb',\n",
    "    output_path=os.path.join(experiment['OUTPUT_DIR'], 'test_bilstm_crf.ipynb'),\n",
    "    parameters=experiment\n",
    ")"
   ]
  },
  {
   "cell_type": "markdown",
   "id": "b7683662-4e82-455b-b224-839955600d4b",
   "metadata": {},
   "source": [
    "## BiLSTM-CRF with custom features"
   ]
  },
  {
   "cell_type": "code",
   "execution_count": null,
   "id": "f8cf0ad3-d5cd-44f1-a559-4e1dbb792ebe",
   "metadata": {
    "scrolled": true
   },
   "outputs": [],
   "source": [
    "exp_settings = json.load(\n",
    "    open(r\"G:\\PythonProjects\\WineRecognition2\\nn\\experiment_settings.json\")\n",
    ")\n",
    "\n",
    "configs = [\n",
    "    (r'G:/PythonProjects/WineRecognition2/artifacts/train/BiLSTM_CRF_17122021_120300', 'test-100-64-custom_features')\n",
    "]\n",
    "\n",
    "for model_path, run_name in configs:\n",
    "    model_path = '{}/model/data/model.pth'.format(model_path)\n",
    "    \n",
    "    experiment = {\n",
    "        'MODEL_NAME': 'BiLSTM_CRF',\n",
    "        'MODEL_PATH': model_path,\n",
    "        'RUN_NAME': run_name,\n",
    "        'START_TIME': None,\n",
    "        'OUTPUT_DIR': None,\n",
    "        'DATA_PATH': r'G:\\PythonProjects\\WineRecognition2\\data\\text\\menu_txt_tagged.txt',\n",
    "        'VOCAB_PATH': 'G:/PythonProjects/WineRecognition2/data/vocabs/Words_Halliday_Wine_AU.json',\n",
    "        'DICTIONARY_PATH': r'G:\\PythonProjects\\WineRecognition2\\data\\dictionaries\\Dict-byword_Halliday_Winesearcher_Wine_AU-only_completed_rows',\n",
    "        'COMPUTE_METRICS': True,\n",
    "        'CASE_SENSITIVE_VOCAB': False,\n",
    "        'DATAINFO_PATH': 'G:/PythonProjects/WineRecognition2/data_info.json',\n",
    "        'DEVICE': 'cpu'\n",
    "    }\n",
    "    \n",
    "    experiment['START_TIME'] = '{:%d%m%Y_%H%M%S}'.format(datetime.datetime.now())\n",
    "    experiment['OUTPUT_DIR'] = '{}/test/{}'.format(exp_settings['artifacts_path'], experiment['MODEL_NAME'] + '_' + experiment['START_TIME'])\n",
    "    \n",
    "    if not os.path.exists(experiment['OUTPUT_DIR']):\n",
    "        os.mkdir(experiment['OUTPUT_DIR'])\n",
    "    \n",
    "    pm.execute_notebook(\n",
    "        input_path='test_bilstm_crf_our_features.ipynb',\n",
    "        output_path=os.path.join(experiment['OUTPUT_DIR'], 'test_bilstm_crf_our_features.ipynb'),\n",
    "        parameters=experiment\n",
    "    )"
   ]
  },
  {
   "cell_type": "markdown",
   "id": "bcd24022",
   "metadata": {},
   "source": [
    "## BiLSTM-CRF 5 percent"
   ]
  },
  {
   "cell_type": "code",
   "execution_count": null,
   "id": "7f329099-866a-4091-9ee0-4eb95c93216c",
   "metadata": {
    "tags": []
   },
   "outputs": [],
   "source": [
    "exp_settings = json.load(\n",
    "    open(r\"G:\\PythonProjects\\WineRecognition2\\nn\\experiment_settings.json\")\n",
    ")\n",
    "\n",
    "runs = pd.read_csv(r'G:\\PythonProjects\\WineRecognition2\\experiments\\exp_2_5percent\\runs.csv')\n",
    "\n",
    "for index, run in runs.iterrows():\n",
    "    _, ws_percentage, embed_dim = run['run_name'].split('-')\n",
    "    if ws_percentage not in ['5', '100']:\n",
    "        continue    \n",
    "    model_path = '{}/model/data/model.pth'.format(run['output_dir'])\n",
    "    \n",
    "    experiment = {\n",
    "        'MODEL_NAME': 'BiLSTM_CRF',\n",
    "        'MODEL_PATH': model_path,\n",
    "        'RUN_NAME': 'Test-{}-{}'.format(ws_percentage, embed_dim),\n",
    "        'START_TIME': None,\n",
    "        'OUTPUT_DIR': None,\n",
    "        'DATA_PATH': 'G:/PythonProjects/WineRecognition2/data/menus/Wines.txt',\n",
    "        'VOCAB_PATH': 'G:/PythonProjects/WineRecognition2/data/vocabs/Words_Halliday_Wine_AU.json',\n",
    "        'DATAINFO_PATH': 'G:/PythonProjects/WineRecognition2/data_info.json',\n",
    "        'DEVICE': 'cpu'\n",
    "    }\n",
    "    \n",
    "    experiment['START_TIME'] = '{:%d%m%Y_%H%M%S}'.format(datetime.datetime.now())\n",
    "    experiment['OUTPUT_DIR'] = '{}/test/{}'.format(exp_settings['artifacts_path'], experiment['MODEL_NAME'] + '_' + experiment['START_TIME'])\n",
    "    \n",
    "    if not os.path.exists(experiment['OUTPUT_DIR']):\n",
    "        os.mkdir(experiment['OUTPUT_DIR'])\n",
    "    \n",
    "    pm.execute_notebook(\n",
    "        input_path='test_bilstm_crf.ipynb',\n",
    "        output_path=os.path.join(experiment['OUTPUT_DIR'], 'test_bilstm_crf.ipynb'),\n",
    "        parameters=experiment\n",
    "    )"
   ]
  },
  {
   "cell_type": "markdown",
   "id": "8f60d709",
   "metadata": {},
   "source": [
    "## BiLSSTM-CRF standart"
   ]
  },
  {
   "cell_type": "code",
   "execution_count": null,
   "id": "46c8c92a-3377-4691-abb6-9e85a20077f1",
   "metadata": {},
   "outputs": [],
   "source": [
    "exp_settings = json.load(\n",
    "    open(r\"G:\\PythonProjects\\WineRecognition2\\nn\\experiment_settings.json\")\n",
    ")\n",
    "\n",
    "configs = [\n",
    "    (r'G:/PythonProjects/WineRecognition2/artifacts/train/BiLSTM_CRF_29112021_205814', 'test-100-64'),\n",
    "    (r'G:/PythonProjects/WineRecognition2/artifacts/train/BiLSTM_CRF_29112021_203509', 'test-100-100')\n",
    "]\n",
    "\n",
    "for model_path, run_name in configs:\n",
    "    model_path = '{}/model/data/model.pth'.format(model_path)\n",
    "    \n",
    "    experiment = {\n",
    "        'MODEL_NAME': 'BiLSTM_CRF',\n",
    "        'MODEL_PATH': model_path,\n",
    "        'RUN_NAME': run_name,\n",
    "        'START_TIME': None,\n",
    "        'OUTPUT_DIR': None,\n",
    "        'DATA_PATH': r'G:\\PythonProjects\\WineRecognition2\\data\\text\\menu_txt.txt',\n",
    "        'VOCAB_PATH': 'G:/PythonProjects/WineRecognition2/data/vocabs/Words_Halliday_Wine_AU.json',\n",
    "        'COMPUTE_METRICS': False,\n",
    "        'CASE_SENSITIVE_VOCAB': False,\n",
    "        'DATAINFO_PATH': 'G:/PythonProjects/WineRecognition2/data_info.json',\n",
    "        'DEVICE': 'cpu'\n",
    "    }\n",
    "    \n",
    "    experiment['START_TIME'] = '{:%d%m%Y_%H%M%S}'.format(datetime.datetime.now())\n",
    "    experiment['OUTPUT_DIR'] = '{}/test/{}'.format(exp_settings['artifacts_path'], experiment['MODEL_NAME'] + '_' + experiment['START_TIME'])\n",
    "    \n",
    "    if not os.path.exists(experiment['OUTPUT_DIR']):\n",
    "        os.mkdir(experiment['OUTPUT_DIR'])\n",
    "    \n",
    "    pm.execute_notebook(\n",
    "        input_path='test_bilstm_crf.ipynb',\n",
    "        output_path=os.path.join(experiment['OUTPUT_DIR'], 'test_bilstm_crf.ipynb'),\n",
    "        parameters=experiment\n",
    "    )"
   ]
  }
 ],
 "metadata": {
  "kernelspec": {
   "display_name": "wine-recognition",
   "language": "python",
   "name": "wine-recognition"
  },
  "language_info": {
   "codemirror_mode": {
    "name": "ipython",
    "version": 3
   },
   "file_extension": ".py",
   "mimetype": "text/x-python",
   "name": "python",
   "nbconvert_exporter": "python",
   "pygments_lexer": "ipython3",
   "version": "3.9.7"
  }
 },
 "nbformat": 4,
 "nbformat_minor": 5
}
