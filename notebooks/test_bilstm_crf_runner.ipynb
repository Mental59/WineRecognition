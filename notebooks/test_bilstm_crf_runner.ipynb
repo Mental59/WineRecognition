{
 "cells": [
  {
   "cell_type": "code",
   "execution_count": null,
   "id": "81458c48-3b41-4ee6-8c61-be33371397da",
   "metadata": {},
   "outputs": [],
   "source": [
    "import os\n",
    "import json\n",
    "import pandas as pd\n",
    "import papermill as pm\n",
    "import datetime"
   ]
  },
  {
   "cell_type": "markdown",
   "id": "933301a5",
   "metadata": {},
   "source": [
    "## BiLSTM-CRF Bruxelles num2words"
   ]
  },
  {
   "cell_type": "code",
   "execution_count": null,
   "id": "c1b19078",
   "metadata": {
    "scrolled": true
   },
   "outputs": [],
   "source": [
    "exp_settings = json.load(\n",
    "    open(r\"G:\\PythonProjects\\WineRecognition2\\nn\\experiment_settings.json\")\n",
    ")\n",
    "\n",
    "experiment = {\n",
    "    'MODEL_NAME': 'BiLSTM_CRF_NUM2WORDS',\n",
    "    'MODEL_PATH': r'G:/PythonProjects/WineRecognition2/artifacts/train/BiLSTM_CRF_17022022_185854/model/data/model.pth',\n",
    "    'RUN_NAME': 'Test-Bruxelles-Complex-NUM2WORDS',\n",
    "    'DATA_PATH': r'G:\\PythonProjects\\WineRecognition2\\data\\text\\Bruxelles_Wine_ES-all_keys-complex.txt',\n",
    "    'VOCAB_PATH': r'G:\\PythonProjects\\WineRecognition2\\data\\vocabs\\Words_Halliday_Wine_AU_WORD_NUMS.json',\n",
    "    'DATAINFO_PATH': r'G:\\PythonProjects\\WineRecognition2\\data_info.json',\n",
    "    'COMPUTE_METRICS': True,\n",
    "    'CASE_SENSITIVE_VOCAB': False,\n",
    "    'USE_NUM2WORDS': True,\n",
    "    'DEVICE': 'cuda',\n",
    "}\n",
    "\n",
    "experiment['START_TIME'] = '{:%d%m%Y_%H%M%S}'.format(datetime.datetime.now())\n",
    "experiment['OUTPUT_DIR'] = '{}/test/{}'.format(exp_settings['artifacts_path'], experiment['MODEL_NAME'] + '_' + experiment['START_TIME'])\n",
    "\n",
    "if not os.path.exists(experiment['OUTPUT_DIR']):\n",
    "    os.mkdir(experiment['OUTPUT_DIR'])\n",
    "\n",
    "pm.execute_notebook(\n",
    "    input_path='test_bilstm_crf.ipynb',\n",
    "    output_path=os.path.join(experiment['OUTPUT_DIR'], 'test_bilstm_crf.ipynb'),\n",
    "    parameters=experiment\n",
    ")"
   ]
  },
  {
   "cell_type": "code",
   "execution_count": null,
   "id": "79d2dffe",
   "metadata": {},
   "outputs": [],
   "source": [
    "exp_settings = json.load(\n",
    "    open(r\"G:\\PythonProjects\\WineRecognition2\\nn\\experiment_settings.json\")\n",
    ")\n",
    "\n",
    "experiment = {\n",
    "    'MODEL_NAME': 'BiLSTM_CRF_NUM2WORDS',\n",
    "    'MODEL_PATH': r'G:/PythonProjects/WineRecognition2/artifacts/train/BiLSTM_CRF_17022022_185854/model/data/model.pth',\n",
    "    'RUN_NAME': 'Test-Menu-NUM2WORDS',\n",
    "    'DATA_PATH': r'G:\\PythonProjects\\WineRecognition2\\data\\text\\menu_txt_tagged.txt',\n",
    "    'VOCAB_PATH': r'G:\\PythonProjects\\WineRecognition2\\data\\vocabs\\Words_Halliday_Wine_AU_WORD_NUMS.json',\n",
    "    'DATAINFO_PATH': r'G:\\PythonProjects\\WineRecognition2\\data_info.json',\n",
    "    'COMPUTE_METRICS': True,\n",
    "    'CASE_SENSITIVE_VOCAB': False,\n",
    "    'USE_NUM2WORDS': True,\n",
    "    'DEVICE': 'cuda',\n",
    "}\n",
    "\n",
    "experiment['START_TIME'] = '{:%d%m%Y_%H%M%S}'.format(datetime.datetime.now())\n",
    "experiment['OUTPUT_DIR'] = '{}/test/{}'.format(exp_settings['artifacts_path'], experiment['MODEL_NAME'] + '_' + experiment['START_TIME'])\n",
    "\n",
    "if not os.path.exists(experiment['OUTPUT_DIR']):\n",
    "    os.mkdir(experiment['OUTPUT_DIR'])\n",
    "\n",
    "pm.execute_notebook(\n",
    "    input_path='test_bilstm_crf.ipynb',\n",
    "    output_path=os.path.join(experiment['OUTPUT_DIR'], 'test_bilstm_crf.ipynb'),\n",
    "    parameters=experiment\n",
    ")"
   ]
  },
  {
   "cell_type": "markdown",
   "id": "b7683662-4e82-455b-b224-839955600d4b",
   "metadata": {},
   "source": [
    "## BiLSTM-CRF with custom features"
   ]
  },
  {
   "cell_type": "code",
   "execution_count": null,
   "id": "f8cf0ad3-d5cd-44f1-a559-4e1dbb792ebe",
   "metadata": {
    "scrolled": true
   },
   "outputs": [],
   "source": [
    "exp_settings = json.load(\n",
    "    open(r\"G:\\PythonProjects\\WineRecognition2\\nn\\experiment_settings.json\")\n",
    ")\n",
    "\n",
    "configs = [\n",
    "    (r'G:/PythonProjects/WineRecognition2/artifacts/train/BiLSTM_CRF_17122021_120300', 'test-100-64-custom_features')\n",
    "]\n",
    "\n",
    "for model_path, run_name in configs:\n",
    "    model_path = '{}/model/data/model.pth'.format(model_path)\n",
    "    \n",
    "    experiment = {\n",
    "        'MODEL_NAME': 'BiLSTM_CRF',\n",
    "        'MODEL_PATH': model_path,\n",
    "        'RUN_NAME': run_name,\n",
    "        'START_TIME': None,\n",
    "        'OUTPUT_DIR': None,\n",
    "        'DATA_PATH': r'G:\\PythonProjects\\WineRecognition2\\data\\text\\menu_txt_tagged.txt',\n",
    "        'VOCAB_PATH': 'G:/PythonProjects/WineRecognition2/data/vocabs/Words_Halliday_Wine_AU.json',\n",
    "        'DICTIONARY_PATH': r'G:\\PythonProjects\\WineRecognition2\\data\\dictionaries\\Dict-byword_Halliday_Winesearcher_Wine_AU-only_completed_rows',\n",
    "        'COMPUTE_METRICS': True,\n",
    "        'CASE_SENSITIVE_VOCAB': False,\n",
    "        'DATAINFO_PATH': 'G:/PythonProjects/WineRecognition2/data_info.json',\n",
    "        'DEVICE': 'cpu'\n",
    "    }\n",
    "    \n",
    "    experiment['START_TIME'] = '{:%d%m%Y_%H%M%S}'.format(datetime.datetime.now())\n",
    "    experiment['OUTPUT_DIR'] = '{}/test/{}'.format(exp_settings['artifacts_path'], experiment['MODEL_NAME'] + '_' + experiment['START_TIME'])\n",
    "    \n",
    "    if not os.path.exists(experiment['OUTPUT_DIR']):\n",
    "        os.mkdir(experiment['OUTPUT_DIR'])\n",
    "    \n",
    "    pm.execute_notebook(\n",
    "        input_path='test_bilstm_crf_our_features.ipynb',\n",
    "        output_path=os.path.join(experiment['OUTPUT_DIR'], 'test_bilstm_crf_our_features.ipynb'),\n",
    "        parameters=experiment\n",
    "    )"
   ]
  },
  {
   "cell_type": "markdown",
   "id": "bcd24022",
   "metadata": {},
   "source": [
    "## BiLSTM-CRF 5 percent"
   ]
  },
  {
   "cell_type": "code",
   "execution_count": null,
   "id": "7f329099-866a-4091-9ee0-4eb95c93216c",
   "metadata": {
    "jupyter": {
     "outputs_hidden": true
    },
    "tags": []
   },
   "outputs": [],
   "source": [
    "exp_settings = json.load(\n",
    "    open(r\"G:\\PythonProjects\\WineRecognition2\\nn\\experiment_settings.json\")\n",
    ")\n",
    "\n",
    "runs = pd.read_csv(r'G:\\PythonProjects\\WineRecognition2\\experiments\\exp_2_5percent\\runs.csv')\n",
    "\n",
    "for index, run in runs.iterrows():\n",
    "    _, ws_percentage, embed_dim = run['run_name'].split('-')\n",
    "    if ws_percentage not in ['5', '100']:\n",
    "        continue    \n",
    "    model_path = '{}/model/data/model.pth'.format(run['output_dir'])\n",
    "    \n",
    "    experiment = {\n",
    "        'MODEL_NAME': 'BiLSTM_CRF',\n",
    "        'MODEL_PATH': model_path,\n",
    "        'RUN_NAME': 'Test-{}-{}'.format(ws_percentage, embed_dim),\n",
    "        'START_TIME': None,\n",
    "        'OUTPUT_DIR': None,\n",
    "        'DATA_PATH': 'G:/PythonProjects/WineRecognition2/data/menus/Wines.txt',\n",
    "        'VOCAB_PATH': 'G:/PythonProjects/WineRecognition2/data/vocabs/Words_Halliday_Wine_AU.json',\n",
    "        'DATAINFO_PATH': 'G:/PythonProjects/WineRecognition2/data_info.json',\n",
    "        'DEVICE': 'cpu'\n",
    "    }\n",
    "    \n",
    "    experiment['START_TIME'] = '{:%d%m%Y_%H%M%S}'.format(datetime.datetime.now())\n",
    "    experiment['OUTPUT_DIR'] = '{}/test/{}'.format(exp_settings['artifacts_path'], experiment['MODEL_NAME'] + '_' + experiment['START_TIME'])\n",
    "    \n",
    "    if not os.path.exists(experiment['OUTPUT_DIR']):\n",
    "        os.mkdir(experiment['OUTPUT_DIR'])\n",
    "    \n",
    "    pm.execute_notebook(\n",
    "        input_path='test_bilstm_crf.ipynb',\n",
    "        output_path=os.path.join(experiment['OUTPUT_DIR'], 'test_bilstm_crf.ipynb'),\n",
    "        parameters=experiment\n",
    "    )"
   ]
  },
  {
   "cell_type": "markdown",
   "id": "8f60d709",
   "metadata": {},
   "source": [
    "## BiLSSTM-CRF standart"
   ]
  },
  {
   "cell_type": "code",
   "execution_count": null,
   "id": "46c8c92a-3377-4691-abb6-9e85a20077f1",
   "metadata": {},
   "outputs": [],
   "source": [
    "exp_settings = json.load(\n",
    "    open(r\"G:\\PythonProjects\\WineRecognition2\\nn\\experiment_settings.json\")\n",
    ")\n",
    "\n",
    "configs = [\n",
    "    (r'G:/PythonProjects/WineRecognition2/artifacts/train/BiLSTM_CRF_29112021_205814', 'test-100-64'),\n",
    "    (r'G:/PythonProjects/WineRecognition2/artifacts/train/BiLSTM_CRF_29112021_203509', 'test-100-100')\n",
    "]\n",
    "\n",
    "for model_path, run_name in configs:\n",
    "    model_path = '{}/model/data/model.pth'.format(model_path)\n",
    "    \n",
    "    experiment = {\n",
    "        'MODEL_NAME': 'BiLSTM_CRF',\n",
    "        'MODEL_PATH': model_path,\n",
    "        'RUN_NAME': run_name,\n",
    "        'START_TIME': None,\n",
    "        'OUTPUT_DIR': None,\n",
    "        'DATA_PATH': r'G:\\PythonProjects\\WineRecognition2\\data\\text\\menu_txt.txt',\n",
    "        'VOCAB_PATH': 'G:/PythonProjects/WineRecognition2/data/vocabs/Words_Halliday_Wine_AU.json',\n",
    "        'COMPUTE_METRICS': False,\n",
    "        'CASE_SENSITIVE_VOCAB': False,\n",
    "        'DATAINFO_PATH': 'G:/PythonProjects/WineRecognition2/data_info.json',\n",
    "        'DEVICE': 'cpu'\n",
    "    }\n",
    "    \n",
    "    experiment['START_TIME'] = '{:%d%m%Y_%H%M%S}'.format(datetime.datetime.now())\n",
    "    experiment['OUTPUT_DIR'] = '{}/test/{}'.format(exp_settings['artifacts_path'], experiment['MODEL_NAME'] + '_' + experiment['START_TIME'])\n",
    "    \n",
    "    if not os.path.exists(experiment['OUTPUT_DIR']):\n",
    "        os.mkdir(experiment['OUTPUT_DIR'])\n",
    "    \n",
    "    pm.execute_notebook(\n",
    "        input_path='test_bilstm_crf.ipynb',\n",
    "        output_path=os.path.join(experiment['OUTPUT_DIR'], 'test_bilstm_crf.ipynb'),\n",
    "        parameters=experiment\n",
    "    )"
   ]
  }
 ],
 "metadata": {
  "kernelspec": {
   "display_name": "wine-recognition",
   "language": "python",
   "name": "wine-recognition"
  },
  "language_info": {
   "codemirror_mode": {
    "name": "ipython",
    "version": 3
   },
   "file_extension": ".py",
   "mimetype": "text/x-python",
   "name": "python",
   "nbconvert_exporter": "python",
   "pygments_lexer": "ipython3",
   "version": "3.9.7"
  }
 },
 "nbformat": 4,
 "nbformat_minor": 5
}
