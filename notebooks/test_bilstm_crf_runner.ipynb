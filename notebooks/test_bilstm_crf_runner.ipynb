{
 "cells": [
  {
   "cell_type": "code",
   "execution_count": 2,
   "id": "81458c48-3b41-4ee6-8c61-be33371397da",
   "metadata": {},
   "outputs": [
    {
     "name": "stderr",
     "output_type": "stream",
     "text": [
      "D:\\ProgramFiles\\anaconda3\\envs\\wine-recognition\\lib\\site-packages\\papermill\\iorw.py:50: FutureWarning: pyarrow.HadoopFileSystem is deprecated as of 2.0.0, please use pyarrow.fs.HadoopFileSystem instead.\n",
      "  from pyarrow import HadoopFileSystem\n"
     ]
    }
   ],
   "source": [
    "import sys\n",
    "import pandas as pd\n",
    "if r'G:\\PythonProjects\\WineRecognition2' not in sys.path:\n",
    "    sys.path.insert(0, r'G:\\PythonProjects\\WineRecognition2')\n",
    "from data_master import run_experiment"
   ]
  },
  {
   "cell_type": "markdown",
   "id": "933301a5",
   "metadata": {},
   "source": [
    "## BiLSTM-CRF Bruxelles num2words"
   ]
  },
  {
   "cell_type": "code",
   "execution_count": null,
   "id": "c1b19078",
   "metadata": {
    "scrolled": true
   },
   "outputs": [
    {
     "data": {
      "application/vnd.jupyter.widget-view+json": {
       "model_id": "96f1f60ccbc54f158d096950745781b7",
       "version_major": 2,
       "version_minor": 0
      },
      "text/plain": [
       "Executing:   0%|          | 0/14 [00:00<?, ?cell/s]"
      ]
     },
     "metadata": {},
     "output_type": "display_data"
    }
   ],
   "source": [
    "experiment = {\n",
    "    'MODEL_NAME': 'BiLSTM_CRF_NUM2WORDS',\n",
    "    'MODEL_PATH': r'G:/PythonProjects/WineRecognition2/artifacts/train/BiLSTM_CRF_28032022_161428/model/data/model.pth',\n",
    "    'RUN_NAME': 'Test-MenuFixedBottleSize-NUM2WORDS',\n",
    "    'DATA_PATH': r'G:\\PythonProjects\\WineRecognition2\\data\\text\\menu_txt_tagged_fixed_bottlesize.txt',\n",
    "    'VOCAB_PATH': r'G:\\PythonProjects\\WineRecognition2\\data\\vocabs\\Words_Halliday_WineSearcher_Bruxelles_WORD_NUMS.json',\n",
    "    'DATAINFO_PATH': r'G:\\PythonProjects\\WineRecognition2\\data_info.json',\n",
    "    'COMPUTE_METRICS': True,\n",
    "    'CASE_SENSITIVE_VOCAB': False,\n",
    "    'USE_NUM2WORDS': True,\n",
    "    'DEVICE': 'cuda',\n",
    "}\n",
    "\n",
    "experiment = run_experiment(\n",
    "    experiment=experiment,\n",
    "    exp_settings_path=r\"G:\\PythonProjects\\WineRecognition2\\nn\\experiment_settings.json\",\n",
    "    notebook_path='test_bilstm_crf.ipynb',\n",
    "    train=False\n",
    ")"
   ]
  },
  {
   "cell_type": "code",
   "execution_count": null,
   "id": "ee8bb482-dcdb-4efe-9859-28e473755ea9",
   "metadata": {},
   "outputs": [],
   "source": [
    "exp_settings = json.load(\n",
    "    open(r\"G:\\PythonProjects\\WineRecognition2\\nn\\experiment_settings.json\")\n",
    ")\n",
    "\n",
    "experiment = {\n",
    "    'MODEL_NAME': 'BiLSTM_CRF_NUM2WORDS',\n",
    "    'MODEL_PATH': r'G:/PythonProjects/WineRecognition2/artifacts/train/BiLSTM_CRF_17022022_185854/model/data/model.pth',\n",
    "    'RUN_NAME': 'Test-Menu-NUM2WORDS',\n",
    "    'DATA_PATH': r'G:\\PythonProjects\\WineRecognition2\\data\\text\\menu_txt_tagged.txt',\n",
    "    'VOCAB_PATH': r'G:\\PythonProjects\\WineRecognition2\\data\\vocabs\\Words_Halliday_Wine_AU_WORD_NUMS.json',\n",
    "    'DATAINFO_PATH': r'G:\\PythonProjects\\WineRecognition2\\data_info.json',\n",
    "    'COMPUTE_METRICS': True,\n",
    "    'CASE_SENSITIVE_VOCAB': False,\n",
    "    'USE_NUM2WORDS': True,\n",
    "    'DEVICE': 'cuda',\n",
    "}\n",
    "\n",
    "experiment['START_TIME'] = '{:%d%m%Y_%H%M%S}'.format(datetime.datetime.now())\n",
    "experiment['OUTPUT_DIR'] = '{}/test/{}'.format(exp_settings['artifacts_path'], experiment['MODEL_NAME'] + '_' + experiment['START_TIME'])\n",
    "\n",
    "if not os.path.exists(experiment['OUTPUT_DIR']):\n",
    "    os.mkdir(experiment['OUTPUT_DIR'])\n",
    "\n",
    "pm.execute_notebook(\n",
    "    input_path='test_bilstm_crf.ipynb',\n",
    "    output_path=os.path.join(experiment['OUTPUT_DIR'], 'test_bilstm_crf.ipynb'),\n",
    "    parameters=experiment\n",
    ")"
   ]
  },
  {
   "cell_type": "markdown",
   "id": "d65e6889-3dcb-4038-a2b2-8744dfb321f2",
   "metadata": {},
   "source": [
    "## Wine Label from Google Vision API"
   ]
  },
  {
   "cell_type": "code",
   "execution_count": 3,
   "id": "65e672a4-8bf8-465d-b866-14a34cd67a31",
   "metadata": {},
   "outputs": [
    {
     "data": {
      "application/vnd.jupyter.widget-view+json": {
       "model_id": "1b99e04ce00741c0b1fa57ef03075749",
       "version_major": 2,
       "version_minor": 0
      },
      "text/plain": [
       "Executing:   0%|          | 0/14 [00:00<?, ?cell/s]"
      ]
     },
     "metadata": {},
     "output_type": "display_data"
    }
   ],
   "source": [
    "experiment = {\n",
    "    'MODEL_NAME': 'BiLSTM_CRF_NUM2WORDS',\n",
    "    'MODEL_PATH': r'G:/PythonProjects/WineRecognition2/artifacts/train/BiLSTM_CRF_28032022_161428/model/data/model.pth',\n",
    "    'RUN_NAME': 'Test-Wine-Menus-Blocks-BiLSTMCRF',\n",
    "    'DATA_PATH': r'G:\\PythonProjects\\WineRecognition2\\ocr\\data\\results\\wine_menus_blocks.txt',\n",
    "    'VOCAB_PATH': r'G:\\PythonProjects\\WineRecognition2\\data\\vocabs\\Words_Halliday_WineSearcher_Bruxelles_WORD_NUMS.json',\n",
    "    'DATAINFO_PATH': r'G:\\PythonProjects\\WineRecognition2\\data_info.json',\n",
    "    'COMPUTE_METRICS': False,\n",
    "    'CASE_SENSITIVE_VOCAB': False,\n",
    "    'USE_NUM2WORDS': True,\n",
    "    'DEVICE': 'cuda',\n",
    "}\n",
    "\n",
    "experiment = run_experiment(\n",
    "    experiment=experiment,\n",
    "    exp_settings_path=r\"G:\\PythonProjects\\WineRecognition2\\nn\\experiment_settings.json\",\n",
    "    notebook_path='test_bilstm_crf.ipynb',\n",
    "    train=False\n",
    ")"
   ]
  },
  {
   "cell_type": "code",
   "execution_count": null,
   "id": "e62eafdd-2460-4534-b498-ccc2bebe3239",
   "metadata": {},
   "outputs": [],
   "source": [
    "experiment = {\n",
    "    'MODEL_NAME': 'BiLSTM_CRF_NUM2WORDS',\n",
    "    'MODEL_PATH': r'G:/PythonProjects/WineRecognition2/artifacts/train/BiLSTM_CRF_28032022_161428/model/data/model.pth',\n",
    "    'RUN_NAME': 'Test-Wine-Labels-BiLSTMCRF',\n",
    "    'DATA_PATH': r'G:\\PythonProjects\\WineRecognition2\\ocr\\data\\results\\wine_labels.txt',\n",
    "    'VOCAB_PATH': r'G:\\PythonProjects\\WineRecognition2\\data\\vocabs\\Words_Halliday_WineSearcher_Bruxelles_WORD_NUMS.json',\n",
    "    'DATAINFO_PATH': r'G:\\PythonProjects\\WineRecognition2\\data_info.json',\n",
    "    'COMPUTE_METRICS': False,\n",
    "    'CASE_SENSITIVE_VOCAB': False,\n",
    "    'USE_NUM2WORDS': True,\n",
    "    'DEVICE': 'cuda',\n",
    "}\n",
    "\n",
    "experiment = run_experiment(\n",
    "    experiment=experiment,\n",
    "    exp_settings_path=r\"G:\\PythonProjects\\WineRecognition2\\nn\\experiment_settings.json\",\n",
    "    notebook_path='test_bilstm_crf.ipynb',\n",
    "    train=False\n",
    ")"
   ]
  },
  {
   "cell_type": "markdown",
   "id": "b7683662-4e82-455b-b224-839955600d4b",
   "metadata": {},
   "source": [
    "## BiLSTM-CRF with custom features"
   ]
  },
  {
   "cell_type": "code",
   "execution_count": null,
   "id": "f8cf0ad3-d5cd-44f1-a559-4e1dbb792ebe",
   "metadata": {
    "scrolled": true
   },
   "outputs": [],
   "source": [
    "exp_settings = json.load(\n",
    "    open(r\"G:\\PythonProjects\\WineRecognition2\\nn\\experiment_settings.json\")\n",
    ")\n",
    "\n",
    "configs = [\n",
    "    (r'G:/PythonProjects/WineRecognition2/artifacts/train/BiLSTM_CRF_17122021_120300', 'test-100-64-custom_features')\n",
    "]\n",
    "\n",
    "for model_path, run_name in configs:\n",
    "    model_path = '{}/model/data/model.pth'.format(model_path)\n",
    "    \n",
    "    experiment = {\n",
    "        'MODEL_NAME': 'BiLSTM_CRF',\n",
    "        'MODEL_PATH': model_path,\n",
    "        'RUN_NAME': run_name,\n",
    "        'START_TIME': None,\n",
    "        'OUTPUT_DIR': None,\n",
    "        'DATA_PATH': r'G:\\PythonProjects\\WineRecognition2\\data\\text\\menu_txt_tagged.txt',\n",
    "        'VOCAB_PATH': 'G:/PythonProjects/WineRecognition2/data/vocabs/Words_Halliday_Wine_AU.json',\n",
    "        'DICTIONARY_PATH': r'G:\\PythonProjects\\WineRecognition2\\data\\dictionaries\\Dict-byword_Halliday_Winesearcher_Wine_AU-only_completed_rows',\n",
    "        'COMPUTE_METRICS': True,\n",
    "        'CASE_SENSITIVE_VOCAB': False,\n",
    "        'DATAINFO_PATH': 'G:/PythonProjects/WineRecognition2/data_info.json',\n",
    "        'DEVICE': 'cpu'\n",
    "    }\n",
    "    \n",
    "    experiment['START_TIME'] = '{:%d%m%Y_%H%M%S}'.format(datetime.datetime.now())\n",
    "    experiment['OUTPUT_DIR'] = '{}/test/{}'.format(exp_settings['artifacts_path'], experiment['MODEL_NAME'] + '_' + experiment['START_TIME'])\n",
    "    \n",
    "    if not os.path.exists(experiment['OUTPUT_DIR']):\n",
    "        os.mkdir(experiment['OUTPUT_DIR'])\n",
    "    \n",
    "    pm.execute_notebook(\n",
    "        input_path='test_bilstm_crf_our_features.ipynb',\n",
    "        output_path=os.path.join(experiment['OUTPUT_DIR'], 'test_bilstm_crf_our_features.ipynb'),\n",
    "        parameters=experiment\n",
    "    )"
   ]
  },
  {
   "cell_type": "markdown",
   "id": "bcd24022",
   "metadata": {},
   "source": [
    "## BiLSTM-CRF 5 percent"
   ]
  },
  {
   "cell_type": "code",
   "execution_count": null,
   "id": "7f329099-866a-4091-9ee0-4eb95c93216c",
   "metadata": {
    "tags": []
   },
   "outputs": [],
   "source": [
    "exp_settings = json.load(\n",
    "    open(r\"G:\\PythonProjects\\WineRecognition2\\nn\\experiment_settings.json\")\n",
    ")\n",
    "\n",
    "runs = pd.read_csv(r'G:\\PythonProjects\\WineRecognition2\\experiments\\exp_2_5percent\\runs.csv')\n",
    "\n",
    "for index, run in runs.iterrows():\n",
    "    _, ws_percentage, embed_dim = run['run_name'].split('-')\n",
    "    if ws_percentage not in ['5', '100']:\n",
    "        continue    \n",
    "    model_path = '{}/model/data/model.pth'.format(run['output_dir'])\n",
    "    \n",
    "    experiment = {\n",
    "        'MODEL_NAME': 'BiLSTM_CRF',\n",
    "        'MODEL_PATH': model_path,\n",
    "        'RUN_NAME': 'Test-{}-{}'.format(ws_percentage, embed_dim),\n",
    "        'START_TIME': None,\n",
    "        'OUTPUT_DIR': None,\n",
    "        'DATA_PATH': 'G:/PythonProjects/WineRecognition2/data/menus/Wines.txt',\n",
    "        'VOCAB_PATH': 'G:/PythonProjects/WineRecognition2/data/vocabs/Words_Halliday_Wine_AU.json',\n",
    "        'DATAINFO_PATH': 'G:/PythonProjects/WineRecognition2/data_info.json',\n",
    "        'DEVICE': 'cpu'\n",
    "    }\n",
    "    \n",
    "    experiment['START_TIME'] = '{:%d%m%Y_%H%M%S}'.format(datetime.datetime.now())\n",
    "    experiment['OUTPUT_DIR'] = '{}/test/{}'.format(exp_settings['artifacts_path'], experiment['MODEL_NAME'] + '_' + experiment['START_TIME'])\n",
    "    \n",
    "    if not os.path.exists(experiment['OUTPUT_DIR']):\n",
    "        os.mkdir(experiment['OUTPUT_DIR'])\n",
    "    \n",
    "    pm.execute_notebook(\n",
    "        input_path='test_bilstm_crf.ipynb',\n",
    "        output_path=os.path.join(experiment['OUTPUT_DIR'], 'test_bilstm_crf.ipynb'),\n",
    "        parameters=experiment\n",
    "    )"
   ]
  },
  {
   "cell_type": "markdown",
   "id": "8f60d709",
   "metadata": {},
   "source": [
    "## BiLSSTM-CRF standart"
   ]
  },
  {
   "cell_type": "code",
   "execution_count": null,
   "id": "46c8c92a-3377-4691-abb6-9e85a20077f1",
   "metadata": {},
   "outputs": [],
   "source": [
    "exp_settings = json.load(\n",
    "    open(r\"G:\\PythonProjects\\WineRecognition2\\nn\\experiment_settings.json\")\n",
    ")\n",
    "\n",
    "configs = [\n",
    "    (r'G:/PythonProjects/WineRecognition2/artifacts/train/BiLSTM_CRF_29112021_205814', 'test-100-64'),\n",
    "    (r'G:/PythonProjects/WineRecognition2/artifacts/train/BiLSTM_CRF_29112021_203509', 'test-100-100')\n",
    "]\n",
    "\n",
    "for model_path, run_name in configs:\n",
    "    model_path = '{}/model/data/model.pth'.format(model_path)\n",
    "    \n",
    "    experiment = {\n",
    "        'MODEL_NAME': 'BiLSTM_CRF',\n",
    "        'MODEL_PATH': model_path,\n",
    "        'RUN_NAME': run_name,\n",
    "        'START_TIME': None,\n",
    "        'OUTPUT_DIR': None,\n",
    "        'DATA_PATH': r'G:\\PythonProjects\\WineRecognition2\\data\\text\\menu_txt.txt',\n",
    "        'VOCAB_PATH': 'G:/PythonProjects/WineRecognition2/data/vocabs/Words_Halliday_Wine_AU.json',\n",
    "        'COMPUTE_METRICS': False,\n",
    "        'CASE_SENSITIVE_VOCAB': False,\n",
    "        'DATAINFO_PATH': 'G:/PythonProjects/WineRecognition2/data_info.json',\n",
    "        'DEVICE': 'cpu'\n",
    "    }\n",
    "    \n",
    "    experiment['START_TIME'] = '{:%d%m%Y_%H%M%S}'.format(datetime.datetime.now())\n",
    "    experiment['OUTPUT_DIR'] = '{}/test/{}'.format(exp_settings['artifacts_path'], experiment['MODEL_NAME'] + '_' + experiment['START_TIME'])\n",
    "    \n",
    "    if not os.path.exists(experiment['OUTPUT_DIR']):\n",
    "        os.mkdir(experiment['OUTPUT_DIR'])\n",
    "    \n",
    "    pm.execute_notebook(\n",
    "        input_path='test_bilstm_crf.ipynb',\n",
    "        output_path=os.path.join(experiment['OUTPUT_DIR'], 'test_bilstm_crf.ipynb'),\n",
    "        parameters=experiment\n",
    "    )"
   ]
  }
 ],
 "metadata": {
  "kernelspec": {
   "display_name": "wine-recognition",
   "language": "python",
   "name": "wine-recognition"
  },
  "language_info": {
   "codemirror_mode": {
    "name": "ipython",
    "version": 3
   },
   "file_extension": ".py",
   "mimetype": "text/x-python",
   "name": "python",
   "nbconvert_exporter": "python",
   "pygments_lexer": "ipython3",
   "version": "3.9.16"
  }
 },
 "nbformat": 4,
 "nbformat_minor": 5
}
