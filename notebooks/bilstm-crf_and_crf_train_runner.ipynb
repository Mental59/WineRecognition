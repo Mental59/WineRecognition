{
 "cells": [
  {
   "cell_type": "code",
   "execution_count": null,
   "id": "fe76b413",
   "metadata": {},
   "outputs": [],
   "source": [
    "import sys\n",
    "if r'G:\\PythonProjects\\WineRecognition2' not in sys.path:\n",
    "    sys.path.insert(0, r'G:\\PythonProjects\\WineRecognition2')\n",
    "from data_master import run_experiment"
   ]
  },
  {
   "cell_type": "code",
   "execution_count": null,
   "id": "ce2b3e19",
   "metadata": {},
   "outputs": [],
   "source": [
    "dataset_path = r'G:\\PythonProjects\\WineRecognition2\\data\\text\\data_and_menu_gen_samples\\Halliday_WineSearcher_Bruxelles_MenuGenSamples_v5_BottleSize_fixed.txt'\n",
    "vocab_path = r'G:\\PythonProjects\\WineRecognition2\\data\\vocabs\\Words_Halliday_WineSearcher_Bruxelles_WORD_NUMS.json'\n",
    "datainfo_path = r'G:/PythonProjects/WineRecognition2/data_info.json'\n",
    "case_sensitive_vocab = False\n",
    "use_num2words = True\n",
    "test_size = 0.2\n",
    "# bilstm_model_path = 'G:/PythonProjects/WineRecognition2/artifacts/train/BiLSTM_CRF_28032022_161428/model/data/model.pth'"
   ]
  },
  {
   "cell_type": "markdown",
   "id": "0871860b",
   "metadata": {},
   "source": [
    "## train BiLSTM-CRF Neptune.ai"
   ]
  },
  {
   "cell_type": "code",
   "execution_count": null,
   "id": "b9b33e6e-3f9a-4801-a61f-d4b603b83900",
   "metadata": {
    "tags": []
   },
   "outputs": [],
   "source": [
    "experiment = {\n",
    "    'MODEL_NAME': 'BiLSTM_CRF',\n",
    "    'RUN_NAME': f'train-H_WS_Brux_MenuSamples+USA+ENG+CAN_Num2Words_',\n",
    "    'DATASET_PATH': dataset_path,\n",
    "    'VOCAB_PATH': vocab_path,\n",
    "    'DATAINFO_PATH': datainfo_path,\n",
    "    'DEVICE': 'cuda',\n",
    "    'BATCH_SIZE': 2048,\n",
    "    'EMBEDDING_DIM': 64,\n",
    "    'HIDDEN_DIM': 64,\n",
    "    'NUM_EPOCHS': 50,\n",
    "    'LEARNING_RATE': 0.01,\n",
    "    'SCHEDULER_FACTOR': 0.1,\n",
    "    'SCHEDULER_PATIENCE': 10,\n",
    "    'CASE_SENSITIVE_VOCAB': case_sensitive_vocab,\n",
    "    'WEIGHT_DECAY': 1e-4,\n",
    "    'TEST_SIZE': test_size,\n",
    "    'USE_NUM2WORDS': use_num2words\n",
    "}\n",
    "\n",
    "experiment = run_experiment(\n",
    "    experiment=experiment,\n",
    "    exp_settings_path=r\"G:\\PythonProjects\\WineRecognition2\\nn\\experiment_settings.json\",\n",
    "    notebook_path='train_bilstm_crf_neptune.ipynb',\n",
    "    train=True\n",
    ")\n",
    "\n",
    "bilstm_model_path = experiment['OUTPUT_DIR'] + '/model/data/model.pth'"
   ]
  },
  {
   "cell_type": "markdown",
   "id": "195f2534-59fc-4edb-a662-cfc5391bc407",
   "metadata": {},
   "source": [
    "## test BiLSTM-CRF Neptune.ai"
   ]
  },
  {
   "cell_type": "code",
   "execution_count": null,
   "id": "0a1f590d-d1c0-414e-b9d5-3797567ad1b2",
   "metadata": {},
   "outputs": [],
   "source": [
    "exp1 = {\n",
    "    'TRAIN_RUN_ID': 'WIN-32',\n",
    "    'RUN_NAME': 'Test-Menu',\n",
    "    'DATA_PATH': r'G:\\PythonProjects\\WineRecognition2\\data\\text\\menu_txt_tagged_fixed_bottlesize.txt',\n",
    "    'COMPUTE_METRICS': True,\n",
    "    'DEVICE': 'cuda',\n",
    "}\n",
    "exp2 = {\n",
    "    'TRAIN_RUN_ID': 'WIN-32',\n",
    "    'RUN_NAME': 'Test-Menu-Blocks',\n",
    "    'DATA_PATH': r'G:\\PythonProjects\\WineRecognition2\\ocr\\data\\results2\\wine_menus_blocks2_with_tags.txt',\n",
    "    'COMPUTE_METRICS': True,\n",
    "    'DEVICE': 'cuda',\n",
    "}\n",
    "\n",
    "for exp in [exp1, exp2]:\n",
    "    experiment = run_experiment(\n",
    "        experiment=exp,\n",
    "        exp_settings_path=r\"G:\\PythonProjects\\WineRecognition2\\nn\\experiment_settings.json\",\n",
    "        notebook_path='test_bilstm_crf_neptune.ipynb',\n",
    "        train=False\n",
    "    )"
   ]
  },
  {
   "cell_type": "markdown",
   "id": "af301df4-a66a-4bbd-83db-0775fea95e08",
   "metadata": {},
   "source": [
    "## train BiLSTM-CRF Weights and Biases"
   ]
  },
  {
   "cell_type": "code",
   "execution_count": null,
   "id": "4542b8da-9db5-4b9e-8ad6-ad19447e7df7",
   "metadata": {},
   "outputs": [],
   "source": [
    "experiment = {\n",
    "    'MODEL_NAME': 'BiLSTM_CRF',\n",
    "    'RUN_NAME': f'train-H_WS_Brux_MenuSamples+USA+ENG+CAN_Num2Words_',\n",
    "    'DATASET_PATH': dataset_path,\n",
    "    'VOCAB_PATH': vocab_path,\n",
    "    'DATAINFO_PATH': datainfo_path,\n",
    "    'DEVICE': 'cuda',\n",
    "    'BATCH_SIZE': 2048,\n",
    "    'EMBEDDING_DIM': 64,\n",
    "    'HIDDEN_DIM': 64,\n",
    "    'NUM_EPOCHS': 50,\n",
    "    'LEARNING_RATE': 0.01,\n",
    "    'SCHEDULER_FACTOR': 0.1,\n",
    "    'SCHEDULER_PATIENCE': 10,\n",
    "    'CASE_SENSITIVE_VOCAB': case_sensitive_vocab,\n",
    "    'WEIGHT_DECAY': 1e-4,\n",
    "    'TEST_SIZE': test_size,\n",
    "    'USE_NUM2WORDS': use_num2words\n",
    "}\n",
    "\n",
    "experiment = run_experiment(\n",
    "    experiment=experiment,\n",
    "    exp_settings_path=r\"G:\\PythonProjects\\WineRecognition2\\nn\\experiment_settings.json\",\n",
    "    notebook_path='train_bilstm_crf_wandb.ipynb',\n",
    "    train=True\n",
    ")\n",
    "\n",
    "bilstm_model_path = experiment['OUTPUT_DIR'] + '/model/data/model.pth'"
   ]
  },
  {
   "cell_type": "markdown",
   "id": "33e852c3-f986-4da7-907b-643b6f77edf8",
   "metadata": {},
   "source": [
    "## test BiLSTM-CRF Weights and Biases"
   ]
  },
  {
   "cell_type": "code",
   "execution_count": null,
   "id": "2a03aede-392a-4af7-9bac-11c69c56b509",
   "metadata": {},
   "outputs": [],
   "source": [
    "exp1 = {\n",
    "    'TRAIN_RUN_ID': '3ceppkdm',\n",
    "    'RUN_NAME': 'Test-Menu',\n",
    "    'DATA_PATH': r'G:\\PythonProjects\\WineRecognition2\\data\\text\\menu_txt_tagged_fixed_bottlesize.txt',\n",
    "    'COMPUTE_METRICS': True,\n",
    "    'DEVICE': 'cuda',\n",
    "}\n",
    "exp2 = {\n",
    "    'TRAIN_RUN_ID': '3ceppkdm',\n",
    "    'RUN_NAME': 'Test-Menu-Blocks',\n",
    "    'DATA_PATH': r'G:\\PythonProjects\\WineRecognition2\\ocr\\data\\results2\\wine_menus_blocks2_with_tags.txt',\n",
    "    'COMPUTE_METRICS': True,\n",
    "    'DEVICE': 'cuda',\n",
    "}\n",
    "\n",
    "for exp in [exp1, exp2]:\n",
    "    experiment = run_experiment(\n",
    "        experiment=exp,\n",
    "        exp_settings_path=r\"G:\\PythonProjects\\WineRecognition2\\nn\\experiment_settings.json\",\n",
    "        notebook_path='test_bilstm_crf_wandb.ipynb',\n",
    "        train=False\n",
    "    )"
   ]
  },
  {
   "cell_type": "markdown",
   "id": "2f788d64-1cff-49e2-a0db-936ef9eadf8b",
   "metadata": {},
   "source": [
    "## train BiLSTM-CRF "
   ]
  },
  {
   "cell_type": "code",
   "execution_count": null,
   "id": "4c5e78f6",
   "metadata": {
    "tags": []
   },
   "outputs": [],
   "source": [
    "experiment = {\n",
    "    'MODEL_NAME': 'BiLSTM_CRF',\n",
    "    'RUN_NAME': f'train-H_WS_Brux_MenuSamples+USA+ENG+CAN_Num2Words_',\n",
    "    'DATASET_PATH': dataset_path,\n",
    "    'VOCAB_PATH': vocab_path,\n",
    "    'DATAINFO_PATH': datainfo_path,\n",
    "    'DEVICE': 'cuda',\n",
    "    'BATCH_SIZE': 2048,\n",
    "    'EMBEDDING_DIM': 64,\n",
    "    'HIDDEN_DIM': 64,\n",
    "    'NUM_EPOCHS': 100,\n",
    "    'LEARNING_RATE': 0.01,\n",
    "    'SCHEDULER_FACTOR': 0.1,\n",
    "    'SCHEDULER_PATIENCE': 10,\n",
    "    'CASE_SENSITIVE_VOCAB': case_sensitive_vocab,\n",
    "    'WEIGHT_DECAY': 1e-4,\n",
    "    'TEST_SIZE': test_size,\n",
    "    'USE_NUM2WORDS': use_num2words\n",
    "}\n",
    "\n",
    "experiment = run_experiment(\n",
    "    experiment=experiment,\n",
    "    exp_settings_path=r\"G:\\PythonProjects\\WineRecognition2\\nn\\experiment_settings.json\",\n",
    "    notebook_path='train_bilstm_crf.ipynb',\n",
    "    train=True\n",
    ")\n",
    "\n",
    "bilstm_model_path = experiment['OUTPUT_DIR'] + '/model/data/model.pth'"
   ]
  },
  {
   "cell_type": "markdown",
   "id": "f79456c4",
   "metadata": {},
   "source": [
    "## train CRF with LSTM features"
   ]
  },
  {
   "cell_type": "code",
   "execution_count": null,
   "id": "a2f91983",
   "metadata": {},
   "outputs": [],
   "source": [
    "bilstm_model_path = 'G:/PythonProjects/WineRecognition2/artifacts/train/BiLSTM_CRF_28032022_161428/model/data/model.pth'\n",
    "dictionary_path = r\"G:\\PythonProjects\\WineRecognition2\\data\\dictionaries\\Dict-byword_Halliday_Winesearcher_Bruxelles\"\n",
    "\n",
    "experiment = {\n",
    "    'DATASET_PATH': dataset_path,\n",
    "    'LSTM_MODEL_PATH': bilstm_model_path,\n",
    "    'VOCAB_PATH': vocab_path,\n",
    "    'DICTIONARY_PATH': dictionary_path,\n",
    "    'DATAINFO_PATH': datainfo_path,\n",
    "    'DEVICE': 'cuda',\n",
    "    'CASE_SENSITIVE_VOCAB': case_sensitive_vocab,\n",
    "    'MODEL_NAME': \"CRF_with_LSTM_and_Our_features_and_Dict_features_with_bigrams\",\n",
    "    'ALGORITHM': 'lbfgs',\n",
    "    'C1': 0.1,\n",
    "    'C2': 0.1,\n",
    "    'MAX_ITERATIONS': 150,\n",
    "    'ALL_POSSIBLE_TRANSITIONS': True,\n",
    "    'TEST_SIZE': test_size,\n",
    "    'RUN_NAME': 'train-H_WS_Brux_MenuSamples_Num2Words_for_OCR_blocks',\n",
    "    'OUTPUT_DIR': None,\n",
    "    'START_TIME': None,\n",
    "    'USE_NUM2WORDS': use_num2words\n",
    "}\n",
    "\n",
    "experiment = run_experiment(\n",
    "    experiment=experiment,\n",
    "    exp_settings_path=r\"G:\\PythonProjects\\WineRecognition2\\nn\\experiment_settings.json\",\n",
    "    notebook_path=\"train_crf_with_lstm_features.ipynb\",\n",
    "    train=True\n",
    ")"
   ]
  },
  {
   "cell_type": "code",
   "execution_count": null,
   "id": "000355a6",
   "metadata": {},
   "outputs": [],
   "source": []
  }
 ],
 "metadata": {
  "kernelspec": {
   "display_name": "wine-recognition",
   "language": "python",
   "name": "wine-recognition"
  },
  "language_info": {
   "codemirror_mode": {
    "name": "ipython",
    "version": 3
   },
   "file_extension": ".py",
   "mimetype": "text/x-python",
   "name": "python",
   "nbconvert_exporter": "python",
   "pygments_lexer": "ipython3",
   "version": "3.9.16"
  }
 },
 "nbformat": 4,
 "nbformat_minor": 5
}
