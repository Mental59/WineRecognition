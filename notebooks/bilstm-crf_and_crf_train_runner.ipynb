{
 "cells": [
  {
   "cell_type": "code",
   "execution_count": 1,
   "id": "fe76b413",
   "metadata": {},
   "outputs": [],
   "source": [
    "import os\n",
    "import json\n",
    "import papermill as pm\n",
    "import datetime"
   ]
  },
  {
   "cell_type": "code",
   "execution_count": 2,
   "id": "ce2b3e19",
   "metadata": {},
   "outputs": [],
   "source": [
    "dataset_path = r'G:\\PythonProjects\\WineRecognition2\\data\\text\\halliday_winesearcher_menu_gen_samplesv3\\Halliday_WineSearcher_MenuGenSamples.txt'\n",
    "vocab_path = 'G:/PythonProjects/WineRecognition2/data/vocabs/Words_Halliday_Wine_AU_WORD_NUMS.json'\n",
    "datainfo_path = 'G:/PythonProjects/WineRecognition2/data_info.json'\n",
    "case_sensitive_vocab = False\n",
    "use_num2words = True\n",
    "test_size = 0.2\n",
    "#bilstm_model_path = 'G:/PythonProjects/WineRecognition2/artifacts/train/BiLSTM_CRF_17022022_185854/model/data/model.pth'"
   ]
  },
  {
   "cell_type": "markdown",
   "id": "0871860b",
   "metadata": {},
   "source": [
    "## train BiLSTM-CRF"
   ]
  },
  {
   "cell_type": "code",
   "execution_count": null,
   "id": "4c5e78f6",
   "metadata": {},
   "outputs": [
    {
     "data": {
      "application/vnd.jupyter.widget-view+json": {
       "model_id": "966fdc7a4735473aa5a40bf93b1a7acc",
       "version_major": 2,
       "version_minor": 0
      },
      "text/plain": [
       "Executing:   0%|          | 0/19 [00:00<?, ?cell/s]"
      ]
     },
     "metadata": {},
     "output_type": "display_data"
    }
   ],
   "source": [
    "exp_settings = json.load(\n",
    "    open(r\"G:\\PythonProjects\\WineRecognition2\\nn\\experiment_settings.json\")\n",
    ")\n",
    "\n",
    "\n",
    "\n",
    "experiment = {\n",
    "    'MODEL_NAME': 'BiLSTM_CRF',\n",
    "    'RUN_NAME': f'train-H_WS_MenuSamples_Num2Words-64',\n",
    "    'START_TIME': None,\n",
    "    'OUTPUT_DIR': None,\n",
    "    'DATASET_PATH': dataset_path,\n",
    "    'VOCAB_PATH': vocab_path,\n",
    "    'DATAINFO_PATH': datainfo_path,\n",
    "    'DEVICE': 'cuda',\n",
    "    'BATCH_SIZE': 2048,\n",
    "    'EMBEDDING_DIM': 64,\n",
    "    'HIDDEN_DIM': 64,\n",
    "    'NUM_EPOCHS': 150,\n",
    "    'LEARNING_RATE': 0.01,\n",
    "    'SCHEDULER_FACTOR': 0.1,\n",
    "    'SCHEDULER_PATIENCE': 10,\n",
    "    'CASE_SENSITIVE_VOCAB': case_sensitive_vocab,\n",
    "    'WEIGHT_DECAY': 1e-4,\n",
    "    'TEST_SIZE': test_size,\n",
    "    'USE_NUM2WORDS': use_num2words\n",
    "}\n",
    "\n",
    "experiment['START_TIME'] = '{:%d%m%Y_%H%M%S}'.format(datetime.datetime.now())\n",
    "experiment['OUTPUT_DIR'] = f\"{exp_settings['artifacts_path']}/train/{experiment['MODEL_NAME'] + '_' + experiment['START_TIME']}\"\n",
    "\n",
    "bilstm_model_path = experiment['OUTPUT_DIR'] + '/model/data/model.pth'\n",
    "\n",
    "if not os.path.exists(experiment['OUTPUT_DIR']):\n",
    "    os.mkdir(experiment['OUTPUT_DIR'])\n",
    "    \n",
    "pm.execute_notebook(\n",
    "    input_path='train_bilstm_crf.ipynb',\n",
    "    output_path=os.path.join(experiment['OUTPUT_DIR'], 'train_bilstm_crf.ipynb'),\n",
    "    parameters=experiment\n",
    ")"
   ]
  },
  {
   "cell_type": "markdown",
   "id": "f79456c4",
   "metadata": {},
   "source": [
    "## train CRF with LSTM features"
   ]
  },
  {
   "cell_type": "code",
   "execution_count": null,
   "id": "a2f91983",
   "metadata": {},
   "outputs": [
    {
     "data": {
      "application/vnd.jupyter.widget-view+json": {
       "model_id": "62c3f961bf7b4943ae0065dad4cae376",
       "version_major": 2,
       "version_minor": 0
      },
      "text/plain": [
       "Executing:   0%|          | 0/17 [00:00<?, ?cell/s]"
      ]
     },
     "metadata": {},
     "output_type": "display_data"
    }
   ],
   "source": [
    "exp_settings = json.load(\n",
    "    open(r\"G:\\PythonProjects\\WineRecognition2\\experiment_settings.json\")\n",
    ")\n",
    "\n",
    "experiment = {\n",
    "    'DATASET_PATH': dataset_path,\n",
    "    'LSTM_MODEL_PATH': bilstm_model_path,\n",
    "    'VOCAB_PATH': vocab_path,\n",
    "    'DICTIONARY_PATH': r\"G:\\PythonProjects\\WineRecognition2\\data\\dictionaries\\Dict-byword_Halliday_Winesearcher_Wine_AU-only_completed_rows\",\n",
    "    'DATAINFO_PATH': datainfo_path,\n",
    "    'DEVICE': 'cuda',\n",
    "    'CASE_SENSITIVE_VOCAB': case_sensitive_vocab,\n",
    "    'MODEL_NAME': \"CRF_with_LSTM_and_Our_features\",\n",
    "    'ALGORITHM': 'lbfgs',\n",
    "    'C1': 0.1,\n",
    "    'C2': 0.1,\n",
    "    'MAX_ITERATIONS': 150,\n",
    "    'ALL_POSSIBLE_TRANSITIONS': True,\n",
    "    'TEST_SIZE': test_size,\n",
    "    'RUN_NAME': 'train-H_WS_MenuSamples-Num2Words',\n",
    "    'OUTPUT_DIR': None,\n",
    "    'START_TIME': None,\n",
    "    'USE_NUM2WORDS': use_num2words\n",
    "}\n",
    "\n",
    "experiment['START_TIME'] = '{:%d%m%Y_%H%M%S}'.format(datetime.datetime.now())\n",
    "experiment['OUTPUT_DIR'] = f\"{exp_settings['artifacts_path']}/train/{experiment['MODEL_NAME'] + '_' + experiment['START_TIME']}\"\n",
    "\n",
    "if not os.path.exists(experiment['OUTPUT_DIR']):\n",
    "    os.mkdir(experiment['OUTPUT_DIR'])\n",
    "\n",
    "pm.execute_notebook(\n",
    "    input_path='train_crf_with_lstm_features.ipynb',\n",
    "    output_path=os.path.join(experiment['OUTPUT_DIR'], 'train_crf_with_lstm_features.ipynb'),\n",
    "    parameters=experiment\n",
    ")"
   ]
  },
  {
   "cell_type": "code",
   "execution_count": null,
   "id": "000355a6",
   "metadata": {},
   "outputs": [],
   "source": []
  }
 ],
 "metadata": {
  "kernelspec": {
   "display_name": "wine-recognition",
   "language": "python",
   "name": "wine-recognition"
  },
  "language_info": {
   "codemirror_mode": {
    "name": "ipython",
    "version": 3
   },
   "file_extension": ".py",
   "mimetype": "text/x-python",
   "name": "python",
   "nbconvert_exporter": "python",
   "pygments_lexer": "ipython3",
   "version": "3.9.7"
  }
 },
 "nbformat": 4,
 "nbformat_minor": 5
}
