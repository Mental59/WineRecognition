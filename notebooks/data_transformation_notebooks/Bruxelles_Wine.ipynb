{
 "cells": [
  {
   "cell_type": "code",
   "execution_count": 1,
   "id": "820594aa",
   "metadata": {},
   "outputs": [],
   "source": [
    "import os\n",
    "import sys\n",
    "import json\n",
    "import pandas as pd\n",
    "import numpy as np\n",
    "\n",
    "if r'G:\\PythonProjects\\WineRecognition2' not in sys.path:\n",
    "    sys.path.insert(0, r'G:\\PythonProjects\\WineRecognition2')\n",
    "from data_master import DataLoader"
   ]
  },
  {
   "cell_type": "code",
   "execution_count": null,
   "id": "6f37c565",
   "metadata": {
    "scrolled": true
   },
   "outputs": [],
   "source": [
    "with open(r'G:\\PythonProjects\\WineRecognition2\\data_info.json') as file:\n",
    "    data_info = json.load(file)\n",
    "all_keys = data_info['keys']['all']\n",
    "all_keys.remove('Punctuation')\n",
    "all_keys.remove('Other')\n",
    "all_keys"
   ]
  },
  {
   "cell_type": "code",
   "execution_count": null,
   "id": "c30bb5cb",
   "metadata": {},
   "outputs": [],
   "source": [
    "data_path = r'G:\\PythonProjects\\WineRecognition2\\data\\excel\\new_Bruxelles_Wine_ES.xlsx'\n",
    "df = DataLoader.load_excel_data(data_path)\n",
    "df.head()"
   ]
  },
  {
   "cell_type": "code",
   "execution_count": null,
   "id": "5b1e7041",
   "metadata": {},
   "outputs": [],
   "source": [
    "df.drop([col for col in df.columns if not col.startswith('add')], axis=1, inplace=True)"
   ]
  },
  {
   "cell_type": "code",
   "execution_count": null,
   "id": "745aa32b",
   "metadata": {},
   "outputs": [],
   "source": [
    "df.head()"
   ]
  },
  {
   "cell_type": "code",
   "execution_count": null,
   "id": "9289b9d3",
   "metadata": {},
   "outputs": [],
   "source": [
    "df.rename(columns={\n",
    "    'add_originFullName': 'Add_OriginFullName',\n",
    "    'add_keyWordTrue': 'Add_KeyWordTrue',\n",
    "    'add_keyWordFalse': 'Add_KeywordFalse',\n",
    "    'add_grapeVarieties': 'Add_GrapeVarieties',\n",
    "    'add_tradeName': 'Add_TradeName',\n",
    "    'add_brand': 'Add_Brand',\n",
    "    'add_geoIndication': 'Add_GeoIndication',\n",
    "    'add_wineType': 'Add_WineType',\n",
    "    'add_bottleSize': 'Add_BottleSize',\n",
    "    'add_sweetness': 'Add_Sweetness',\n",
    "    'add_wineColor': 'Add_WineColor',\n",
    "    'add_vintage': 'Add_Vintage'\n",
    "}, inplace=True)"
   ]
  },
  {
   "cell_type": "code",
   "execution_count": null,
   "id": "572e1b7b",
   "metadata": {},
   "outputs": [],
   "source": [
    "for index, row in df.iterrows():\n",
    "    if len(row['add_additionalName']) > len(row['Add_KeyWordTrue']):\n",
    "        df.loc[index, 'Add_KeyWordTrue'] = row['add_additionalName']"
   ]
  },
  {
   "cell_type": "code",
   "execution_count": null,
   "id": "88e02033",
   "metadata": {},
   "outputs": [],
   "source": [
    "df.drop([col for col in df.columns if not col.startswith('Add')], axis=1, inplace=True)"
   ]
  },
  {
   "cell_type": "code",
   "execution_count": null,
   "id": "b5b10dd6",
   "metadata": {},
   "outputs": [],
   "source": [
    "df.head()"
   ]
  },
  {
   "cell_type": "code",
   "execution_count": null,
   "id": "2d29e020",
   "metadata": {},
   "outputs": [],
   "source": [
    "translate = {\n",
    "    'originFullName': 'Add_OriginFullName',\n",
    "    'keyWordTrue': 'Add_KeyWordTrue',\n",
    "    'keyWordFalse': 'Add_KeyWordFalse',\n",
    "    'grapeVarieties': 'Add_GrapeVarieties',\n",
    "    'tradeName': 'Add_TradeName',\n",
    "    'brand': 'Add_Brand',\n",
    "    'geoindication': 'Add_GeoIndication',\n",
    "    'wineType': 'Add_WineType',\n",
    "    'bottleSize': 'Add_BottleSize',\n",
    "    'sweetness': 'Add_Sweetness',\n",
    "    'wineColor': 'Add_WineColor',\n",
    "    'vintage': 'Add_Vintage'\n",
    "}"
   ]
  },
  {
   "cell_type": "code",
   "execution_count": null,
   "id": "bf477950",
   "metadata": {},
   "outputs": [],
   "source": [
    "new_df = []\n",
    "for index, row in df.iterrows():\n",
    "    splitted_fullname = row['Add_OriginFullName'].split('}')\n",
    "    splitted_fullname = [token.strip().replace('{', '').split(': ') for token in splitted_fullname if token.strip()]\n",
    "    keys_not_met = {key: False for key in all_keys.copy()}\n",
    "    new_row = {}\n",
    "    for key, value in splitted_fullname:\n",
    "        if key not in translate:\n",
    "            continue\n",
    "        translated_key = translate[key]\n",
    "        keys_not_met[translated_key] = True\n",
    "        if translated_key not in new_row:\n",
    "            new_row[translated_key] = value\n",
    "        else:\n",
    "            new_row[translated_key] = f'{new_row[translated_key]} {value}'\n",
    "    for key in filter(lambda k: not keys_not_met[k], keys_not_met):\n",
    "        if key not in row:\n",
    "            new_row[key] = ''\n",
    "            continue\n",
    "        if key == 'Add_GeoIndication':\n",
    "            new_row[key] = str(row[key]).split(' / ')[0]\n",
    "            continue\n",
    "        new_row[key] = row[key]\n",
    "    new_df.append(new_row)"
   ]
  },
  {
   "cell_type": "code",
   "execution_count": null,
   "id": "14692c96",
   "metadata": {},
   "outputs": [],
   "source": [
    "new_df = pd.DataFrame(new_df)\n",
    "new_df.head()"
   ]
  },
  {
   "cell_type": "code",
   "execution_count": null,
   "id": "9bd1e086",
   "metadata": {},
   "outputs": [],
   "source": [
    "def transform_grape(x):\n",
    "    grapes = []\n",
    "    for grape in x.split('; '):\n",
    "        grapes.append(grape.split(', ')[0])\n",
    "    return ' '.join(grapes)\n",
    "\n",
    "new_df.Add_GrapeVarieties = new_df.Add_GrapeVarieties.apply(transform_grape)"
   ]
  },
  {
   "cell_type": "code",
   "execution_count": null,
   "id": "1425799a",
   "metadata": {},
   "outputs": [],
   "source": [
    "def transform_cells(x):\n",
    "    return ''.join(c for c in str(x) if c not in '[]{};,')\n",
    "\n",
    "new_df = new_df.applymap(transform_cells)"
   ]
  },
  {
   "cell_type": "code",
   "execution_count": null,
   "id": "14b79b10",
   "metadata": {},
   "outputs": [],
   "source": [
    "new_df.to_csv(os.path.join(r'G:\\PythonProjects\\WineRecognition2\\data\\csv', 'Bruxelles_Wine_ES.csv'))"
   ]
  },
  {
   "cell_type": "code",
   "execution_count": null,
   "id": "3e014d34",
   "metadata": {},
   "outputs": [],
   "source": [
    "new_df.to_excel(os.path.join(r'G:\\PythonProjects\\WineRecognition2\\data\\excel', 'Bruxelles_Wine_ES(transformed).xlsx'))"
   ]
  },
  {
   "cell_type": "code",
   "execution_count": 3,
   "id": "3725aaef",
   "metadata": {},
   "outputs": [
    {
     "data": {
      "text/plain": [
       "-1.0416261940597868"
      ]
     },
     "execution_count": 3,
     "metadata": {},
     "output_type": "execute_result"
    }
   ],
   "source": [
    "np.random.randn(1)[0]"
   ]
  },
  {
   "cell_type": "code",
   "execution_count": null,
   "id": "f3958f6e",
   "metadata": {},
   "outputs": [],
   "source": []
  }
 ],
 "metadata": {
  "kernelspec": {
   "display_name": "wine-recognition",
   "language": "python",
   "name": "wine-recognition"
  },
  "language_info": {
   "codemirror_mode": {
    "name": "ipython",
    "version": 3
   },
   "file_extension": ".py",
   "mimetype": "text/x-python",
   "name": "python",
   "nbconvert_exporter": "python",
   "pygments_lexer": "ipython3",
   "version": "3.9.7"
  }
 },
 "nbformat": 4,
 "nbformat_minor": 5
}
