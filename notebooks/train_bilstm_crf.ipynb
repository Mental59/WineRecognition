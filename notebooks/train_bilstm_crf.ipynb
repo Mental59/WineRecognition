{
 "cells": [
  {
   "cell_type": "code",
   "execution_count": 1,
   "id": "a4df137a-7825-4ee9-bba5-c22e64e58532",
   "metadata": {},
   "outputs": [],
   "source": [
    "import sys\n",
    "import json\n",
    "\n",
    "import torch\n",
    "from torch.optim import Adam\n",
    "from torch.utils.data import DataLoader\n",
    "from tqdm.notebook import tqdm\n",
    "from sklearn.model_selection import train_test_split\n",
    "\n",
    "if r'G:\\PythonProjects\\WineRecognition2' not in sys.path:\n",
    "    sys.path.insert(0, r'G:\\PythonProjects\\WineRecognition2')\n",
    "from nn.utils import CustomDataset, train, plot_losses, generate_tag_to_ix\n",
    "from nn.model import BiLSTM_CRF\n",
    "from nn.mlflow_utils import log_mlflow_on_train\n",
    "from data_master import DataGenerator"
   ]
  },
  {
   "cell_type": "code",
   "execution_count": 2,
   "id": "88eb69d0-a561-490f-b96c-2251c20d4252",
   "metadata": {
    "tags": [
     "parameters"
    ]
   },
   "outputs": [],
   "source": [
    "MODEL_NAME = 'BiLSTM_CRF'\n",
    "RUN_NAME = ''\n",
    "START_TIME = ''\n",
    "OUTPUT_DIR = ''\n",
    "DATASET_PATH = '../data/text/Halliday_Wine_AU-only_completed_rows-complex.txt'\n",
    "VOCAB_PATH = '../data/vocabs/Words_Halliday_Wine_AU.json'\n",
    "DATAINFO_PATH = '../data_info.json'\n",
    "DEVICE = 'cuda'\n",
    "BATCH_SIZE = 128\n",
    "EMBEDDING_DIM = 256\n",
    "HIDDEN_DIM = 64\n",
    "NUM_EPOCHS = 3\n",
    "LEARNING_RATE = 0.01\n",
    "WEIGHT_DECAY = 0.0001\n",
    "TEST_SIZE = 0.2"
   ]
  },
  {
   "cell_type": "code",
   "execution_count": 3,
   "id": "0a679855-195c-48a5-b1df-d7992a433650",
   "metadata": {},
   "outputs": [
    {
     "data": {
      "text/plain": [
       "123761"
      ]
     },
     "execution_count": 3,
     "metadata": {},
     "output_type": "execute_result"
    }
   ],
   "source": [
    "with open(DATASET_PATH) as file:\n",
    "    sents = DataGenerator.generate_sents2(file.read().split('\\n'))\n",
    "len(sents)"
   ]
  },
  {
   "cell_type": "code",
   "execution_count": 4,
   "id": "147d43fa-aff7-43c1-97d9-424cea350e10",
   "metadata": {},
   "outputs": [
    {
     "data": {
      "text/plain": [
       "(99008, 24753)"
      ]
     },
     "execution_count": 4,
     "metadata": {},
     "output_type": "execute_result"
    }
   ],
   "source": [
    "train_data, val_data = train_test_split(sents, test_size=TEST_SIZE)\n",
    "len(train_data), len(val_data)"
   ]
  },
  {
   "cell_type": "code",
   "execution_count": 5,
   "id": "8ebd43e1-2ff8-4f39-8810-1c3a0d3546db",
   "metadata": {
    "tags": []
   },
   "outputs": [
    {
     "data": {
      "text/plain": [
       "{'Add_TradeName': 0,\n",
       " 'Add_Brand': 1,\n",
       " 'Add_KeyWordTrue': 2,\n",
       " 'Add_KeyWordFalse': 3,\n",
       " 'Add_GrapeVarieties': 4,\n",
       " 'Add_GeoIndication': 5,\n",
       " 'Add_WineType': 6,\n",
       " 'Add_BottleSize': 7,\n",
       " 'Add_Sweetness': 8,\n",
       " 'Add_WineColor': 9,\n",
       " 'Add_ClosureType': 10,\n",
       " 'Add_Certificate': 11,\n",
       " 'Add_Vintage': 12,\n",
       " 'Add_Price': 13,\n",
       " 'Punctuation': 14}"
      ]
     },
     "execution_count": 5,
     "metadata": {},
     "output_type": "execute_result"
    }
   ],
   "source": [
    "with open(DATAINFO_PATH) as file:\n",
    "    tag_to_ix = generate_tag_to_ix(json.load(file)['keys']['all'] + ['Punctuation'])\n",
    "tag_to_ix"
   ]
  },
  {
   "cell_type": "code",
   "execution_count": 6,
   "id": "535b15e3-8339-43b4-a46f-0d4f9d5131b9",
   "metadata": {
    "tags": []
   },
   "outputs": [
    {
     "data": {
      "text/plain": [
       "12138"
      ]
     },
     "execution_count": 6,
     "metadata": {},
     "output_type": "execute_result"
    }
   ],
   "source": [
    "with open(VOCAB_PATH, 'r', encoding='utf-8') as file:\n",
    "    word_to_ix = json.load(file)\n",
    "len(word_to_ix)"
   ]
  },
  {
   "cell_type": "code",
   "execution_count": 7,
   "id": "73c5d913-4add-410b-86fc-fc9abc0003d7",
   "metadata": {},
   "outputs": [],
   "source": [
    "train_dataset = CustomDataset(train_data, tag_to_ix, word_to_ix)\n",
    "val_dataset = CustomDataset(val_data, tag_to_ix, word_to_ix)"
   ]
  },
  {
   "cell_type": "code",
   "execution_count": 8,
   "id": "9b10f48f-ab74-4afb-856f-a4c01e732651",
   "metadata": {},
   "outputs": [],
   "source": [
    "dataloaders = {\n",
    "    'train': DataLoader(train_dataset, batch_size=BATCH_SIZE, shuffle=True, drop_last=True),\n",
    "    'val': DataLoader(val_dataset, batch_size=BATCH_SIZE, shuffle=False, drop_last=False)\n",
    "}"
   ]
  },
  {
   "cell_type": "code",
   "execution_count": 9,
   "id": "4e568962-322a-4ad0-a064-de168eac44ef",
   "metadata": {},
   "outputs": [],
   "source": [
    "vocab_size = len(word_to_ix)\n",
    "model = BiLSTM_CRF(vocab_size, len(tag_to_ix), EMBEDDING_DIM, HIDDEN_DIM, padding_idx=word_to_ix['PAD']).to(DEVICE)\n",
    "optimizer = Adam(model.parameters(), lr=LEARNING_RATE, weight_decay=WEIGHT_DECAY)"
   ]
  },
  {
   "cell_type": "code",
   "execution_count": 10,
   "id": "722dcaf0-27b3-449c-b5fe-2be8955a8af0",
   "metadata": {},
   "outputs": [
    {
     "data": {
      "application/vnd.jupyter.widget-view+json": {
       "model_id": "4f5d756904a44c97b7d33673f5f43c11",
       "version_major": 2,
       "version_minor": 0
      },
      "text/plain": [
       "  0%|          | 0/3 [00:00<?, ?it/s]"
      ]
     },
     "metadata": {},
     "output_type": "display_data"
    },
    {
     "name": "stdout",
     "output_type": "stream",
     "text": [
      "Epoch: 1, train_loss: -10611.389903408215, val_loss: -21248.693521997335\n",
      "Epoch: 2, train_loss: -31493.361210710245, val_loss: -41983.60658809033\n",
      "Epoch: 3, train_loss: -52092.255842962186, val_loss: -62628.21545873227\n"
     ]
    }
   ],
   "source": [
    "model, losses = train(model, optimizer, dataloaders, DEVICE, NUM_EPOCHS, OUTPUT_DIR, tqdm)"
   ]
  },
  {
   "cell_type": "code",
   "execution_count": 12,
   "id": "2c3d17a6-f156-42b4-b337-b51100c20c9d",
   "metadata": {},
   "outputs": [],
   "source": [
    "y_val_true = [x[1] for x in val_data]"
   ]
  },
  {
   "cell_type": "code",
   "execution_count": 24,
   "id": "a908e3e2-2a78-41ae-bd2e-2b6aa65364e4",
   "metadata": {},
   "outputs": [],
   "source": [
    "y_val_pred = []\n",
    "tags = list(tag_to_ix.keys())\n",
    "model.eval()\n",
    "with torch.no_grad():\n",
    "    for x_batch, y_batch, mask_batch in dataloaders['val']:\n",
    "        y_batch_pred = model(x_batch.to(DEVICE), mask_batch.to(DEVICE))\n",
    "        y_val_pred.extend(y_batch_pred)\n",
    "y_val_pred = [[tags[tag] for tag in sentence] for sentence in y_val_pred]"
   ]
  },
  {
   "cell_type": "code",
   "execution_count": 40,
   "id": "e97db095-64c1-4862-b763-1f96e498931e",
   "metadata": {},
   "outputs": [],
   "source": [
    "test_eval = [list(zip(sentence, tags, y_val_pred[index])) for index, (sentence, tags) in enumerate(val_data)]"
   ]
  },
  {
   "cell_type": "code",
   "execution_count": 63,
   "id": "eb219f54-01ee-45cd-ab28-3b042c981ba7",
   "metadata": {},
   "outputs": [],
   "source": [
    "run_params = {\n",
    "    'model_name': MODEL_NAME,\n",
    "    'run_name': RUN_NAME,\n",
    "    'start_time': START_TIME,\n",
    "    'output_dir': OUTPUT_DIR,\n",
    "    'dataset_path': DATASET_PATH,\n",
    "    'vocab_path': VOCAB_PATH,\n",
    "    'datainfo_path': DATAINFO_PATH,\n",
    "    'device': DEVICE,\n",
    "    'batch_size': BATCH_SIZE,\n",
    "    'embedding_dim': EMBEDDING_DIM,\n",
    "    'hidden_dim': HIDDEN_DIM,\n",
    "    'vocab_size': vocab_size,\n",
    "    'tags': ', '.join(tag_to_ix),\n",
    "    'num_epochs': NUM_EPOCHS,\n",
    "    'learning_rate': LEARNING_RATE,\n",
    "    'weight_decay': WEIGHT_DECAY,\n",
    "    'test_size': TEST_SIZE\n",
    "}"
   ]
  },
  {
   "cell_type": "code",
   "execution_count": null,
   "id": "caf57326-0d9e-40d2-ad5f-1c5937cb0cc2",
   "metadata": {},
   "outputs": [],
   "source": [
    "log_mlflow_on_train(\n",
    "    run_params=run_params,\n",
    "    model=model,\n",
    "    classes=list(tag_to_ix),\n",
    "    losses=losses,\n",
    "    y_true=y_val_true,\n",
    "    y_pred=y_val_pred,\n",
    "    test_eval=test_eval\n",
    ")"
   ]
  }
 ],
 "metadata": {
  "kernelspec": {
   "display_name": "wine-recognition",
   "language": "python",
   "name": "wine-recognition"
  },
  "language_info": {
   "codemirror_mode": {
    "name": "ipython",
    "version": 3
   },
   "file_extension": ".py",
   "mimetype": "text/x-python",
   "name": "python",
   "nbconvert_exporter": "python",
   "pygments_lexer": "ipython3",
   "version": "3.9.7"
  }
 },
 "nbformat": 4,
 "nbformat_minor": 5
}
