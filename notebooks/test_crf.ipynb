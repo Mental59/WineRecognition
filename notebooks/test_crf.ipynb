{
 "cells": [
  {
   "cell_type": "code",
   "execution_count": 54,
   "id": "5fea23a7-2917-4c5e-a2c1-e88fc2c3a5ca",
   "metadata": {},
   "outputs": [
    {
     "name": "stdout",
     "output_type": "stream",
     "text": [
      "Wall time: 0 ns\n"
     ]
    }
   ],
   "source": [
    "%%time\n",
    "import sys\n",
    "sys.path.insert(0, r'G:\\PythonProjects\\WineRecognition2')\n",
    "import pickle\n",
    "import os\n",
    "import pandas as pd\n",
    "from data_master import DataGenerator, DataLoader\n",
    "import features\n",
    "from mlflow_utils import log_mlflow_on_test"
   ]
  },
  {
   "cell_type": "code",
   "execution_count": 52,
   "id": "cacb157b-1e14-4ac3-a2fa-7439443c2764",
   "metadata": {
    "tags": [
     "parameters"
    ]
   },
   "outputs": [
    {
     "name": "stdout",
     "output_type": "stream",
     "text": [
      "Wall time: 0 ns\n"
     ]
    }
   ],
   "source": [
    "%%time\n",
    "MODEL_NAME = r\"G:\\PythonProjects\\WineRecognition2\\artifacts\\train\\CRF_26082021_132615\"\n",
    "DICTIONARY_PATH = r\"G:\\PythonProjects\\WineRecognition2\\data\\dictionaries\\Dict-byword_Halliday_Winesearcher_Wine_AU-only_completed_rows\"\n",
    "TEST_DATASET_PATH = r\"G:\\PythonProjects\\WineRecognition2\\data\\text\\WineSearcher_Wine_AU-all_rows-all_keys.txt\"\n",
    "OUTPUT_DIR = ''\n",
    "START_TIME = ''\n",
    "RUN_NAME = ''\n",
    "COMPUTE_METRICS = False"
   ]
  },
  {
   "cell_type": "code",
   "execution_count": 48,
   "id": "fcdeb62b-7ee6-47b9-89ae-51b109d38310",
   "metadata": {},
   "outputs": [
    {
     "name": "stdout",
     "output_type": "stream",
     "text": [
      "Wall time: 670 ms\n"
     ]
    }
   ],
   "source": [
    "%%time\n",
    "with open(os.path.join(MODEL_NAME, 'model', 'model.pkl'), 'rb') as file:\n",
    "    model = pickle.load(file)\n",
    "\n",
    "with open(TEST_DATASET_PATH) as file:\n",
    "    sents = DataGenerator.generate_sents(\n",
    "        file.read().split('\\n')\n",
    "    )"
   ]
  },
  {
   "cell_type": "code",
   "execution_count": 49,
   "id": "c9b1fd85-e9a7-494f-9766-c1ab4f4cb177",
   "metadata": {},
   "outputs": [
    {
     "name": "stdout",
     "output_type": "stream",
     "text": [
      "Wall time: 43 ms\n"
     ]
    }
   ],
   "source": [
    "%%time\n",
    "freq_dict = DataLoader.load_frequency_dictionary(DICTIONARY_PATH)"
   ]
  },
  {
   "cell_type": "code",
   "execution_count": 50,
   "id": "7b606dec-7259-4c4a-b8ae-8d4968d03ec9",
   "metadata": {},
   "outputs": [
    {
     "name": "stdout",
     "output_type": "stream",
     "text": [
      "Wall time: 1.11 s\n"
     ]
    }
   ],
   "source": [
    "%%time\n",
    "X_test = [features.sent2features(s, freq_dict) for s in sents]\n",
    "y_test = [features.sent2labels(s) for s in sents]\n",
    "\n",
    "feature_list = list(X_test[0][1].keys())"
   ]
  },
  {
   "cell_type": "code",
   "execution_count": 51,
   "id": "8bd7aa18-66d3-4cd1-a821-260d8e7940c4",
   "metadata": {},
   "outputs": [
    {
     "name": "stdout",
     "output_type": "stream",
     "text": [
      "Wall time: 1.8 s\n"
     ]
    }
   ],
   "source": [
    "%%time\n",
    "y_pred = model.predict(X_test)"
   ]
  },
  {
   "cell_type": "code",
   "execution_count": 55,
   "id": "7c9deada-dc11-44da-8da4-2a0762495667",
   "metadata": {},
   "outputs": [
    {
     "name": "stdout",
     "output_type": "stream",
     "text": [
      "Wall time: 693 ms\n"
     ]
    }
   ],
   "source": [
    "%%time\n",
    "if COMPUTE_METRICS:\n",
    "    \n",
    "    test_eval = sents.copy()\n",
    "    for i, wine in enumerate(test_eval):\n",
    "        for j, word in enumerate(wine):\n",
    "            test_eval[i][j] += (y_pred[i][j],)\n",
    "            \n",
    "else:\n",
    "    \n",
    "    test_eval = []\n",
    "    for i, wine in enumerate(sents):\n",
    "\n",
    "        dct = dict.fromkeys(model.classes_, '')\n",
    "\n",
    "        for j, (word, true_label) in enumerate(wine):\n",
    "\n",
    "            if y_pred[i][j] in dct.keys():\n",
    "                dct[y_pred[i][j]] += f'{word} '\n",
    "\n",
    "        test_eval.append({key: value.rstrip() for key, value in dct.items()})\n",
    "\n",
    "    test_eval = pd.DataFrame({key: [wine.get(key) for wine in test_eval] for key in model.classes_})"
   ]
  },
  {
   "cell_type": "code",
   "execution_count": 38,
   "id": "b44767e1-eba0-4b29-88d2-5faba40d9628",
   "metadata": {},
   "outputs": [
    {
     "name": "stdout",
     "output_type": "stream",
     "text": [
      "Wall time: 0 ns\n"
     ]
    }
   ],
   "source": [
    "%%time\n",
    "run_params = {\n",
    "    'model_name': MODEL_NAME,\n",
    "    'dictionary_path': DICTIONARY_PATH,\n",
    "    'dataset_path': TEST_DATASET_PATH,\n",
    "    'output_dir': OUTPUT_DIR,\n",
    "    'compute_metrics': COMPUTE_METRICS,\n",
    "    'start_time': START_TIME,\n",
    "    'runname': RUN_NAME,\n",
    "    'features': feature_list\n",
    "}"
   ]
  },
  {
   "cell_type": "code",
   "execution_count": 42,
   "id": "8ed0147e-f285-4a63-9828-a5e95abf822a",
   "metadata": {},
   "outputs": [],
   "source": [
    "log_mlflow_on_test(\n",
    "    run_params=run_params,\n",
    "    model=model,\n",
    "    y_true=y_test,\n",
    "    y_pred=y_pred,\n",
    "    test_eval=test_eval\n",
    ")"
   ]
  }
 ],
 "metadata": {
  "kernelspec": {
   "display_name": "wine-recognition",
   "language": "python",
   "name": "wine-recognition"
  },
  "language_info": {
   "codemirror_mode": {
    "name": "ipython",
    "version": 3
   },
   "file_extension": ".py",
   "mimetype": "text/x-python",
   "name": "python",
   "nbconvert_exporter": "python",
   "pygments_lexer": "ipython3",
   "version": "3.9.7"
  }
 },
 "nbformat": 4,
 "nbformat_minor": 5
}
