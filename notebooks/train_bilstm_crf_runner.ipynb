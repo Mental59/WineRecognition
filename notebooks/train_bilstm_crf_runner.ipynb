{
 "cells": [
  {
   "cell_type": "code",
   "execution_count": 1,
   "id": "9b9db1bd-edd9-4e21-81a8-7428d4f3a44e",
   "metadata": {},
   "outputs": [],
   "source": [
    "import os\n",
    "import json\n",
    "import papermill as pm\n",
    "import datetime"
   ]
  },
  {
   "cell_type": "code",
   "execution_count": 2,
   "id": "39847ceb-9f2a-4f53-bae4-08b8360aea0b",
   "metadata": {},
   "outputs": [],
   "source": [
    "exp_settings = json.load(\n",
    "    open(r\"G:\\PythonProjects\\WineRecognition2\\nn\\experiment_settings.json\")\n",
    ")\n",
    "\n",
    "experiments = [\n",
    "    {\n",
    "        'MODEL_NAME': 'BiLSTM_CRF',\n",
    "        'RUN_NAME': 'test run',\n",
    "        'START_TIME': None,\n",
    "        'OUTPUT_DIR': None,\n",
    "        'DATASET_PATH': 'G:/PythonProjects/WineRecognition2/data/text/Halliday_Wine_AU-only_completed_rows-complex.txt',\n",
    "        'VOCAB_PATH': 'G:/PythonProjects/WineRecognition2/data/vocabs/Words_Halliday_Wine_AU.json',\n",
    "        'DATAINFO_PATH': 'G:/PythonProjects/WineRecognition2/data_info.json',\n",
    "        'DEVICE': 'cuda',\n",
    "        'BATCH_SIZE': 2048,\n",
    "        'EMBEDDING_DIM': 256,\n",
    "        'HIDDEN_DIM': 64,\n",
    "        'NUM_EPOCHS': 3,\n",
    "        'LEARNING_RATE': 0.01,\n",
    "        'WEIGHT_DECAY': 1e-4,\n",
    "        'TEST_SIZE': 0.2\n",
    "    }\n",
    "]"
   ]
  },
  {
   "cell_type": "code",
   "execution_count": null,
   "id": "a82a7ebb-03f4-4482-baa4-0ff32d1ff025",
   "metadata": {},
   "outputs": [
    {
     "data": {
      "application/vnd.jupyter.widget-view+json": {
       "model_id": "25e7d9c7752640f6b74e1c9d5968c2c8",
       "version_major": 2,
       "version_minor": 0
      },
      "text/plain": [
       "Executing:   0%|          | 0/16 [00:00<?, ?cell/s]"
      ]
     },
     "metadata": {},
     "output_type": "display_data"
    }
   ],
   "source": [
    "for exp in experiments:\n",
    "    \n",
    "    exp['START_TIME'] = '{:%d%m%Y_%H%M%S}'.format(datetime.datetime.now())\n",
    "    exp['OUTPUT_DIR'] = f\"{exp_settings['artifacts_path']}/train/{exp['MODEL_NAME'] + '_' + exp['START_TIME']}\"\n",
    "    \n",
    "    if not os.path.exists(exp['OUTPUT_DIR']):\n",
    "        os.mkdir(exp['OUTPUT_DIR'])\n",
    "    \n",
    "    pm.execute_notebook(\n",
    "        input_path='train_bilstm_crf.ipynb',\n",
    "        output_path=os.path.join(exp['OUTPUT_DIR'], 'train_bilstm_crf.ipynb'),\n",
    "        parameters=exp\n",
    "    )"
   ]
  },
  {
   "cell_type": "code",
   "execution_count": null,
   "id": "1cdaf4b6-2d76-499a-9923-dc1993078f91",
   "metadata": {},
   "outputs": [
    {
     "data": {
      "application/vnd.jupyter.widget-view+json": {
       "model_id": "0133e8713e164998bd26defdd1bff7ab",
       "version_major": 2,
       "version_minor": 0
      },
      "text/plain": [
       "Executing:   0%|          | 0/17 [00:00<?, ?cell/s]"
      ]
     },
     "metadata": {},
     "output_type": "display_data"
    },
    {
     "data": {
      "application/vnd.jupyter.widget-view+json": {
       "model_id": "4c920b0d760d4331837761273adcf107",
       "version_major": 2,
       "version_minor": 0
      },
      "text/plain": [
       "Executing:   0%|          | 0/17 [00:00<?, ?cell/s]"
      ]
     },
     "metadata": {},
     "output_type": "display_data"
    },
    {
     "data": {
      "application/vnd.jupyter.widget-view+json": {
       "model_id": "baf7da1bf4234fd8b4d6b45b53b9295b",
       "version_major": 2,
       "version_minor": 0
      },
      "text/plain": [
       "Executing:   0%|          | 0/17 [00:00<?, ?cell/s]"
      ]
     },
     "metadata": {},
     "output_type": "display_data"
    },
    {
     "data": {
      "application/vnd.jupyter.widget-view+json": {
       "model_id": "370d7aa8fd6847f0958315ba6b377c3c",
       "version_major": 2,
       "version_minor": 0
      },
      "text/plain": [
       "Executing:   0%|          | 0/17 [00:00<?, ?cell/s]"
      ]
     },
     "metadata": {},
     "output_type": "display_data"
    },
    {
     "data": {
      "application/vnd.jupyter.widget-view+json": {
       "model_id": "5864e77f90e94dbaa2d6000bf9485ca7",
       "version_major": 2,
       "version_minor": 0
      },
      "text/plain": [
       "Executing:   0%|          | 0/17 [00:00<?, ?cell/s]"
      ]
     },
     "metadata": {},
     "output_type": "display_data"
    },
    {
     "data": {
      "application/vnd.jupyter.widget-view+json": {
       "model_id": "d5137d0ccd18470ca37c21f52b537684",
       "version_major": 2,
       "version_minor": 0
      },
      "text/plain": [
       "Executing:   0%|          | 0/17 [00:00<?, ?cell/s]"
      ]
     },
     "metadata": {},
     "output_type": "display_data"
    },
    {
     "data": {
      "application/vnd.jupyter.widget-view+json": {
       "model_id": "d7ee9a4317bb4735be4a87378ba40bad",
       "version_major": 2,
       "version_minor": 0
      },
      "text/plain": [
       "Executing:   0%|          | 0/17 [00:00<?, ?cell/s]"
      ]
     },
     "metadata": {},
     "output_type": "display_data"
    },
    {
     "data": {
      "application/vnd.jupyter.widget-view+json": {
       "model_id": "09217e9e9c134d759c4bb1ec56096de1",
       "version_major": 2,
       "version_minor": 0
      },
      "text/plain": [
       "Executing:   0%|          | 0/17 [00:00<?, ?cell/s]"
      ]
     },
     "metadata": {},
     "output_type": "display_data"
    },
    {
     "data": {
      "application/vnd.jupyter.widget-view+json": {
       "model_id": "2cb8a79685054706959b2dfd9f0adead",
       "version_major": 2,
       "version_minor": 0
      },
      "text/plain": [
       "Executing:   0%|          | 0/17 [00:00<?, ?cell/s]"
      ]
     },
     "metadata": {},
     "output_type": "display_data"
    },
    {
     "data": {
      "application/vnd.jupyter.widget-view+json": {
       "model_id": "ffd3d037eba0497c8344d25c7a0c71b6",
       "version_major": 2,
       "version_minor": 0
      },
      "text/plain": [
       "Executing:   0%|          | 0/17 [00:00<?, ?cell/s]"
      ]
     },
     "metadata": {},
     "output_type": "display_data"
    },
    {
     "data": {
      "application/vnd.jupyter.widget-view+json": {
       "model_id": "425694ec403c4511a21a74272144bcff",
       "version_major": 2,
       "version_minor": 0
      },
      "text/plain": [
       "Executing:   0%|          | 0/17 [00:00<?, ?cell/s]"
      ]
     },
     "metadata": {},
     "output_type": "display_data"
    },
    {
     "data": {
      "application/vnd.jupyter.widget-view+json": {
       "model_id": "d6777b3ab52d4ba9bc2e930ff19490b3",
       "version_major": 2,
       "version_minor": 0
      },
      "text/plain": [
       "Executing:   0%|          | 0/17 [00:00<?, ?cell/s]"
      ]
     },
     "metadata": {},
     "output_type": "display_data"
    },
    {
     "data": {
      "application/vnd.jupyter.widget-view+json": {
       "model_id": "90c2d92328664a60b74e2ebe5b7da4a7",
       "version_major": 2,
       "version_minor": 0
      },
      "text/plain": [
       "Executing:   0%|          | 0/17 [00:00<?, ?cell/s]"
      ]
     },
     "metadata": {},
     "output_type": "display_data"
    },
    {
     "data": {
      "application/vnd.jupyter.widget-view+json": {
       "model_id": "147d03db75e2445db6853160d58cfaec",
       "version_major": 2,
       "version_minor": 0
      },
      "text/plain": [
       "Executing:   0%|          | 0/17 [00:00<?, ?cell/s]"
      ]
     },
     "metadata": {},
     "output_type": "display_data"
    },
    {
     "data": {
      "application/vnd.jupyter.widget-view+json": {
       "model_id": "dcde7a797c1e4b0abb5b300deab04ee7",
       "version_major": 2,
       "version_minor": 0
      },
      "text/plain": [
       "Executing:   0%|          | 0/17 [00:00<?, ?cell/s]"
      ]
     },
     "metadata": {},
     "output_type": "display_data"
    },
    {
     "data": {
      "application/vnd.jupyter.widget-view+json": {
       "model_id": "3b17d5a30c9c4c34b512b6df2c86e8d0",
       "version_major": 2,
       "version_minor": 0
      },
      "text/plain": [
       "Executing:   0%|          | 0/17 [00:00<?, ?cell/s]"
      ]
     },
     "metadata": {},
     "output_type": "display_data"
    },
    {
     "data": {
      "application/vnd.jupyter.widget-view+json": {
       "model_id": "c72362b2340c4f588c0e3a87efc9f59b",
       "version_major": 2,
       "version_minor": 0
      },
      "text/plain": [
       "Executing:   0%|          | 0/17 [00:00<?, ?cell/s]"
      ]
     },
     "metadata": {},
     "output_type": "display_data"
    },
    {
     "data": {
      "application/vnd.jupyter.widget-view+json": {
       "model_id": "aba0382ddece42f68ad26393c70aa276",
       "version_major": 2,
       "version_minor": 0
      },
      "text/plain": [
       "Executing:   0%|          | 0/17 [00:00<?, ?cell/s]"
      ]
     },
     "metadata": {},
     "output_type": "display_data"
    },
    {
     "data": {
      "application/vnd.jupyter.widget-view+json": {
       "model_id": "9b8ab1b9093e4bfe92575b045d4a342d",
       "version_major": 2,
       "version_minor": 0
      },
      "text/plain": [
       "Executing:   0%|          | 0/17 [00:00<?, ?cell/s]"
      ]
     },
     "metadata": {},
     "output_type": "display_data"
    },
    {
     "data": {
      "application/vnd.jupyter.widget-view+json": {
       "model_id": "057c5b51eaac4f89af43428f48372962",
       "version_major": 2,
       "version_minor": 0
      },
      "text/plain": [
       "Executing:   0%|          | 0/17 [00:00<?, ?cell/s]"
      ]
     },
     "metadata": {},
     "output_type": "display_data"
    },
    {
     "data": {
      "application/vnd.jupyter.widget-view+json": {
       "model_id": "31e39ee2eba54e6782ddf32a46d88acb",
       "version_major": 2,
       "version_minor": 0
      },
      "text/plain": [
       "Executing:   0%|          | 0/17 [00:00<?, ?cell/s]"
      ]
     },
     "metadata": {},
     "output_type": "display_data"
    },
    {
     "data": {
      "application/vnd.jupyter.widget-view+json": {
       "model_id": "e434c8e656744e2c97293c0cd1c5d1a9",
       "version_major": 2,
       "version_minor": 0
      },
      "text/plain": [
       "Executing:   0%|          | 0/17 [00:00<?, ?cell/s]"
      ]
     },
     "metadata": {},
     "output_type": "display_data"
    },
    {
     "data": {
      "application/vnd.jupyter.widget-view+json": {
       "model_id": "186fcbfc67f84ec1be835319ac19b53d",
       "version_major": 2,
       "version_minor": 0
      },
      "text/plain": [
       "Executing:   0%|          | 0/17 [00:00<?, ?cell/s]"
      ]
     },
     "metadata": {},
     "output_type": "display_data"
    },
    {
     "data": {
      "application/vnd.jupyter.widget-view+json": {
       "model_id": "0d9baba07cc94086b87c424411285bb5",
       "version_major": 2,
       "version_minor": 0
      },
      "text/plain": [
       "Executing:   0%|          | 0/17 [00:00<?, ?cell/s]"
      ]
     },
     "metadata": {},
     "output_type": "display_data"
    },
    {
     "data": {
      "application/vnd.jupyter.widget-view+json": {
       "model_id": "3e917851fe2d45bd8bd5a4a32f750e87",
       "version_major": 2,
       "version_minor": 0
      },
      "text/plain": [
       "Executing:   0%|          | 0/17 [00:00<?, ?cell/s]"
      ]
     },
     "metadata": {},
     "output_type": "display_data"
    },
    {
     "data": {
      "application/vnd.jupyter.widget-view+json": {
       "model_id": "41545b26a5234aef9d302129e697d1d0",
       "version_major": 2,
       "version_minor": 0
      },
      "text/plain": [
       "Executing:   0%|          | 0/17 [00:00<?, ?cell/s]"
      ]
     },
     "metadata": {},
     "output_type": "display_data"
    },
    {
     "data": {
      "application/vnd.jupyter.widget-view+json": {
       "model_id": "25cdd87c048c428482acb876306de6a9",
       "version_major": 2,
       "version_minor": 0
      },
      "text/plain": [
       "Executing:   0%|          | 0/17 [00:00<?, ?cell/s]"
      ]
     },
     "metadata": {},
     "output_type": "display_data"
    },
    {
     "data": {
      "application/vnd.jupyter.widget-view+json": {
       "model_id": "719111162334430196e7a3626fce8abb",
       "version_major": 2,
       "version_minor": 0
      },
      "text/plain": [
       "Executing:   0%|          | 0/17 [00:00<?, ?cell/s]"
      ]
     },
     "metadata": {},
     "output_type": "display_data"
    },
    {
     "data": {
      "application/vnd.jupyter.widget-view+json": {
       "model_id": "4697fb6da5be436bb2882aba3f8a5619",
       "version_major": 2,
       "version_minor": 0
      },
      "text/plain": [
       "Executing:   0%|          | 0/17 [00:00<?, ?cell/s]"
      ]
     },
     "metadata": {},
     "output_type": "display_data"
    },
    {
     "data": {
      "application/vnd.jupyter.widget-view+json": {
       "model_id": "b863b2a8ef4c4015bdef60d352eb1a6b",
       "version_major": 2,
       "version_minor": 0
      },
      "text/plain": [
       "Executing:   0%|          | 0/17 [00:00<?, ?cell/s]"
      ]
     },
     "metadata": {},
     "output_type": "display_data"
    },
    {
     "data": {
      "application/vnd.jupyter.widget-view+json": {
       "model_id": "43b7aa8ecc814f498936027e3df12b57",
       "version_major": 2,
       "version_minor": 0
      },
      "text/plain": [
       "Executing:   0%|          | 0/17 [00:00<?, ?cell/s]"
      ]
     },
     "metadata": {},
     "output_type": "display_data"
    },
    {
     "data": {
      "application/vnd.jupyter.widget-view+json": {
       "model_id": "642159dae08e4313a4e709f331b1ddfd",
       "version_major": 2,
       "version_minor": 0
      },
      "text/plain": [
       "Executing:   0%|          | 0/17 [00:00<?, ?cell/s]"
      ]
     },
     "metadata": {},
     "output_type": "display_data"
    },
    {
     "data": {
      "application/vnd.jupyter.widget-view+json": {
       "model_id": "17c362c6946a4756a1ae88f7e7cf80e8",
       "version_major": 2,
       "version_minor": 0
      },
      "text/plain": [
       "Executing:   0%|          | 0/17 [00:00<?, ?cell/s]"
      ]
     },
     "metadata": {},
     "output_type": "display_data"
    },
    {
     "data": {
      "application/vnd.jupyter.widget-view+json": {
       "model_id": "e185291ac03743b9b6867950ed3ada8b",
       "version_major": 2,
       "version_minor": 0
      },
      "text/plain": [
       "Executing:   0%|          | 0/17 [00:00<?, ?cell/s]"
      ]
     },
     "metadata": {},
     "output_type": "display_data"
    },
    {
     "data": {
      "application/vnd.jupyter.widget-view+json": {
       "model_id": "44fd7b5c11ec445aaa249d2411c4e5e1",
       "version_major": 2,
       "version_minor": 0
      },
      "text/plain": [
       "Executing:   0%|          | 0/17 [00:00<?, ?cell/s]"
      ]
     },
     "metadata": {},
     "output_type": "display_data"
    },
    {
     "data": {
      "application/vnd.jupyter.widget-view+json": {
       "model_id": "c4993e608dfa46a38c0557a62bddaf4a",
       "version_major": 2,
       "version_minor": 0
      },
      "text/plain": [
       "Executing:   0%|          | 0/17 [00:00<?, ?cell/s]"
      ]
     },
     "metadata": {},
     "output_type": "display_data"
    },
    {
     "data": {
      "application/vnd.jupyter.widget-view+json": {
       "model_id": "2bda041da6014d328e3b0ca2da3919df",
       "version_major": 2,
       "version_minor": 0
      },
      "text/plain": [
       "Executing:   0%|          | 0/17 [00:00<?, ?cell/s]"
      ]
     },
     "metadata": {},
     "output_type": "display_data"
    },
    {
     "data": {
      "application/vnd.jupyter.widget-view+json": {
       "model_id": "d8b3d79565c54eaf97f0ed5ca535ee67",
       "version_major": 2,
       "version_minor": 0
      },
      "text/plain": [
       "Executing:   0%|          | 0/17 [00:00<?, ?cell/s]"
      ]
     },
     "metadata": {},
     "output_type": "display_data"
    },
    {
     "data": {
      "application/vnd.jupyter.widget-view+json": {
       "model_id": "427221168eda4b00885ae10d690fdb54",
       "version_major": 2,
       "version_minor": 0
      },
      "text/plain": [
       "Executing:   0%|          | 0/17 [00:00<?, ?cell/s]"
      ]
     },
     "metadata": {},
     "output_type": "display_data"
    },
    {
     "data": {
      "application/vnd.jupyter.widget-view+json": {
       "model_id": "4c9243feaa6b4c518227ea888cea8327",
       "version_major": 2,
       "version_minor": 0
      },
      "text/plain": [
       "Executing:   0%|          | 0/17 [00:00<?, ?cell/s]"
      ]
     },
     "metadata": {},
     "output_type": "display_data"
    }
   ],
   "source": [
    "exp_settings = json.load(\n",
    "    open(r\"G:\\PythonProjects\\WineRecognition2\\nn\\experiment_settings.json\")\n",
    ")\n",
    "\n",
    "for percent in range(5, 101, 5):\n",
    "    for embedding_dim in [16, 32, 64, 128, 256]:\n",
    "        experiment = {\n",
    "            'MODEL_NAME': 'BiLSTM_CRF',\n",
    "            'RUN_NAME': 'Train-{}-{}'.format(percent, embedding_dim),\n",
    "            'START_TIME': None,\n",
    "            'OUTPUT_DIR': None,\n",
    "            'DATASET_PATH': 'G:/PythonProjects/WineRecognition2/data/text/exp2_datasets/Halliday_WineSearcher_{}.txt'.format(percent),\n",
    "            'VOCAB_PATH': 'G:/PythonProjects/WineRecognition2/data/vocabs/Words_Halliday_Wine_AU.json',\n",
    "            'DATAINFO_PATH': 'G:/PythonProjects/WineRecognition2/data_info.json',\n",
    "            'DEVICE': 'cuda',\n",
    "            'BATCH_SIZE': 2048,\n",
    "            'EMBEDDING_DIM': embedding_dim,\n",
    "            'HIDDEN_DIM': 64,\n",
    "            'NUM_EPOCHS': 100,\n",
    "            'LEARNING_RATE': 0.01,\n",
    "            'WEIGHT_DECAY': 1e-4,\n",
    "            'TEST_SIZE': 0.2\n",
    "        }\n",
    "        \n",
    "        experiment['START_TIME'] = '{:%d%m%Y_%H%M%S}'.format(datetime.datetime.now())\n",
    "        experiment['OUTPUT_DIR'] = '{}/train/{}'.format(exp_settings['artifacts_path'], experiment['MODEL_NAME'] + '_' + experiment['START_TIME'])\n",
    "        \n",
    "        if not os.path.exists(experiment['OUTPUT_DIR']):\n",
    "            os.mkdir(experiment['OUTPUT_DIR'])\n",
    "        \n",
    "        pm.execute_notebook(\n",
    "            input_path='train_bilstm_crf_5_percent.ipynb',\n",
    "            output_path=os.path.join(experiment['OUTPUT_DIR'], 'train_bilstm_crf_5_percent.ipynb'),\n",
    "            parameters=experiment\n",
    "        )"
   ]
  },
  {
   "cell_type": "code",
   "execution_count": null,
   "id": "911998a4-242d-47d7-b43b-3e3d1457ae1d",
   "metadata": {},
   "outputs": [],
   "source": []
  }
 ],
 "metadata": {
  "kernelspec": {
   "display_name": "wine-recognition",
   "language": "python",
   "name": "wine-recognition"
  },
  "language_info": {
   "codemirror_mode": {
    "name": "ipython",
    "version": 3
   },
   "file_extension": ".py",
   "mimetype": "text/x-python",
   "name": "python",
   "nbconvert_exporter": "python",
   "pygments_lexer": "ipython3",
   "version": "3.9.7"
  }
 },
 "nbformat": 4,
 "nbformat_minor": 5
}
