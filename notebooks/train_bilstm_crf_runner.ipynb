{
 "cells": [
  {
   "cell_type": "code",
   "execution_count": null,
   "id": "9b9db1bd-edd9-4e21-81a8-7428d4f3a44e",
   "metadata": {},
   "outputs": [],
   "source": [
    "import sys\n",
    "if r'G:\\PythonProjects\\WineRecognition2' not in sys.path:\n",
    "    sys.path.insert(0, r'G:\\PythonProjects\\WineRecognition2')\n",
    "from data_master import run_experiment"
   ]
  },
  {
   "cell_type": "markdown",
   "id": "7e21916b-7ada-4a2a-877c-61e381c30a76",
   "metadata": {
    "tags": []
   },
   "source": [
    "### BiLSTM-CRF with our features"
   ]
  },
  {
   "cell_type": "code",
   "execution_count": null,
   "id": "0f8d872d-06ba-4333-bda8-f9636fe44dd1",
   "metadata": {
    "tags": []
   },
   "outputs": [],
   "source": [
    "experiment = run_experiment(\n",
    "    experiment={\n",
    "        'MODEL_NAME': 'BiLSTM-CRF_dict_features',\n",
    "        'RUN_NAME': 'train-bilstm-crf-custom-features',\n",
    "        'DATASET_PATH': r'G:\\PythonProjects\\WineRecognition2\\data\\text\\data_and_menu_gen_samples\\Halliday_WineSearcher_Bruxelles_MenuGenSamples_v5_BottleSize_fixed.txt',\n",
    "        'VOCAB_PATH': r'G:\\PythonProjects\\WineRecognition2\\data\\vocabs\\Words_Halliday_WineSearcher_Bruxelles_WORD_NUMS.json',\n",
    "        'DATAINFO_PATH': r'G:/PythonProjects/WineRecognition2/data_info.json',\n",
    "        'DICTIONARY_PATH': r'G:\\PythonProjects\\WineRecognition2\\data\\dictionaries\\Dict-byword_Halliday_Winesearcher_Bruxelles',\n",
    "        'DEVICE': 'cuda',\n",
    "        'BATCH_SIZE': 2048,\n",
    "        'EMBEDDING_DIM': 64,\n",
    "        'HIDDEN_DIM': 64,\n",
    "        'NUM_EPOCHS': 40,\n",
    "        'LEARNING_RATE': 0.01,\n",
    "        'SCHEDULER_FACTOR': 0.1,\n",
    "        'SCHEDULER_PATIENCE': 10,\n",
    "        'CASE_SENSITIVE_VOCAB': False,\n",
    "        'WEIGHT_DECAY': 1e-4,\n",
    "        'USE_NUM2WORDS': True,\n",
    "        'TEST_SIZE': 0.2\n",
    "    },\n",
    "    exp_settings_path=r\"G:\\PythonProjects\\WineRecognition2\\nn\\experiment_settings.json\",\n",
    "    notebook_path='train_bilstm_crf_our_features.ipynb',\n",
    "    train=True,\n",
    "    log_output=True\n",
    ")\n",
    "experiment"
   ]
  },
  {
   "cell_type": "markdown",
   "id": "e26f63b3-d520-4a17-b4d3-01b795ad1443",
   "metadata": {
    "tags": []
   },
   "source": [
    "### Standard BiLSTM-CRF"
   ]
  },
  {
   "cell_type": "code",
   "execution_count": null,
   "id": "39847ceb-9f2a-4f53-bae4-08b8360aea0b",
   "metadata": {
    "tags": []
   },
   "outputs": [],
   "source": [
    "exp_settings = json.load(\n",
    "    open(r\"G:\\PythonProjects\\WineRecognition2\\nn\\experiment_settings.json\")\n",
    ")\n",
    "\n",
    "for embed_dim in [100, 64]:\n",
    "    experiment = {\n",
    "        'MODEL_NAME': 'BiLSTM_CRF',\n",
    "        'RUN_NAME': f'train-100WS-{embed_dim}',\n",
    "        'START_TIME': None,\n",
    "        'OUTPUT_DIR': None,\n",
    "        'DATASET_PATH': r'G:\\PythonProjects\\WineRecognition2\\data\\text\\halliday_winesearcher_menu_gen_samplesv2\\Halliday_WineSearcher_MenuGenSamples.txt',\n",
    "        'VOCAB_PATH': 'G:/PythonProjects/WineRecognition2/data/vocabs/Words_Halliday_Wine_AU.json',\n",
    "        'DATAINFO_PATH': 'G:/PythonProjects/WineRecognition2/data_info.json',\n",
    "        'DEVICE': 'cuda',\n",
    "        'BATCH_SIZE': 2048,\n",
    "        'EMBEDDING_DIM': embed_dim,\n",
    "        'HIDDEN_DIM': 64,\n",
    "        'NUM_EPOCHS': 150,\n",
    "        'LEARNING_RATE': 0.01,\n",
    "        'SCHEDULER_FACTOR': 0.1,\n",
    "        'SCHEDULER_PATIENCE': 10,\n",
    "        'CASE_SENSITIVE_VOCAB': False,\n",
    "        'WEIGHT_DECAY': 1e-4,\n",
    "        'TEST_SIZE': 0.2\n",
    "    }\n",
    "\n",
    "    experiment['START_TIME'] = '{:%d%m%Y_%H%M%S}'.format(datetime.datetime.now())\n",
    "    experiment['OUTPUT_DIR'] = f\"{exp_settings['artifacts_path']}/train/{experiment['MODEL_NAME'] + '_' + experiment['START_TIME']}\"\n",
    "    \n",
    "    if not os.path.exists(experiment['OUTPUT_DIR']):\n",
    "        os.mkdir(experiment['OUTPUT_DIR'])\n",
    "    \n",
    "    pm.execute_notebook(\n",
    "        input_path='train_bilstm_crf.ipynb',\n",
    "        output_path=os.path.join(experiment['OUTPUT_DIR'], 'train_bilstm_crf.ipynb'),\n",
    "        parameters=experiment\n",
    "    )"
   ]
  },
  {
   "cell_type": "code",
   "execution_count": null,
   "id": "1cdaf4b6-2d76-499a-9923-dc1993078f91",
   "metadata": {},
   "outputs": [],
   "source": [
    "exp_settings = json.load(\n",
    "    open(r\"G:\\PythonProjects\\WineRecognition2\\nn\\experiment_settings.json\")\n",
    ")\n",
    "\n",
    "for percent in range(85, 101, 5):\n",
    "    for embedding_dim in [16, 32, 64, 128, 256]:\n",
    "        experiment = {\n",
    "            'MODEL_NAME': 'BiLSTM_CRF',\n",
    "            'RUN_NAME': 'Train-{}-{}'.format(percent, embedding_dim),\n",
    "            'START_TIME': None,\n",
    "            'OUTPUT_DIR': None,\n",
    "            'DATASET_PATH': 'G:/PythonProjects/WineRecognition2/data/text/exp2_datasets/Halliday_WineSearcher_{}.txt'.format(percent),\n",
    "            'VOCAB_PATH': 'G:/PythonProjects/WineRecognition2/data/vocabs/Words_Halliday_Wine_AU.json',\n",
    "            'DATAINFO_PATH': 'G:/PythonProjects/WineRecognition2/data_info.json',\n",
    "            'DEVICE': 'cuda',\n",
    "            'BATCH_SIZE': 2048,\n",
    "            'EMBEDDING_DIM': embedding_dim,\n",
    "            'HIDDEN_DIM': 64,\n",
    "            'NUM_EPOCHS': 100,\n",
    "            'LEARNING_RATE': 0.01,\n",
    "            'WEIGHT_DECAY': 1e-4,\n",
    "            'TEST_SIZE': 0.2\n",
    "        }\n",
    "        \n",
    "        experiment['START_TIME'] = '{:%d%m%Y_%H%M%S}'.format(datetime.datetime.now())\n",
    "        experiment['OUTPUT_DIR'] = '{}/train/{}'.format(exp_settings['artifacts_path'], experiment['MODEL_NAME'] + '_' + experiment['START_TIME'])\n",
    "        \n",
    "        if not os.path.exists(experiment['OUTPUT_DIR']):\n",
    "            os.mkdir(experiment['OUTPUT_DIR'])\n",
    "        \n",
    "        pm.execute_notebook(\n",
    "            input_path='train_bilstm_crf_5_percent.ipynb',\n",
    "            output_path=os.path.join(experiment['OUTPUT_DIR'], 'train_bilstm_crf_5_percent.ipynb'),\n",
    "            parameters=experiment\n",
    "        )"
   ]
  },
  {
   "cell_type": "code",
   "execution_count": null,
   "id": "911998a4-242d-47d7-b43b-3e3d1457ae1d",
   "metadata": {},
   "outputs": [],
   "source": []
  }
 ],
 "metadata": {
  "kernelspec": {
   "display_name": "wine-recognition",
   "language": "python",
   "name": "wine-recognition"
  },
  "language_info": {
   "codemirror_mode": {
    "name": "ipython",
    "version": 3
   },
   "file_extension": ".py",
   "mimetype": "text/x-python",
   "name": "python",
   "nbconvert_exporter": "python",
   "pygments_lexer": "ipython3",
   "version": "3.9.16"
  }
 },
 "nbformat": 4,
 "nbformat_minor": 5
}
