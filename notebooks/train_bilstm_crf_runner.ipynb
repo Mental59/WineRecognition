{
 "cells": [
  {
   "cell_type": "code",
   "execution_count": 1,
   "id": "9b9db1bd-edd9-4e21-81a8-7428d4f3a44e",
   "metadata": {},
   "outputs": [],
   "source": [
    "import os\n",
    "import json\n",
    "import papermill as pm\n",
    "import datetime"
   ]
  },
  {
   "cell_type": "code",
   "execution_count": 2,
   "id": "39847ceb-9f2a-4f53-bae4-08b8360aea0b",
   "metadata": {},
   "outputs": [],
   "source": [
    "exp_settings = json.load(\n",
    "    open(r\"G:\\PythonProjects\\WineRecognition2\\nn\\experiment_settings.json\")\n",
    ")\n",
    "\n",
    "experiments = [\n",
    "    {\n",
    "        'MODEL_NAME': 'BiLSTM_CRF',\n",
    "        'RUN_NAME': 'test run',\n",
    "        'START_TIME': None,\n",
    "        'OUTPUT_DIR': None,\n",
    "        'DATASET_PATH': 'G:/PythonProjects/WineRecognition2/data/text/Halliday_Wine_AU-only_completed_rows-complex.txt',\n",
    "        'VOCAB_PATH': 'G:/PythonProjects/WineRecognition2/data/vocabs/Words_Halliday_Wine_AU.json',\n",
    "        'DATAINFO_PATH': 'G:/PythonProjects/WineRecognition2/data_info.json',\n",
    "        'DEVICE': 'cuda',\n",
    "        'BATCH_SIZE': 2048,\n",
    "        'EMBEDDING_DIM': 256,\n",
    "        'HIDDEN_DIM': 64,\n",
    "        'NUM_EPOCHS': 3,\n",
    "        'LEARNING_RATE': 0.01,\n",
    "        'WEIGHT_DECAY': 1e-4,\n",
    "        'TEST_SIZE': 0.2\n",
    "    }\n",
    "]"
   ]
  },
  {
   "cell_type": "code",
   "execution_count": null,
   "id": "a82a7ebb-03f4-4482-baa4-0ff32d1ff025",
   "metadata": {},
   "outputs": [
    {
     "data": {
      "application/vnd.jupyter.widget-view+json": {
       "model_id": "25e7d9c7752640f6b74e1c9d5968c2c8",
       "version_major": 2,
       "version_minor": 0
      },
      "text/plain": [
       "Executing:   0%|          | 0/16 [00:00<?, ?cell/s]"
      ]
     },
     "metadata": {},
     "output_type": "display_data"
    }
   ],
   "source": [
    "for exp in experiments:\n",
    "    \n",
    "    exp['START_TIME'] = '{:%d%m%Y_%H%M%S}'.format(datetime.datetime.now())\n",
    "    exp['OUTPUT_DIR'] = f\"{exp_settings['artifacts_path']}/train/{exp['MODEL_NAME'] + '_' + exp['START_TIME']}\"\n",
    "    \n",
    "    if not os.path.exists(exp['OUTPUT_DIR']):\n",
    "        os.mkdir(exp['OUTPUT_DIR'])\n",
    "    \n",
    "    pm.execute_notebook(\n",
    "        input_path='train_bilstm_crf.ipynb',\n",
    "        output_path=os.path.join(exp['OUTPUT_DIR'], 'train_bilstm_crf.ipynb'),\n",
    "        parameters=exp\n",
    "    )"
   ]
  },
  {
   "cell_type": "code",
   "execution_count": 2,
   "id": "1cdaf4b6-2d76-499a-9923-dc1993078f91",
   "metadata": {},
   "outputs": [
    {
     "data": {
      "application/vnd.jupyter.widget-view+json": {
       "model_id": "23cb68421b8a41398e3e8f72a21c674b",
       "version_major": 2,
       "version_minor": 0
      },
      "text/plain": [
       "Executing:   0%|          | 0/17 [00:00<?, ?cell/s]"
      ]
     },
     "metadata": {},
     "output_type": "display_data"
    },
    {
     "data": {
      "application/vnd.jupyter.widget-view+json": {
       "model_id": "bbf04652999d4f5ab94cc268dbc1b8ee",
       "version_major": 2,
       "version_minor": 0
      },
      "text/plain": [
       "Executing:   0%|          | 0/17 [00:00<?, ?cell/s]"
      ]
     },
     "metadata": {},
     "output_type": "display_data"
    },
    {
     "data": {
      "application/vnd.jupyter.widget-view+json": {
       "model_id": "b35e3e7c2b2a41d8a5af8ecaf4a844fa",
       "version_major": 2,
       "version_minor": 0
      },
      "text/plain": [
       "Executing:   0%|          | 0/17 [00:00<?, ?cell/s]"
      ]
     },
     "metadata": {},
     "output_type": "display_data"
    },
    {
     "data": {
      "application/vnd.jupyter.widget-view+json": {
       "model_id": "c8f3fc75553a4a1180c421bcdbbb39a4",
       "version_major": 2,
       "version_minor": 0
      },
      "text/plain": [
       "Executing:   0%|          | 0/17 [00:00<?, ?cell/s]"
      ]
     },
     "metadata": {},
     "output_type": "display_data"
    },
    {
     "data": {
      "application/vnd.jupyter.widget-view+json": {
       "model_id": "4fb5e95b6cfa4ef3bb370477ac823c7d",
       "version_major": 2,
       "version_minor": 0
      },
      "text/plain": [
       "Executing:   0%|          | 0/17 [00:00<?, ?cell/s]"
      ]
     },
     "metadata": {},
     "output_type": "display_data"
    },
    {
     "data": {
      "application/vnd.jupyter.widget-view+json": {
       "model_id": "e1bb535cd81e4c5595ffe1b29f64b19c",
       "version_major": 2,
       "version_minor": 0
      },
      "text/plain": [
       "Executing:   0%|          | 0/17 [00:00<?, ?cell/s]"
      ]
     },
     "metadata": {},
     "output_type": "display_data"
    },
    {
     "data": {
      "application/vnd.jupyter.widget-view+json": {
       "model_id": "2097f47026bc45909cfa088165fb5b3b",
       "version_major": 2,
       "version_minor": 0
      },
      "text/plain": [
       "Executing:   0%|          | 0/17 [00:00<?, ?cell/s]"
      ]
     },
     "metadata": {},
     "output_type": "display_data"
    },
    {
     "data": {
      "application/vnd.jupyter.widget-view+json": {
       "model_id": "09824bbd547b4033a36c95e9ff6e983a",
       "version_major": 2,
       "version_minor": 0
      },
      "text/plain": [
       "Executing:   0%|          | 0/17 [00:00<?, ?cell/s]"
      ]
     },
     "metadata": {},
     "output_type": "display_data"
    },
    {
     "data": {
      "application/vnd.jupyter.widget-view+json": {
       "model_id": "d53f7bb3ee6d431da44de815b58ed6ce",
       "version_major": 2,
       "version_minor": 0
      },
      "text/plain": [
       "Executing:   0%|          | 0/17 [00:00<?, ?cell/s]"
      ]
     },
     "metadata": {},
     "output_type": "display_data"
    },
    {
     "data": {
      "application/vnd.jupyter.widget-view+json": {
       "model_id": "4fd000096471404c94c56d2a27e3e404",
       "version_major": 2,
       "version_minor": 0
      },
      "text/plain": [
       "Executing:   0%|          | 0/17 [00:00<?, ?cell/s]"
      ]
     },
     "metadata": {},
     "output_type": "display_data"
    },
    {
     "data": {
      "application/vnd.jupyter.widget-view+json": {
       "model_id": "a1101650c68e4422b62f6f3a339c9d87",
       "version_major": 2,
       "version_minor": 0
      },
      "text/plain": [
       "Executing:   0%|          | 0/17 [00:00<?, ?cell/s]"
      ]
     },
     "metadata": {},
     "output_type": "display_data"
    },
    {
     "data": {
      "application/vnd.jupyter.widget-view+json": {
       "model_id": "effeabc356af42e791bfc299e5712409",
       "version_major": 2,
       "version_minor": 0
      },
      "text/plain": [
       "Executing:   0%|          | 0/17 [00:00<?, ?cell/s]"
      ]
     },
     "metadata": {},
     "output_type": "display_data"
    },
    {
     "data": {
      "application/vnd.jupyter.widget-view+json": {
       "model_id": "4e076473da7c4d60a3763a7cdcc3f688",
       "version_major": 2,
       "version_minor": 0
      },
      "text/plain": [
       "Executing:   0%|          | 0/17 [00:00<?, ?cell/s]"
      ]
     },
     "metadata": {},
     "output_type": "display_data"
    },
    {
     "data": {
      "application/vnd.jupyter.widget-view+json": {
       "model_id": "42976bc96c7541a1bac9a1689dadb2cf",
       "version_major": 2,
       "version_minor": 0
      },
      "text/plain": [
       "Executing:   0%|          | 0/17 [00:00<?, ?cell/s]"
      ]
     },
     "metadata": {},
     "output_type": "display_data"
    },
    {
     "data": {
      "application/vnd.jupyter.widget-view+json": {
       "model_id": "948abab577dc47db9a3d1875371633bf",
       "version_major": 2,
       "version_minor": 0
      },
      "text/plain": [
       "Executing:   0%|          | 0/17 [00:00<?, ?cell/s]"
      ]
     },
     "metadata": {},
     "output_type": "display_data"
    },
    {
     "data": {
      "application/vnd.jupyter.widget-view+json": {
       "model_id": "789c15921a21449d963d69cd62c53c73",
       "version_major": 2,
       "version_minor": 0
      },
      "text/plain": [
       "Executing:   0%|          | 0/17 [00:00<?, ?cell/s]"
      ]
     },
     "metadata": {},
     "output_type": "display_data"
    },
    {
     "data": {
      "application/vnd.jupyter.widget-view+json": {
       "model_id": "71635368e6db4034a38a15a089078616",
       "version_major": 2,
       "version_minor": 0
      },
      "text/plain": [
       "Executing:   0%|          | 0/17 [00:00<?, ?cell/s]"
      ]
     },
     "metadata": {},
     "output_type": "display_data"
    },
    {
     "data": {
      "application/vnd.jupyter.widget-view+json": {
       "model_id": "6395ded609fe46a0a5857aeefffc1fb8",
       "version_major": 2,
       "version_minor": 0
      },
      "text/plain": [
       "Executing:   0%|          | 0/17 [00:00<?, ?cell/s]"
      ]
     },
     "metadata": {},
     "output_type": "display_data"
    },
    {
     "data": {
      "application/vnd.jupyter.widget-view+json": {
       "model_id": "c722ffcbfc554ab0a0dcc763281e1304",
       "version_major": 2,
       "version_minor": 0
      },
      "text/plain": [
       "Executing:   0%|          | 0/17 [00:00<?, ?cell/s]"
      ]
     },
     "metadata": {},
     "output_type": "display_data"
    },
    {
     "data": {
      "application/vnd.jupyter.widget-view+json": {
       "model_id": "9bdf6a72365c4dc7986e1f579300ad3a",
       "version_major": 2,
       "version_minor": 0
      },
      "text/plain": [
       "Executing:   0%|          | 0/17 [00:00<?, ?cell/s]"
      ]
     },
     "metadata": {},
     "output_type": "display_data"
    }
   ],
   "source": [
    "exp_settings = json.load(\n",
    "    open(r\"G:\\PythonProjects\\WineRecognition2\\nn\\experiment_settings.json\")\n",
    ")\n",
    "\n",
    "for percent in range(85, 101, 5):\n",
    "    for embedding_dim in [16, 32, 64, 128, 256]:\n",
    "        experiment = {\n",
    "            'MODEL_NAME': 'BiLSTM_CRF',\n",
    "            'RUN_NAME': 'Train-{}-{}'.format(percent, embedding_dim),\n",
    "            'START_TIME': None,\n",
    "            'OUTPUT_DIR': None,\n",
    "            'DATASET_PATH': 'G:/PythonProjects/WineRecognition2/data/text/exp2_datasets/Halliday_WineSearcher_{}.txt'.format(percent),\n",
    "            'VOCAB_PATH': 'G:/PythonProjects/WineRecognition2/data/vocabs/Words_Halliday_Wine_AU.json',\n",
    "            'DATAINFO_PATH': 'G:/PythonProjects/WineRecognition2/data_info.json',\n",
    "            'DEVICE': 'cuda',\n",
    "            'BATCH_SIZE': 2048,\n",
    "            'EMBEDDING_DIM': embedding_dim,\n",
    "            'HIDDEN_DIM': 64,\n",
    "            'NUM_EPOCHS': 100,\n",
    "            'LEARNING_RATE': 0.01,\n",
    "            'WEIGHT_DECAY': 1e-4,\n",
    "            'TEST_SIZE': 0.2\n",
    "        }\n",
    "        \n",
    "        experiment['START_TIME'] = '{:%d%m%Y_%H%M%S}'.format(datetime.datetime.now())\n",
    "        experiment['OUTPUT_DIR'] = '{}/train/{}'.format(exp_settings['artifacts_path'], experiment['MODEL_NAME'] + '_' + experiment['START_TIME'])\n",
    "        \n",
    "        if not os.path.exists(experiment['OUTPUT_DIR']):\n",
    "            os.mkdir(experiment['OUTPUT_DIR'])\n",
    "        \n",
    "        pm.execute_notebook(\n",
    "            input_path='train_bilstm_crf_5_percent.ipynb',\n",
    "            output_path=os.path.join(experiment['OUTPUT_DIR'], 'train_bilstm_crf_5_percent.ipynb'),\n",
    "            parameters=experiment\n",
    "        )"
   ]
  },
  {
   "cell_type": "code",
   "execution_count": null,
   "id": "911998a4-242d-47d7-b43b-3e3d1457ae1d",
   "metadata": {},
   "outputs": [],
   "source": []
  }
 ],
 "metadata": {
  "kernelspec": {
   "display_name": "wine-recognition",
   "language": "python",
   "name": "wine-recognition"
  },
  "language_info": {
   "codemirror_mode": {
    "name": "ipython",
    "version": 3
   },
   "file_extension": ".py",
   "mimetype": "text/x-python",
   "name": "python",
   "nbconvert_exporter": "python",
   "pygments_lexer": "ipython3",
   "version": "3.9.7"
  }
 },
 "nbformat": 4,
 "nbformat_minor": 5
}
