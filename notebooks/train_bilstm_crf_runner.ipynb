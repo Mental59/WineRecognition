{
 "cells": [
  {
   "cell_type": "code",
   "execution_count": 1,
   "id": "9b9db1bd-edd9-4e21-81a8-7428d4f3a44e",
   "metadata": {},
   "outputs": [],
   "source": [
    "import os\n",
    "import json\n",
    "import papermill as pm\n",
    "import datetime"
   ]
  },
  {
   "cell_type": "code",
   "execution_count": 2,
   "id": "39847ceb-9f2a-4f53-bae4-08b8360aea0b",
   "metadata": {},
   "outputs": [],
   "source": [
    "exp_settings = json.load(\n",
    "    open(r\"G:\\PythonProjects\\WineRecognition2\\nn\\experiment_settings.json\")\n",
    ")\n",
    "\n",
    "experiments = [\n",
    "    {\n",
    "        'MODEL_NAME': 'BiLSTM_CRF',\n",
    "        'RUN_NAME': 'test run',\n",
    "        'START_TIME': None,\n",
    "        'OUTPUT_DIR': None,\n",
    "        'DATASET_PATH': 'G:/PythonProjects/WineRecognition2/data/text/Halliday_Wine_AU-only_completed_rows-complex.txt',\n",
    "        'VOCAB_PATH': 'G:/PythonProjects/WineRecognition2/data/vocabs/Words_Halliday_Wine_AU.json',\n",
    "        'DATAINFO_PATH': 'G:/PythonProjects/WineRecognition2/data_info.json',\n",
    "        'DEVICE': 'cuda',\n",
    "        'BATCH_SIZE': 2048,\n",
    "        'EMBEDDING_DIM': 256,\n",
    "        'HIDDEN_DIM': 64,\n",
    "        'NUM_EPOCHS': 3,\n",
    "        'LEARNING_RATE': 0.01,\n",
    "        'WEIGHT_DECAY': 1e-4,\n",
    "        'TEST_SIZE': 0.2\n",
    "    }\n",
    "]"
   ]
  },
  {
   "cell_type": "code",
   "execution_count": null,
   "id": "a82a7ebb-03f4-4482-baa4-0ff32d1ff025",
   "metadata": {},
   "outputs": [
    {
     "data": {
      "application/vnd.jupyter.widget-view+json": {
       "model_id": "25e7d9c7752640f6b74e1c9d5968c2c8",
       "version_major": 2,
       "version_minor": 0
      },
      "text/plain": [
       "Executing:   0%|          | 0/16 [00:00<?, ?cell/s]"
      ]
     },
     "metadata": {},
     "output_type": "display_data"
    }
   ],
   "source": [
    "for exp in experiments:\n",
    "    \n",
    "    exp['START_TIME'] = '{:%d%m%Y_%H%M%S}'.format(datetime.datetime.now())\n",
    "    exp['OUTPUT_DIR'] = f\"{exp_settings['artifacts_path']}/train/{exp['MODEL_NAME'] + '_' + exp['START_TIME']}\"\n",
    "    \n",
    "    if not os.path.exists(exp['OUTPUT_DIR']):\n",
    "        os.mkdir(exp['OUTPUT_DIR'])\n",
    "    \n",
    "    pm.execute_notebook(\n",
    "        input_path='train_bilstm_crf.ipynb',\n",
    "        output_path=os.path.join(exp['OUTPUT_DIR'], 'train_bilstm_crf.ipynb'),\n",
    "        parameters=exp\n",
    "    )"
   ]
  },
  {
   "cell_type": "code",
   "execution_count": null,
   "id": "1cdaf4b6-2d76-499a-9923-dc1993078f91",
   "metadata": {},
   "outputs": [],
   "source": []
  }
 ],
 "metadata": {
  "kernelspec": {
   "display_name": "wine-recognition",
   "language": "python",
   "name": "wine-recognition"
  },
  "language_info": {
   "codemirror_mode": {
    "name": "ipython",
    "version": 3
   },
   "file_extension": ".py",
   "mimetype": "text/x-python",
   "name": "python",
   "nbconvert_exporter": "python",
   "pygments_lexer": "ipython3",
   "version": "3.9.7"
  }
 },
 "nbformat": 4,
 "nbformat_minor": 5
}
