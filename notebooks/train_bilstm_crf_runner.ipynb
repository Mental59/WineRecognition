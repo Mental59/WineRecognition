{
 "cells": [
  {
   "cell_type": "code",
   "execution_count": 1,
   "id": "9b9db1bd-edd9-4e21-81a8-7428d4f3a44e",
   "metadata": {},
   "outputs": [],
   "source": [
    "import os\n",
    "import json\n",
    "import papermill as pm\n",
    "import datetime"
   ]
  },
  {
   "cell_type": "code",
   "execution_count": 2,
   "id": "39847ceb-9f2a-4f53-bae4-08b8360aea0b",
   "metadata": {
    "tags": []
   },
   "outputs": [
    {
     "data": {
      "application/vnd.jupyter.widget-view+json": {
       "model_id": "cb74e9ff87a0488b8857dee1644b0ea7",
       "version_major": 2,
       "version_minor": 0
      },
      "text/plain": [
       "Executing:   0%|          | 0/19 [00:00<?, ?cell/s]"
      ]
     },
     "metadata": {},
     "output_type": "display_data"
    },
    {
     "data": {
      "application/vnd.jupyter.widget-view+json": {
       "model_id": "6cc668187a8f4c43a404064c8f5fc6b6",
       "version_major": 2,
       "version_minor": 0
      },
      "text/plain": [
       "Executing:   0%|          | 0/19 [00:00<?, ?cell/s]"
      ]
     },
     "metadata": {},
     "output_type": "display_data"
    }
   ],
   "source": [
    "exp_settings = json.load(\n",
    "    open(r\"G:\\PythonProjects\\WineRecognition2\\nn\\experiment_settings.json\")\n",
    ")\n",
    "\n",
    "for embed_dim in [100, 64]:\n",
    "    experiment = {\n",
    "        'MODEL_NAME': 'BiLSTM_CRF',\n",
    "        'RUN_NAME': f'train-100WS-{embed_dim}',\n",
    "        'START_TIME': None,\n",
    "        'OUTPUT_DIR': None,\n",
    "        'DATASET_PATH': r'G:\\PythonProjects\\WineRecognition2\\data\\text\\halliday_winesearcher_menu_gen_samplesv2\\Halliday_WineSearcher_MenuGenSamples.txt',\n",
    "        'VOCAB_PATH': 'G:/PythonProjects/WineRecognition2/data/vocabs/Words_Halliday_Wine_AU.json',\n",
    "        'DATAINFO_PATH': 'G:/PythonProjects/WineRecognition2/data_info.json',\n",
    "        'DEVICE': 'cuda',\n",
    "        'BATCH_SIZE': 2048,\n",
    "        'EMBEDDING_DIM': embed_dim,\n",
    "        'HIDDEN_DIM': 64,\n",
    "        'NUM_EPOCHS': 150,\n",
    "        'LEARNING_RATE': 0.01,\n",
    "        'SCHEDULER_FACTOR': 0.1,\n",
    "        'SCHEDULER_PATIENCE': 10,\n",
    "        'CASE_SENSITIVE_VOCAB': False,\n",
    "        'WEIGHT_DECAY': 1e-4,\n",
    "        'TEST_SIZE': 0.2\n",
    "    }\n",
    "\n",
    "    experiment['START_TIME'] = '{:%d%m%Y_%H%M%S}'.format(datetime.datetime.now())\n",
    "    experiment['OUTPUT_DIR'] = f\"{exp_settings['artifacts_path']}/train/{experiment['MODEL_NAME'] + '_' + experiment['START_TIME']}\"\n",
    "    \n",
    "    if not os.path.exists(experiment['OUTPUT_DIR']):\n",
    "        os.mkdir(experiment['OUTPUT_DIR'])\n",
    "    \n",
    "    pm.execute_notebook(\n",
    "        input_path='train_bilstm_crf.ipynb',\n",
    "        output_path=os.path.join(experiment['OUTPUT_DIR'], 'train_bilstm_crf.ipynb'),\n",
    "        parameters=experiment\n",
    "    )"
   ]
  },
  {
   "cell_type": "code",
   "execution_count": null,
   "id": "1cdaf4b6-2d76-499a-9923-dc1993078f91",
   "metadata": {},
   "outputs": [],
   "source": [
    "exp_settings = json.load(\n",
    "    open(r\"G:\\PythonProjects\\WineRecognition2\\nn\\experiment_settings.json\")\n",
    ")\n",
    "\n",
    "for percent in range(85, 101, 5):\n",
    "    for embedding_dim in [16, 32, 64, 128, 256]:\n",
    "        experiment = {\n",
    "            'MODEL_NAME': 'BiLSTM_CRF',\n",
    "            'RUN_NAME': 'Train-{}-{}'.format(percent, embedding_dim),\n",
    "            'START_TIME': None,\n",
    "            'OUTPUT_DIR': None,\n",
    "            'DATASET_PATH': 'G:/PythonProjects/WineRecognition2/data/text/exp2_datasets/Halliday_WineSearcher_{}.txt'.format(percent),\n",
    "            'VOCAB_PATH': 'G:/PythonProjects/WineRecognition2/data/vocabs/Words_Halliday_Wine_AU.json',\n",
    "            'DATAINFO_PATH': 'G:/PythonProjects/WineRecognition2/data_info.json',\n",
    "            'DEVICE': 'cuda',\n",
    "            'BATCH_SIZE': 2048,\n",
    "            'EMBEDDING_DIM': embedding_dim,\n",
    "            'HIDDEN_DIM': 64,\n",
    "            'NUM_EPOCHS': 100,\n",
    "            'LEARNING_RATE': 0.01,\n",
    "            'WEIGHT_DECAY': 1e-4,\n",
    "            'TEST_SIZE': 0.2\n",
    "        }\n",
    "        \n",
    "        experiment['START_TIME'] = '{:%d%m%Y_%H%M%S}'.format(datetime.datetime.now())\n",
    "        experiment['OUTPUT_DIR'] = '{}/train/{}'.format(exp_settings['artifacts_path'], experiment['MODEL_NAME'] + '_' + experiment['START_TIME'])\n",
    "        \n",
    "        if not os.path.exists(experiment['OUTPUT_DIR']):\n",
    "            os.mkdir(experiment['OUTPUT_DIR'])\n",
    "        \n",
    "        pm.execute_notebook(\n",
    "            input_path='train_bilstm_crf_5_percent.ipynb',\n",
    "            output_path=os.path.join(experiment['OUTPUT_DIR'], 'train_bilstm_crf_5_percent.ipynb'),\n",
    "            parameters=experiment\n",
    "        )"
   ]
  },
  {
   "cell_type": "code",
   "execution_count": null,
   "id": "911998a4-242d-47d7-b43b-3e3d1457ae1d",
   "metadata": {},
   "outputs": [],
   "source": []
  }
 ],
 "metadata": {
  "kernelspec": {
   "display_name": "wine-recognition",
   "language": "python",
   "name": "wine-recognition"
  },
  "language_info": {
   "codemirror_mode": {
    "name": "ipython",
    "version": 3
   },
   "file_extension": ".py",
   "mimetype": "text/x-python",
   "name": "python",
   "nbconvert_exporter": "python",
   "pygments_lexer": "ipython3",
   "version": "3.9.7"
  }
 },
 "nbformat": 4,
 "nbformat_minor": 5
}
