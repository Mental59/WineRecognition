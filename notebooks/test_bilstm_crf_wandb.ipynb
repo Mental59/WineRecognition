{
 "cells": [
  {
   "cell_type": "code",
   "execution_count": 1,
   "id": "92e2b82f-b192-461c-a8a8-da4f40165fb6",
   "metadata": {},
   "outputs": [
    {
     "name": "stderr",
     "output_type": "stream",
     "text": [
      "D:\\ProgramFiles\\anaconda3\\envs\\wine-recognition\\lib\\site-packages\\papermill\\iorw.py:50: FutureWarning: pyarrow.HadoopFileSystem is deprecated as of 2.0.0, please use pyarrow.fs.HadoopFileSystem instead.\n",
      "  from pyarrow import HadoopFileSystem\n"
     ]
    }
   ],
   "source": [
    "import sys\n",
    "import json\n",
    "import os\n",
    "import string\n",
    "import torch\n",
    "import numpy as np\n",
    "import pandas as pd\n",
    "from torch.utils.data import DataLoader\n",
    "\n",
    "if r'G:\\PythonProjects\\WineRecognition2' not in sys.path:\n",
    "    sys.path.insert(0, r'G:\\PythonProjects\\WineRecognition2')\n",
    "\n",
    "from nn.utils import generate_tag_to_ix, get_model_confidence, get_model_mean_confidence, CustomDataset\n",
    "from nn.mlflow_utils import log_mlflow_on_test\n",
    "from nn.model import BiLSTM_CRF\n",
    "from data_master import DataGenerator, count_unk_foreach_tag, DataAnalyzer\n",
    "from tqdm.notebook import tqdm\n",
    "\n",
    "import wandb\n",
    "\n",
    "from sklearn_crfsuite import metrics"
   ]
  },
  {
   "cell_type": "code",
   "execution_count": 2,
   "id": "97acfe66-e72e-4f08-a194-e0f966036996",
   "metadata": {
    "tags": [
     "parameters"
    ]
   },
   "outputs": [],
   "source": [
    "TRAIN_RUN_ID = 'g62qoutw'\n",
    "RUN_NAME = 'Test-100-256'\n",
    "START_TIME = ''\n",
    "OUTPUT_DIR = 'G:/PythonProjects/WineRecognition2/artifacts/test/test'\n",
    "DATA_PATH = r'G:\\PythonProjects\\WineRecognition2\\data\\text\\menu_txt_tagged_fixed_bottlesize.txt'\n",
    "COMPUTE_METRICS = True\n",
    "DEVICE = 'cpu'"
   ]
  },
  {
   "cell_type": "code",
   "execution_count": 4,
   "id": "6fbaf808-cfbc-4c86-a36f-b8fde3351c33",
   "metadata": {},
   "outputs": [],
   "source": [
    "wandb_api = wandb.Api()\n",
    "train_run = wandb_api.run(f'mentalakv/wine-recognition/{TRAIN_RUN_ID}')\n",
    "\n",
    "logged_artifacts = train_run.logged_artifacts()\n",
    "train_run_params = train_run.config"
   ]
  },
  {
   "cell_type": "code",
   "execution_count": 8,
   "id": "239498a4-1efb-4a36-aa3a-0cdb4d15569a",
   "metadata": {},
   "outputs": [
    {
     "name": "stderr",
     "output_type": "stream",
     "text": [
      "\u001b[34m\u001b[1mwandb\u001b[0m:   1 of 1 files downloaded.  \n",
      "\u001b[34m\u001b[1mwandb\u001b[0m:   1 of 1 files downloaded.  \n",
      "\u001b[34m\u001b[1mwandb\u001b[0m:   1 of 1 files downloaded.  \n"
     ]
    },
    {
     "data": {
      "text/plain": [
       "'G:/PythonProjects/WineRecognition2/artifacts/test/test'"
      ]
     },
     "execution_count": 8,
     "metadata": {},
     "output_type": "execute_result"
    }
   ],
   "source": [
    "artifact_dict = {}\n",
    "for artifact in logged_artifacts:\n",
    "    artifact_dict[artifact.name.split(':')[0]] = artifact\n",
    "\n",
    "artifact_dict['best_model'].download(OUTPUT_DIR)\n",
    "artifact_dict['vocab'].download(OUTPUT_DIR)\n",
    "artifact_dict['tags'].download(OUTPUT_DIR)"
   ]
  },
  {
   "cell_type": "code",
   "execution_count": 9,
   "id": "ebf65bd7-a0c0-4116-8d1a-e89fa3041636",
   "metadata": {},
   "outputs": [
    {
     "name": "stderr",
     "output_type": "stream",
     "text": [
      "\u001b[34m\u001b[1mwandb\u001b[0m: Currently logged in as: \u001b[33mmentalakv\u001b[0m. Use \u001b[1m`wandb login --relogin`\u001b[0m to force relogin\n"
     ]
    },
    {
     "data": {
      "text/html": [
       "Tracking run with wandb version 0.15.12"
      ],
      "text/plain": [
       "<IPython.core.display.HTML object>"
      ]
     },
     "metadata": {},
     "output_type": "display_data"
    },
    {
     "data": {
      "text/html": [
       "Run data is saved locally in <code>G:/PythonProjects/WineRecognition2/artifacts/test/test\\wandb\\run-20231017_195945-qgdcrfg0</code>"
      ],
      "text/plain": [
       "<IPython.core.display.HTML object>"
      ]
     },
     "metadata": {},
     "output_type": "display_data"
    },
    {
     "data": {
      "text/html": [
       "Syncing run <strong><a href='https://wandb.ai/mentalakv/wine-recognition/runs/qgdcrfg0' target=\"_blank\">breezy-dragon-21</a></strong> to <a href='https://wandb.ai/mentalakv/wine-recognition' target=\"_blank\">Weights & Biases</a> (<a href='https://wandb.me/run' target=\"_blank\">docs</a>)<br/>"
      ],
      "text/plain": [
       "<IPython.core.display.HTML object>"
      ]
     },
     "metadata": {},
     "output_type": "display_data"
    },
    {
     "data": {
      "text/html": [
       " View project at <a href='https://wandb.ai/mentalakv/wine-recognition' target=\"_blank\">https://wandb.ai/mentalakv/wine-recognition</a>"
      ],
      "text/plain": [
       "<IPython.core.display.HTML object>"
      ]
     },
     "metadata": {},
     "output_type": "display_data"
    },
    {
     "data": {
      "text/html": [
       " View run at <a href='https://wandb.ai/mentalakv/wine-recognition/runs/qgdcrfg0' target=\"_blank\">https://wandb.ai/mentalakv/wine-recognition/runs/qgdcrfg0</a>"
      ],
      "text/plain": [
       "<IPython.core.display.HTML object>"
      ]
     },
     "metadata": {},
     "output_type": "display_data"
    },
    {
     "data": {
      "text/html": [
       "<button onClick=\"this.nextSibling.style.display='block';this.style.display='none';\">Display W&B run</button><iframe src='https://wandb.ai/mentalakv/wine-recognition/runs/qgdcrfg0?jupyter=true' style='border:none;width:100%;height:420px;display:none;'></iframe>"
      ],
      "text/plain": [
       "<wandb.sdk.wandb_run.Run at 0x1e40a642400>"
      ]
     },
     "execution_count": 9,
     "metadata": {},
     "output_type": "execute_result"
    }
   ],
   "source": [
    "params = {\n",
    "    'train_run_id': TRAIN_RUN_ID,\n",
    "    'data_path': DATA_PATH,\n",
    "    'compute_metrics': COMPUTE_METRICS,\n",
    "    'device': DEVICE,\n",
    "    'run_info': {\n",
    "        'name': RUN_NAME,\n",
    "        'output_directory': OUTPUT_DIR,\n",
    "        'start_time': START_TIME\n",
    "    },\n",
    "    'train_run_parameters': train_run_params\n",
    "}\n",
    "\n",
    "wandb.init(\n",
    "    project=\"wine-recognition\",\n",
    "    config=params,\n",
    "    tags=[train_run_params['model_name'], 'test'],\n",
    "    dir=OUTPUT_DIR\n",
    ")"
   ]
  },
  {
   "cell_type": "code",
   "execution_count": 10,
   "id": "02a2d554-8ec8-4663-b1d8-10d0e7eb6f42",
   "metadata": {},
   "outputs": [
    {
     "data": {
      "text/plain": [
       "18208"
      ]
     },
     "execution_count": 10,
     "metadata": {},
     "output_type": "execute_result"
    }
   ],
   "source": [
    "with open(os.path.join(OUTPUT_DIR, 'vocab.json'), 'r', encoding='utf-8') as file:\n",
    "    word_to_ix = json.load(file)\n",
    "\n",
    "vocab_size = len(word_to_ix) \n",
    "    \n",
    "vocab_size"
   ]
  },
  {
   "cell_type": "code",
   "execution_count": 11,
   "id": "2ebf3d52",
   "metadata": {
    "tags": []
   },
   "outputs": [
    {
     "data": {
      "text/plain": [
       "{'Add_TradeName': 0,\n",
       " 'Add_Brand': 1,\n",
       " 'Add_KeyWordTrue': 2,\n",
       " 'Add_KeyWordFalse': 3,\n",
       " 'Add_GrapeVarieties': 4,\n",
       " 'Add_GeoIndication': 5,\n",
       " 'Add_WineType': 6,\n",
       " 'Add_BottleSize': 7,\n",
       " 'Add_Sweetness': 8,\n",
       " 'Add_WineColor': 9,\n",
       " 'Add_ClosureType': 10,\n",
       " 'Add_Certificate': 11,\n",
       " 'Add_Vintage': 12,\n",
       " 'Add_Price': 13,\n",
       " 'Punctuation': 14,\n",
       " 'Other': 15}"
      ]
     },
     "execution_count": 11,
     "metadata": {},
     "output_type": "execute_result"
    }
   ],
   "source": [
    "with open(os.path.join(OUTPUT_DIR, 'tags.json')) as file:\n",
    "    tag_to_ix = json.load(file)\n",
    "    \n",
    "num_tags = len(tag_to_ix)\n",
    "\n",
    "if not COMPUTE_METRICS:\n",
    "    tag_to_ix['UNKNOWN'] = max(tag_to_ix.values()) + 1\n",
    "\n",
    "ix_to_tag = {value: key for key, value in tag_to_ix.items()}\n",
    "tag_to_ix"
   ]
  },
  {
   "cell_type": "code",
   "execution_count": 12,
   "id": "d9823680-213b-4100-af23-6bc0d04420b4",
   "metadata": {},
   "outputs": [],
   "source": [
    "with open(DATA_PATH, encoding='utf-8') as file:\n",
    "    x_test = DataGenerator.generate_sents2(file.read().split('\\n'))\n",
    "\n",
    "    \n",
    "dataset = CustomDataset(\n",
    "    x_test,\n",
    "    tag_to_ix,\n",
    "    word_to_ix,\n",
    "    case_sensitive=train_run_params['case_sensitive_vocab'],\n",
    "    convert_nums2words=train_run_params['use_num2words']\n",
    ")\n",
    "\n",
    "y_test = [tags for _, tags in dataset.raw_data()]\n",
    "dataloader = DataLoader(dataset, batch_size=2048, shuffle=False, drop_last=False)"
   ]
  },
  {
   "cell_type": "code",
   "execution_count": 14,
   "id": "8fe566a8-c271-4f0b-9abf-3fdd6e6b3b92",
   "metadata": {},
   "outputs": [
    {
     "data": {
      "text/plain": [
       "BiLSTM_CRF(\n",
       "  (embedding): Embedding(18208, 64, padding_idx=18173)\n",
       "  (lstm): LSTM(64, 64, batch_first=True, bidirectional=True)\n",
       "  (hidden2tags): Linear(in_features=128, out_features=16, bias=True)\n",
       "  (crf): CRF(num_tags=16)\n",
       ")"
      ]
     },
     "execution_count": 14,
     "metadata": {},
     "output_type": "execute_result"
    }
   ],
   "source": [
    "model = BiLSTM_CRF(vocab_size, num_tags, train_run_params['embedding_dim'], train_run_params['hidden_dim'], word_to_ix['PAD'])\n",
    "model.load_state_dict(torch.load(os.path.join(OUTPUT_DIR, 'model.pth')))\n",
    "model = model.to(DEVICE)\n",
    "model.eval()"
   ]
  },
  {
   "cell_type": "code",
   "execution_count": 15,
   "id": "ca7b5d44-2e38-4613-9eb5-9e8725887533",
   "metadata": {},
   "outputs": [],
   "source": [
    "y_pred = []\n",
    "with torch.no_grad():\n",
    "    for x, tags, mask, _ in dataloader:\n",
    "        x = x.to(DEVICE)\n",
    "        tags = tags.to(DEVICE)\n",
    "        mask = mask.to(DEVICE)\n",
    "        best_tag_seq = model(x, mask)\n",
    "        y_pred.extend(best_tag_seq)"
   ]
  },
  {
   "cell_type": "code",
   "execution_count": 16,
   "id": "fb8614a6",
   "metadata": {},
   "outputs": [],
   "source": [
    "x_tensor = [\n",
    "    torch.tensor(dataset.sentence_to_indices(sentence), dtype=torch.int64) for sentence, _ in dataset.raw_data()\n",
    "]"
   ]
  },
  {
   "cell_type": "code",
   "execution_count": 17,
   "id": "67a565b0-fd99-4b0c-b250-c771db0f5b78",
   "metadata": {},
   "outputs": [
    {
     "data": {
      "text/plain": [
       "<Artifact unk_foreach_tag>"
      ]
     },
     "execution_count": 17,
     "metadata": {},
     "output_type": "execute_result"
    }
   ],
   "source": [
    "unk_foreach_tag = count_unk_foreach_tag(x_tensor, y_test, list(tag_to_ix), dataset.word_to_ix[dataset.unk])\n",
    "\n",
    "unk_foreach_tag_path = os.path.join(OUTPUT_DIR, 'unk_foreach_tag.json')\n",
    "with open(unk_foreach_tag_path, 'w', encoding='utf-8') as file:\n",
    "    json.dump(unk_foreach_tag, file)\n",
    "\n",
    "unk_foreach_tag_artifact = wandb.Artifact('unk_foreach_tag', type='results')\n",
    "unk_foreach_tag_artifact.add_file(unk_foreach_tag_path, 'unk_foreach_tag.json')\n",
    "wandb.log_artifact(unk_foreach_tag_artifact)"
   ]
  },
  {
   "cell_type": "code",
   "execution_count": 18,
   "id": "079b6291",
   "metadata": {},
   "outputs": [
    {
     "data": {
      "application/vnd.jupyter.widget-view+json": {
       "model_id": "9a32e5f2cdac459a94acd86de2c67958",
       "version_major": 2,
       "version_minor": 0
      },
      "text/plain": [
       "0it [00:00, ?it/s]"
      ]
     },
     "metadata": {},
     "output_type": "display_data"
    },
    {
     "name": "stderr",
     "output_type": "stream",
     "text": [
      "D:\\ProgramFiles\\anaconda3\\envs\\wine-recognition\\lib\\site-packages\\torchcrf\\__init__.py:305: UserWarning: where received a uint8 condition tensor. This behavior is deprecated and will be removed in a future version of PyTorch. Use a boolean condition instead. (Triggered internally at  ..\\aten\\src\\ATen\\native\\TensorCompare.cpp:328.)\n",
      "  score = torch.where(mask[i].unsqueeze(1), next_score, score)\n"
     ]
    }
   ],
   "source": [
    "conf = get_model_mean_confidence(model, x_tensor, DEVICE, tqdm)"
   ]
  },
  {
   "cell_type": "code",
   "execution_count": 19,
   "id": "f94d518b-8226-4e33-a630-4a8f8f4c39a5",
   "metadata": {},
   "outputs": [],
   "source": [
    "for index, pred in enumerate(y_pred):\n",
    "    y_pred[index] = [ix_to_tag[tag] for tag in pred]\n",
    "\n",
    "x_test = [sentence for sentence, _ in dataset.raw_data()]"
   ]
  },
  {
   "cell_type": "code",
   "execution_count": 21,
   "id": "1e8c00a8-aebc-41dc-bced-3b440d6f6501",
   "metadata": {},
   "outputs": [
    {
     "name": "stderr",
     "output_type": "stream",
     "text": [
      "D:\\ProgramFiles\\anaconda3\\envs\\wine-recognition\\lib\\site-packages\\sklearn\\metrics\\_classification.py:1464: UndefinedMetricWarning: F-score is ill-defined and being set to 0.0 in labels with no true nor predicted samples. Use `zero_division` parameter to control this behavior.\n",
      "  _warn_prf(\n",
      "D:\\ProgramFiles\\anaconda3\\envs\\wine-recognition\\lib\\site-packages\\sklearn\\metrics\\_classification.py:1221: UndefinedMetricWarning: Precision is ill-defined and being set to 0.0 in labels with no predicted samples. Use `zero_division` parameter to control this behavior.\n",
      "  _warn_prf(average, modifier, msg_start, len(result))\n",
      "D:\\ProgramFiles\\anaconda3\\envs\\wine-recognition\\lib\\site-packages\\sklearn\\metrics\\_classification.py:1221: UndefinedMetricWarning: Recall is ill-defined and being set to 0.0 in labels with no true samples. Use `zero_division` parameter to control this behavior.\n",
      "  _warn_prf(average, modifier, msg_start, len(result))\n",
      "D:\\ProgramFiles\\anaconda3\\envs\\wine-recognition\\lib\\site-packages\\sklearn\\metrics\\_classification.py:1221: UndefinedMetricWarning: Precision and F-score are ill-defined and being set to 0.0 in labels with no predicted samples. Use `zero_division` parameter to control this behavior.\n",
      "  _warn_prf(average, modifier, msg_start, len(result))\n",
      "D:\\ProgramFiles\\anaconda3\\envs\\wine-recognition\\lib\\site-packages\\sklearn\\metrics\\_classification.py:1221: UndefinedMetricWarning: Recall and F-score are ill-defined and being set to 0.0 in labels with no true samples. Use `zero_division` parameter to control this behavior.\n",
      "  _warn_prf(average, modifier, msg_start, len(result))\n"
     ]
    },
    {
     "data": {
      "text/plain": [
       "<Artifact flat_classification_report>"
      ]
     },
     "execution_count": 21,
     "metadata": {},
     "output_type": "execute_result"
    }
   ],
   "source": [
    "labels=list(tag_to_ix)\n",
    "\n",
    "wandb.log({'metrics': {\n",
    "    'f1': metrics.flat_f1_score(y_test, y_pred, average='weighted', labels=labels),\n",
    "    'precision': metrics.flat_precision_score(y_test, y_pred, average='weighted', labels=labels),\n",
    "    'recall': metrics.flat_recall_score(y_test, y_pred, average='weighted', labels=labels),\n",
    "    'accuracy': metrics.flat_accuracy_score(y_test, y_pred),\n",
    "    'confidence': conf\n",
    "}})\n",
    "\n",
    "flat_class_report_path = os.path.join(OUTPUT_DIR, 'flat-classification-report.txt')\n",
    "with open(flat_class_report_path, 'w', encoding='utf-8') as file:\n",
    "    file.write(metrics.flat_classification_report(y_test, y_pred, labels=labels, digits=3))\n",
    "    \n",
    "flat_class_report_artifact = wandb.Artifact('flat_classification_report', type='results')\n",
    "flat_class_report_artifact.add_file(flat_class_report_path, 'flat_classification_report.txt')\n",
    "wandb.log_artifact(flat_class_report_artifact)"
   ]
  },
  {
   "cell_type": "code",
   "execution_count": 22,
   "id": "84063888-b517-40c9-8305-d6f4ea9055b3",
   "metadata": {},
   "outputs": [
    {
     "data": {
      "text/plain": [
       "<Artifact model_output>"
      ]
     },
     "execution_count": 22,
     "metadata": {},
     "output_type": "execute_result"
    }
   ],
   "source": [
    "results_path = os.path.join(OUTPUT_DIR, 'results.txt')\n",
    "with open(results_path, 'w', encoding='utf-8') as file:\n",
    "    for sentence, tags in zip(x_test, y_pred):\n",
    "        f = ['%-20s'] * len(sentence)\n",
    "        file.write(' '.join(f) % tuple(tags) + '\\n')\n",
    "        file.write(' '.join(f) % tuple(sentence) + '\\n')\n",
    "        \n",
    "results_artifact = wandb.Artifact('model_output', type='results')\n",
    "results_artifact.add_file(results_path, 'model_output.txt')\n",
    "wandb.log_artifact(results_artifact)"
   ]
  },
  {
   "cell_type": "code",
   "execution_count": 23,
   "id": "bd8eddcb-1acf-4b40-8498-05276a1e2db8",
   "metadata": {},
   "outputs": [
    {
     "data": {
      "image/png": "[encoded data removed]",
      "text/plain": [
       "<Figure size 1800x800 with 1 Axes>"
      ]
     },
     "metadata": {},
     "output_type": "display_data"
    }
   ],
   "source": [
    "if COMPUTE_METRICS:\n",
    "    test_eval = []\n",
    "    for sentence, true_tags, pred_tags in zip(x_test, y_test, y_pred):\n",
    "        test_eval.append(list(zip(sentence, true_tags, pred_tags)))\n",
    "        \n",
    "    colored_table_path = os.path.join(OUTPUT_DIR, 'colored-table.xlsx')\n",
    "    diagram_path = os.path.join(OUTPUT_DIR, 'diagram.png')\n",
    "\n",
    "    DataAnalyzer.analyze(\n",
    "            test_eval,\n",
    "            keys=labels,\n",
    "            table_save_path=colored_table_path,\n",
    "            diagram_save_path=diagram_path)\n",
    "    \n",
    "    colored_table_artifact = wandb.Artifact('colored_table', type='results')\n",
    "    colored_table_artifact.add_file(colored_table_path, 'colored-table.xlsx')\n",
    "    wandb.log_artifact(colored_table_artifact)\n",
    "\n",
    "    diagram_artifact = wandb.Artifact('diagram', type='results')\n",
    "    diagram_artifact.add_file(diagram_path, 'diagram.png')\n",
    "    wandb.log_artifact(diagram_artifact)"
   ]
  },
  {
   "cell_type": "code",
   "execution_count": 24,
   "id": "ae1f60a4-05a1-4347-9f0d-f368a04cd645",
   "metadata": {},
   "outputs": [
    {
     "data": {
      "text/plain": [
       "<Artifact result_xlsx_table>"
      ]
     },
     "execution_count": 24,
     "metadata": {},
     "output_type": "execute_result"
    }
   ],
   "source": [
    "df = []\n",
    "classes = list(ix_to_tag.values())\n",
    "for sentence, tags in zip(x_test, y_pred):\n",
    "    output = [' '.join(word for word, tag in zip(sentence, tags) if tag == cls) for cls in classes]\n",
    "    df.append(output)\n",
    "\n",
    "source_strings = [' '.join(sentence) for sentence in x_test]\n",
    "results_xlsx_path = os.path.join(OUTPUT_DIR, 'results.xlsx')\n",
    "with pd.ExcelWriter(results_xlsx_path, engine='xlsxwriter') as writer:\n",
    "    pd.DataFrame(df, columns=classes).to_excel(writer, sheet_name='results')\n",
    "    pd.DataFrame(source_strings).to_excel(writer, sheet_name='source')\n",
    "\n",
    "result_xlsx_table_artifact = wandb.Artifact('result_xlsx_table', type='results')\n",
    "result_xlsx_table_artifact.add_file(results_xlsx_path, 'result_xlsx_table.xlsx')\n",
    "wandb.log_artifact(result_xlsx_table_artifact)"
   ]
  },
  {
   "cell_type": "code",
   "execution_count": 25,
   "id": "c54c5fa3-95c7-4128-a149-147ed5c1aa64",
   "metadata": {},
   "outputs": [
    {
     "data": {
      "text/html": [
       "Waiting for W&B process to finish... <strong style=\"color:green\">(success).</strong>"
      ],
      "text/plain": [
       "<IPython.core.display.HTML object>"
      ]
     },
     "metadata": {},
     "output_type": "display_data"
    },
    {
     "data": {
      "application/vnd.jupyter.widget-view+json": {
       "model_id": "285d3fc7272a4e0eab6a98b266aab46f",
       "version_major": 2,
       "version_minor": 0
      },
      "text/plain": [
       "VBox(children=(Label(value='0.089 MB of 0.089 MB uploaded (0.000 MB deduped)\\r'), FloatProgress(value=1.0, max…"
      ]
     },
     "metadata": {},
     "output_type": "display_data"
    },
    {
     "data": {
      "text/html": [
       " View run <strong style=\"color:#cdcd00\">breezy-dragon-21</strong> at: <a href='https://wandb.ai/mentalakv/wine-recognition/runs/qgdcrfg0' target=\"_blank\">https://wandb.ai/mentalakv/wine-recognition/runs/qgdcrfg0</a><br/> View job at <a href='https://wandb.ai/mentalakv/wine-recognition/jobs/QXJ0aWZhY3RDb2xsZWN0aW9uOjEwNzQ3NTM3NA==/version_details/v0' target=\"_blank\">https://wandb.ai/mentalakv/wine-recognition/jobs/QXJ0aWZhY3RDb2xsZWN0aW9uOjEwNzQ3NTM3NA==/version_details/v0</a><br/>Synced 6 W&B file(s), 0 media file(s), 8 artifact file(s) and 0 other file(s)"
      ],
      "text/plain": [
       "<IPython.core.display.HTML object>"
      ]
     },
     "metadata": {},
     "output_type": "display_data"
    },
    {
     "data": {
      "text/html": [
       "Find logs at: <code>G:/PythonProjects/WineRecognition2/artifacts/test/test\\wandb\\run-20231017_195945-qgdcrfg0\\logs</code>"
      ],
      "text/plain": [
       "<IPython.core.display.HTML object>"
      ]
     },
     "metadata": {},
     "output_type": "display_data"
    }
   ],
   "source": [
    "wandb.finish()"
   ]
  },
  {
   "cell_type": "code",
   "execution_count": null,
   "id": "554b52ca-3a01-4e7d-9562-bc9b7d6e86ed",
   "metadata": {},
   "outputs": [],
   "source": []
  }
 ],
 "metadata": {
  "kernelspec": {
   "display_name": "wine-recognition",
   "language": "python",
   "name": "wine-recognition"
  },
  "language_info": {
   "codemirror_mode": {
    "name": "ipython",
    "version": 3
   },
   "file_extension": ".py",
   "mimetype": "text/x-python",
   "name": "python",
   "nbconvert_exporter": "python",
   "pygments_lexer": "ipython3",
   "version": "3.9.16"
  }
 },
 "nbformat": 4,
 "nbformat_minor": 5
}
