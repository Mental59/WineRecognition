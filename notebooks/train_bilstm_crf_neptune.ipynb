{
 "cells": [
  {
   "cell_type": "code",
   "execution_count": 1,
   "id": "a4df137a-7825-4ee9-bba5-c22e64e58532",
   "metadata": {},
   "outputs": [
    {
     "name": "stderr",
     "output_type": "stream",
     "text": [
      "D:\\ProgramFiles\\anaconda3\\envs\\wine-recognition\\lib\\site-packages\\papermill\\iorw.py:50: FutureWarning: pyarrow.HadoopFileSystem is deprecated as of 2.0.0, please use pyarrow.fs.HadoopFileSystem instead.\n",
      "  from pyarrow import HadoopFileSystem\n"
     ]
    }
   ],
   "source": [
    "import sys\n",
    "import json\n",
    "import os\n",
    "\n",
    "import torch\n",
    "from torch.optim import Adam\n",
    "from torch.utils.data import DataLoader\n",
    "from torch.optim.lr_scheduler import ReduceLROnPlateau\n",
    "from tqdm.notebook import tqdm\n",
    "from sklearn.model_selection import train_test_split\n",
    "import numpy as np\n",
    "\n",
    "if r'G:\\PythonProjects\\WineRecognition2' not in sys.path:\n",
    "    sys.path.insert(0, r'G:\\PythonProjects\\WineRecognition2')\n",
    "from nn.utils import CustomDataset, train, plot_losses, generate_tag_to_ix, get_model_confidence, get_model_mean_confidence\n",
    "from nn.model import BiLSTM_CRF\n",
    "from nn.mlflow_utils import log_mlflow_on_train\n",
    "from data_master import DataGenerator, count_unk_foreach_tag, DataAnalyzer\n",
    "\n",
    "\n",
    "import neptune\n",
    "from neptune.types import File\n",
    "\n",
    "from sklearn_crfsuite import metrics"
   ]
  },
  {
   "cell_type": "code",
   "execution_count": 2,
   "id": "3c5ae3e9-ea41-4b18-ae00-b6bc35e4c88b",
   "metadata": {},
   "outputs": [
    {
     "name": "stderr",
     "output_type": "stream",
     "text": [
      "D:\\ProgramFiles\\anaconda3\\envs\\wine-recognition\\lib\\site-packages\\neptune\\common\\warnings.py:62: NeptuneWarning: The following monitoring options are disabled by default in interactive sessions: 'capture_stdout', 'capture_stderr', 'capture_traceback', and 'capture_hardware_metrics'. To enable them, set each parameter to 'True' when initializing the run. The monitoring will continue until you call run.stop() or the kernel stops. Also note: Your source files can only be tracked if you pass the path(s) to the 'source_code' argument. For help, see the Neptune docs: https://docs.neptune.ai/logging/source_code/\n",
      "  warnings.warn(\n"
     ]
    },
    {
     "name": "stdout",
     "output_type": "stream",
     "text": [
      "https://app.neptune.ai/mentalakv/wine-recognition/e/WIN-11\n"
     ]
    }
   ],
   "source": [
    "run = neptune.init_run(\n",
    "    project=\"mentalakv/wine-recognition\",\n",
    "    api_token=os.getenv('NEPTUNE_API_KEY'),\n",
    ")"
   ]
  },
  {
   "cell_type": "code",
   "execution_count": 3,
   "id": "88eb69d0-a561-490f-b96c-2251c20d4252",
   "metadata": {
    "tags": [
     "parameters"
    ]
   },
   "outputs": [],
   "source": [
    "MODEL_NAME = 'BiLSTM_CRF'\n",
    "RUN_NAME = f'train-H_WS_Brux_MenuSamples+USA+ENG+CAN_Num2Words_'\n",
    "START_TIME = ''\n",
    "OUTPUT_DIR = ''\n",
    "DATASET_PATH = r'G:\\PythonProjects\\WineRecognition2\\data\\text\\data_and_menu_gen_samples\\Halliday_WineSearcher_Bruxelles_MenuGenSamples_v5_BottleSize_fixed.txt'\n",
    "VOCAB_PATH = r'G:\\PythonProjects\\WineRecognition2\\data\\vocabs\\Words_Halliday_WineSearcher_Bruxelles_WORD_NUMS.json'\n",
    "DATAINFO_PATH = r'G:/PythonProjects/WineRecognition2/data_info.json'\n",
    "DEVICE = 'cuda'\n",
    "BATCH_SIZE = 2048\n",
    "EMBEDDING_DIM = 64\n",
    "HIDDEN_DIM = 64\n",
    "NUM_EPOCHS = 3\n",
    "LEARNING_RATE = 0.01\n",
    "SCHEDULER_FACTOR = 0.1\n",
    "SCHEDULER_PATIENCE = 10\n",
    "CASE_SENSITIVE_VOCAB = False\n",
    "USE_NUM2WORDS = False\n",
    "WEIGHT_DECAY = 1e-4\n",
    "TEST_SIZE = 0.2"
   ]
  },
  {
   "cell_type": "code",
   "execution_count": 4,
   "id": "78c28913-3625-463a-86f5-928a03ab3521",
   "metadata": {},
   "outputs": [],
   "source": [
    "params = {\n",
    "    'model_name': MODEL_NAME,\n",
    "    'run_name': RUN_NAME,\n",
    "    'dataset_path': DATASET_PATH,\n",
    "    'vocab_path': VOCAB_PATH,\n",
    "    'datainfo_path': DATAINFO_PATH,\n",
    "    'device': DEVICE,\n",
    "    'batch_size': BATCH_SIZE,\n",
    "    'embedding_dim': EMBEDDING_DIM,\n",
    "    'hidden_dim': HIDDEN_DIM,\n",
    "    'num_epochs': NUM_EPOCHS,\n",
    "    'learning_rate': LEARNING_RATE,\n",
    "    'scheduler_factor': SCHEDULER_FACTOR,\n",
    "    'scheduler_patience': SCHEDULER_PATIENCE,\n",
    "    'case_sensitive_vocab': CASE_SENSITIVE_VOCAB,\n",
    "    'weight_decay': WEIGHT_DECAY,\n",
    "    'test_size': TEST_SIZE,\n",
    "    'use_num2words': USE_NUM2WORDS\n",
    "}\n",
    "run['parameters'] = params"
   ]
  },
  {
   "cell_type": "code",
   "execution_count": 5,
   "id": "0a679855-195c-48a5-b1df-d7992a433650",
   "metadata": {},
   "outputs": [
    {
     "data": {
      "text/plain": [
       "100000"
      ]
     },
     "execution_count": 5,
     "metadata": {},
     "output_type": "execute_result"
    }
   ],
   "source": [
    "with open(DATASET_PATH, encoding='utf-8') as file:\n",
    "    sents = DataGenerator.generate_sents2(file.read().split('\\n'))\n",
    "    sents = sents[:100000]\n",
    "run['data/dataset'].upload(DATASET_PATH)\n",
    "len(sents)"
   ]
  },
  {
   "cell_type": "code",
   "execution_count": 6,
   "id": "147d43fa-aff7-43c1-97d9-424cea350e10",
   "metadata": {},
   "outputs": [
    {
     "data": {
      "text/plain": [
       "(80000, 20000)"
      ]
     },
     "execution_count": 6,
     "metadata": {},
     "output_type": "execute_result"
    }
   ],
   "source": [
    "train_data, val_data = train_test_split(sents, test_size=TEST_SIZE)\n",
    "len(train_data), len(val_data)"
   ]
  },
  {
   "cell_type": "code",
   "execution_count": 7,
   "id": "8ebd43e1-2ff8-4f39-8810-1c3a0d3546db",
   "metadata": {
    "tags": []
   },
   "outputs": [
    {
     "data": {
      "text/plain": [
       "{'Add_TradeName': 0,\n",
       " 'Add_Brand': 1,\n",
       " 'Add_KeyWordTrue': 2,\n",
       " 'Add_KeyWordFalse': 3,\n",
       " 'Add_GrapeVarieties': 4,\n",
       " 'Add_GeoIndication': 5,\n",
       " 'Add_WineType': 6,\n",
       " 'Add_BottleSize': 7,\n",
       " 'Add_Sweetness': 8,\n",
       " 'Add_WineColor': 9,\n",
       " 'Add_ClosureType': 10,\n",
       " 'Add_Certificate': 11,\n",
       " 'Add_Vintage': 12,\n",
       " 'Add_Price': 13,\n",
       " 'Punctuation': 14,\n",
       " 'Other': 15}"
      ]
     },
     "execution_count": 7,
     "metadata": {},
     "output_type": "execute_result"
    }
   ],
   "source": [
    "with open(DATAINFO_PATH) as file:\n",
    "    tag_to_ix = generate_tag_to_ix(json.load(file)['keys']['all'])\n",
    "\n",
    "tags_path = os.path.join(OUTPUT_DIR, 'tags.json')\n",
    "with open(tags_path, 'w', encoding='utf-8') as file:\n",
    "    json.dump(tag_to_ix, file)\n",
    "run['data/tags'].upload(tags_path)\n",
    "\n",
    "tag_to_ix"
   ]
  },
  {
   "cell_type": "code",
   "execution_count": 8,
   "id": "535b15e3-8339-43b4-a46f-0d4f9d5131b9",
   "metadata": {
    "tags": []
   },
   "outputs": [
    {
     "data": {
      "text/plain": [
       "18208"
      ]
     },
     "execution_count": 8,
     "metadata": {},
     "output_type": "execute_result"
    }
   ],
   "source": [
    "with open(VOCAB_PATH, 'r', encoding='utf-8') as file:\n",
    "    word_to_ix = json.load(file)\n",
    "run['data/vocab'].upload(VOCAB_PATH)\n",
    "len(word_to_ix)"
   ]
  },
  {
   "cell_type": "code",
   "execution_count": 9,
   "id": "73c5d913-4add-410b-86fc-fc9abc0003d7",
   "metadata": {},
   "outputs": [],
   "source": [
    "train_dataset = CustomDataset(\n",
    "    train_data, tag_to_ix, word_to_ix, case_sensitive=CASE_SENSITIVE_VOCAB, convert_nums2words=USE_NUM2WORDS\n",
    ")\n",
    "val_dataset = CustomDataset(\n",
    "    val_data, tag_to_ix, word_to_ix, case_sensitive=CASE_SENSITIVE_VOCAB, convert_nums2words=USE_NUM2WORDS\n",
    ")"
   ]
  },
  {
   "cell_type": "code",
   "execution_count": 10,
   "id": "9b10f48f-ab74-4afb-856f-a4c01e732651",
   "metadata": {},
   "outputs": [],
   "source": [
    "dataloaders = {\n",
    "    'train': DataLoader(train_dataset, batch_size=BATCH_SIZE, shuffle=True, drop_last=True),\n",
    "    'val': DataLoader(val_dataset, batch_size=BATCH_SIZE, shuffle=False, drop_last=False)\n",
    "}"
   ]
  },
  {
   "cell_type": "code",
   "execution_count": 11,
   "id": "4e568962-322a-4ad0-a064-de168eac44ef",
   "metadata": {},
   "outputs": [],
   "source": [
    "vocab_size = len(word_to_ix)\n",
    "model = BiLSTM_CRF(vocab_size, len(tag_to_ix), EMBEDDING_DIM, HIDDEN_DIM, padding_idx=word_to_ix['PAD']).to(DEVICE)\n",
    "optimizer = Adam(model.parameters(), lr=LEARNING_RATE, weight_decay=WEIGHT_DECAY)\n",
    "scheduler = ReduceLROnPlateau(optimizer, factor=SCHEDULER_FACTOR, patience=SCHEDULER_PATIENCE)"
   ]
  },
  {
   "cell_type": "code",
   "execution_count": 12,
   "id": "722dcaf0-27b3-449c-b5fe-2be8955a8af0",
   "metadata": {},
   "outputs": [
    {
     "data": {
      "application/vnd.jupyter.widget-view+json": {
       "model_id": "1b61e2b285cb4545833ad6555fa10464",
       "version_major": 2,
       "version_minor": 0
      },
      "text/plain": [
       "  0%|          | 0/3 [00:00<?, ?it/s]"
      ]
     },
     "metadata": {},
     "output_type": "display_data"
    },
    {
     "name": "stdout",
     "output_type": "stream",
     "text": [
      "Epoch: 1, train_loss: 13211.339984600361, val_loss: 1609.98447265625\n",
      "Epoch: 2, train_loss: 904.5972477839543, val_loss: 583.0967346191406\n",
      "Epoch: 3, train_loss: 385.03253486828925, val_loss: 365.4405792236328\n"
     ]
    }
   ],
   "source": [
    "model, losses = train(\n",
    "    model,\n",
    "    optimizer,\n",
    "    dataloaders,\n",
    "    DEVICE,\n",
    "    NUM_EPOCHS,\n",
    "    OUTPUT_DIR,\n",
    "    scheduler=scheduler,\n",
    "    tqdm=tqdm,\n",
    "    neptune_run=run\n",
    ")"
   ]
  },
  {
   "cell_type": "code",
   "execution_count": 13,
   "id": "2c3d17a6-f156-42b4-b337-b51100c20c9d",
   "metadata": {},
   "outputs": [],
   "source": [
    "y_val_true = [tags for _, tags in val_dataset.raw_data()]"
   ]
  },
  {
   "cell_type": "code",
   "execution_count": 14,
   "id": "a908e3e2-2a78-41ae-bd2e-2b6aa65364e4",
   "metadata": {},
   "outputs": [],
   "source": [
    "y_val_pred = []\n",
    "tags = list(tag_to_ix.keys())\n",
    "model.eval()\n",
    "with torch.no_grad():\n",
    "    for x_batch, y_batch, mask_batch, _ in dataloaders['val']:\n",
    "        x_batch, mask_batch = x_batch.to(DEVICE), mask_batch.to(DEVICE)\n",
    "        y_batch_pred = model(x_batch, mask_batch)\n",
    "        y_val_pred.extend(y_batch_pred)\n",
    "y_val_pred = [[tags[tag] for tag in sentence] for sentence in y_val_pred]"
   ]
  },
  {
   "cell_type": "code",
   "execution_count": 15,
   "id": "7b25125f-4e5e-4642-9829-7adaa989303e",
   "metadata": {
    "tags": []
   },
   "outputs": [],
   "source": [
    "X_test = [\n",
    "    torch.tensor(val_dataset.sentence_to_indices(sentence), dtype=torch.int64) for sentence, _ in val_dataset.raw_data()\n",
    "]"
   ]
  },
  {
   "cell_type": "code",
   "execution_count": 16,
   "id": "abcce5b0-d3de-4672-a475-607a491dbb51",
   "metadata": {},
   "outputs": [],
   "source": [
    "unk_foreach_tag = count_unk_foreach_tag(X_test, y_val_true, list(tag_to_ix), val_dataset.word_to_ix[val_dataset.unk])\n",
    "\n",
    "unk_foreach_tag_path = os.path.join(OUTPUT_DIR, 'unk_foreach_tag.json')\n",
    "with open(unk_foreach_tag_path, 'w', encoding='utf-8') as file:\n",
    "    json.dump(unk_foreach_tag, file)\n",
    "    \n",
    "run['data/unk_foreach_tag'].upload(unk_foreach_tag_path)"
   ]
  },
  {
   "cell_type": "code",
   "execution_count": 17,
   "id": "57aa7b80-1200-4f9c-a5a5-03332576ac79",
   "metadata": {},
   "outputs": [
    {
     "data": {
      "application/vnd.jupyter.widget-view+json": {
       "model_id": "fe9e64ca9cd8450ab9315c15a8f053b6",
       "version_major": 2,
       "version_minor": 0
      },
      "text/plain": [
       "0it [00:00, ?it/s]"
      ]
     },
     "metadata": {},
     "output_type": "display_data"
    },
    {
     "name": "stderr",
     "output_type": "stream",
     "text": [
      "D:\\ProgramFiles\\anaconda3\\envs\\wine-recognition\\lib\\site-packages\\torchcrf\\__init__.py:305: UserWarning: where received a uint8 condition tensor. This behavior is deprecated and will be removed in a future version of PyTorch. Use a boolean condition instead. (Triggered internally at  ..\\aten\\src\\ATen\\native\\TensorCompare.cpp:328.)\n",
      "  score = torch.where(mask[i].unsqueeze(1), next_score, score)\n"
     ]
    }
   ],
   "source": [
    "conf = get_model_mean_confidence(model.to('cpu'), X_test, 'cpu', tqdm=tqdm)\n",
    "\n",
    "run['val/confidence'] = conf"
   ]
  },
  {
   "cell_type": "code",
   "execution_count": 18,
   "id": "e97db095-64c1-4862-b763-1f96e498931e",
   "metadata": {},
   "outputs": [],
   "source": [
    "test_eval = [list(zip(sentence, tags, y_val_pred[index])) for index, (sentence, tags) in enumerate(val_dataset.raw_data())]"
   ]
  },
  {
   "cell_type": "code",
   "execution_count": 19,
   "id": "c8053c43-2595-42c5-9785-810409e993f2",
   "metadata": {},
   "outputs": [
    {
     "name": "stderr",
     "output_type": "stream",
     "text": [
      "D:\\ProgramFiles\\anaconda3\\envs\\wine-recognition\\lib\\site-packages\\sklearn\\metrics\\_classification.py:1464: UndefinedMetricWarning: F-score is ill-defined and being set to 0.0 in labels with no true nor predicted samples. Use `zero_division` parameter to control this behavior.\n",
      "  _warn_prf(\n",
      "D:\\ProgramFiles\\anaconda3\\envs\\wine-recognition\\lib\\site-packages\\sklearn\\metrics\\_classification.py:1221: UndefinedMetricWarning: Precision is ill-defined and being set to 0.0 in labels with no predicted samples. Use `zero_division` parameter to control this behavior.\n",
      "  _warn_prf(average, modifier, msg_start, len(result))\n",
      "D:\\ProgramFiles\\anaconda3\\envs\\wine-recognition\\lib\\site-packages\\sklearn\\metrics\\_classification.py:1221: UndefinedMetricWarning: Recall is ill-defined and being set to 0.0 in labels with no true samples. Use `zero_division` parameter to control this behavior.\n",
      "  _warn_prf(average, modifier, msg_start, len(result))\n",
      "D:\\ProgramFiles\\anaconda3\\envs\\wine-recognition\\lib\\site-packages\\sklearn\\metrics\\_classification.py:1221: UndefinedMetricWarning: Precision and F-score are ill-defined and being set to 0.0 in labels with no predicted samples. Use `zero_division` parameter to control this behavior.\n",
      "  _warn_prf(average, modifier, msg_start, len(result))\n",
      "D:\\ProgramFiles\\anaconda3\\envs\\wine-recognition\\lib\\site-packages\\sklearn\\metrics\\_classification.py:1221: UndefinedMetricWarning: Recall and F-score are ill-defined and being set to 0.0 in labels with no true samples. Use `zero_division` parameter to control this behavior.\n",
      "  _warn_prf(average, modifier, msg_start, len(result))\n"
     ]
    }
   ],
   "source": [
    "labels=list(tag_to_ix)\n",
    "\n",
    "run['val/f1'] = metrics.flat_f1_score(y_val_true, y_val_pred, average='weighted', labels=labels)\n",
    "run['val/precision'] = metrics.flat_precision_score(y_val_true, y_val_pred, average='weighted', labels=labels)\n",
    "run['val/recall'] = metrics.flat_recall_score(y_val_true, y_val_pred, average='weighted', labels=labels)\n",
    "run['val/accuracy'] = metrics.flat_accuracy_score(y_val_true, y_val_pred)\n",
    "\n",
    "flat_class_report_path = os.path.join(OUTPUT_DIR, 'flat-classification-report.txt')\n",
    "with open(flat_class_report_path, 'w', encoding='utf-8') as file:\n",
    "    file.write(metrics.flat_classification_report(y_val_true, y_val_pred, labels=labels, digits=3))\n",
    "run['data/flat_classification_report'].upload(flat_class_report_path)"
   ]
  },
  {
   "cell_type": "code",
   "execution_count": 21,
   "id": "67982522-d8c1-473d-8e6f-949e12779e36",
   "metadata": {},
   "outputs": [
    {
     "data": {
      "image/png": "[encoded data removed]",
      "text/plain": [
       "<Figure size 1800x800 with 1 Axes>"
      ]
     },
     "metadata": {},
     "output_type": "display_data"
    }
   ],
   "source": [
    "colored_table_path = os.path.join(OUTPUT_DIR, 'colored-table.xlsx')\n",
    "diagram_path = os.path.join(OUTPUT_DIR, 'diagram.png')\n",
    "\n",
    "DataAnalyzer.analyze(\n",
    "        test_eval,\n",
    "        keys=labels,\n",
    "        table_save_path=colored_table_path,\n",
    "        diagram_save_path=diagram_path)\n",
    "\n",
    "run['data/colored_table'].upload(colored_table_path)\n",
    "run['data/diagram'].upload(diagram_path)"
   ]
  },
  {
   "cell_type": "code",
   "execution_count": 22,
   "id": "b31d1f48-2814-4588-acc1-532503dd2abc",
   "metadata": {},
   "outputs": [
    {
     "name": "stdout",
     "output_type": "stream",
     "text": [
      "Shutting down background jobs, please wait a moment...\n",
      "Done!\n",
      "Waiting for the remaining 2 operations to synchronize with Neptune. Do not kill this process.\n",
      "All 2 operations synced, thanks for waiting!\n",
      "Explore the metadata in the Neptune app:\n",
      "https://app.neptune.ai/mentalakv/wine-recognition/e/WIN-11/metadata\n"
     ]
    }
   ],
   "source": [
    "run.stop()"
   ]
  },
  {
   "cell_type": "code",
   "execution_count": null,
   "id": "71f8843e-0922-403b-991c-1d7130c4ec4d",
   "metadata": {},
   "outputs": [],
   "source": []
  }
 ],
 "metadata": {
  "kernelspec": {
   "display_name": "wine-recognition",
   "language": "python",
   "name": "wine-recognition"
  },
  "language_info": {
   "codemirror_mode": {
    "name": "ipython",
    "version": 3
   },
   "file_extension": ".py",
   "mimetype": "text/x-python",
   "name": "python",
   "nbconvert_exporter": "python",
   "pygments_lexer": "ipython3",
   "version": "3.9.16"
  }
 },
 "nbformat": 4,
 "nbformat_minor": 5
}
