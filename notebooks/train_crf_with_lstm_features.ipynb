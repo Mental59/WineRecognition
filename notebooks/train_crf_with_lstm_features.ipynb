{
 "cells": [
  {
   "cell_type": "code",
   "execution_count": 1,
   "id": "a4e35c7f-fd83-4c1e-8062-ae9fccea054f",
   "metadata": {
    "tags": []
   },
   "outputs": [
    {
     "name": "stdout",
     "output_type": "stream",
     "text": [
      "Wall time: 2.45 s\n"
     ]
    }
   ],
   "source": [
    "%%time\n",
    "import sys\n",
    "if not r'G:\\PythonProjects\\WineRecognition2' in sys.path:\n",
    "    sys.path.insert(0, r'G:\\PythonProjects\\WineRecognition2')\n",
    "\n",
    "import os\n",
    "import json\n",
    "import torch\n",
    "import numpy as np\n",
    "import pandas as pd\n",
    "import sklearn_crfsuite\n",
    "import eli5\n",
    "from sklearn.model_selection import train_test_split\n",
    "\n",
    "from data_master import DataGenerator, DataLoader, count_unk_foreach_tag, compute_model_confidence\n",
    "from nn.utils import CustomDataset, generate_tag_to_ix\n",
    "from mlflow_utils import log_mlflow_on_train\n",
    "from features import features"
   ]
  },
  {
   "cell_type": "code",
   "execution_count": null,
   "id": "656de2bb-6721-4dac-bd82-0f8057bfb6c8",
   "metadata": {
    "tags": [
     "parameters"
    ]
   },
   "outputs": [],
   "source": [
    "%%time\n",
    "DATASET_PATH = r\"G:\\PythonProjects\\WineRecognition2\\data\\text\\Halliday_Wine_AU-only_completed_rows-complex.txt\"\n",
    "LSTM_MODEL_PATH = r\"G:\\PythonProjects\\WineRecognition2\\artifacts\\train\\BiLSTM_CRF_10112021_030733\\model\\data\\model.pth\"\n",
    "VOCAB_PATH = r\"G:\\PythonProjects\\WineRecognition2\\data\\vocabs\\Words_Halliday_Wine_AU.json\"\n",
    "CASE_SENSITIVE_VOCAB = False\n",
    "DICTIONARY_PATH = r\"G:\\PythonProjects\\WineRecognition2\\data\\dictionaries\\Dict-byword_Halliday_Winesearcher_Wine_AU-only_completed_rows\"\n",
    "DATAINFO_PATH = 'G:/PythonProjects/WineRecognition2/data_info.json'\n",
    "DEVICE = 'cuda'\n",
    "MODEL_NAME = \"CRF_with_LSTM_features\"\n",
    "ALGORITHM = 'lbfgs'\n",
    "C1 = 0.1\n",
    "C2 = 0.1\n",
    "MAX_ITERATIONS = 5\n",
    "ALL_POSSIBLE_TRANSITIONS = True\n",
    "TEST_SIZE = 0.2\n",
    "RUN_NAME = 'Train-LSTMfeatures'\n",
    "OUTPUT_DIR = r\"G:\\PythonProjects\\WineRecognition2\\artifacts\\train\\test_exp\"\n",
    "START_TIME = ''\n",
    "USE_NUM2WORDS = False"
   ]
  },
  {
   "cell_type": "code",
   "execution_count": null,
   "id": "0f3bd062-f2db-4b7a-9a94-3f12012ac788",
   "metadata": {},
   "outputs": [],
   "source": [
    "%%time\n",
    "model = torch.load(LSTM_MODEL_PATH).to(DEVICE).eval()\n",
    "freq_dict = DataLoader.load_frequency_dictionary(DICTIONARY_PATH, to_lowercase=True)\n",
    "\n",
    "with open(VOCAB_PATH, encoding='utf-8') as file:\n",
    "    word_to_ix = json.load(file)\n",
    "\n",
    "with open(DATAINFO_PATH) as file:\n",
    "    keys = json.load(file)['keys']['all']\n",
    "    \n",
    "tag_to_ix = generate_tag_to_ix(keys)\n",
    "ix_to_tag = {value: key for key, value in tag_to_ix.items()}\n",
    "\n",
    "tag_to_ix"
   ]
  },
  {
   "cell_type": "code",
   "execution_count": null,
   "id": "60726983",
   "metadata": {},
   "outputs": [],
   "source": [
    "sents = DataGenerator.generate_sents2(\n",
    "    open(DATASET_PATH, encoding='utf-8').read().split('\\n')\n",
    ")\n",
    "# sents = sents[:15]\n",
    "dataset = CustomDataset(\n",
    "    sents, tag_to_ix, word_to_ix, case_sensitive=CASE_SENSITIVE_VOCAB, prepare_dataset=False, convert_nums2words=USE_NUM2WORDS\n",
    ")"
   ]
  },
  {
   "cell_type": "code",
   "execution_count": null,
   "id": "6205695f-f3d5-4c59-a0d2-b3a7b3bd1e24",
   "metadata": {
    "scrolled": false
   },
   "outputs": [],
   "source": [
    "%%time\n",
    "def features_with_keys(sentence):\n",
    "    return [{f'A{i}': feature for i, feature in enumerate(features)} for features in sentence]\n",
    "\n",
    "X_tensors = []\n",
    "metadata = {'features': [], 'labels': []}\n",
    "\n",
    "with torch.no_grad():\n",
    "    for x_sent, y_sent in dataset.raw_data():\n",
    "        our_features = features.sent2features(list(zip(x_sent, y_sent)), freq_dict)\n",
    "            \n",
    "        x_tensor = torch.tensor(dataset.sentence_to_indices(x_sent), dtype=torch.int64)\n",
    "        X_tensors.append(x_tensor)\n",
    "        \n",
    "        final_features = model.get_lstm_features(x_tensor.to(DEVICE).unsqueeze(0))\n",
    "        final_features = features_with_keys(final_features.squeeze(0).detach().cpu().numpy())\n",
    "        \n",
    "        for i in range(len(x_sent)):\n",
    "            final_features[i].update(our_features[i])\n",
    "            \n",
    "        metadata['features'].append(final_features)\n",
    "        metadata['labels'].append(y_sent)\n",
    "        \n",
    "labels = metadata['labels']\n",
    "x = metadata['features']\n",
    "\n",
    "len(x), len(labels)"
   ]
  },
  {
   "cell_type": "code",
   "execution_count": null,
   "id": "0d15635a",
   "metadata": {},
   "outputs": [],
   "source": [
    "%%time\n",
    "X_train, X_val, y_train, y_val, train_sents, val_sents = train_test_split(x, labels, dataset.raw_data(), test_size=TEST_SIZE)\n",
    "len(X_train), len(X_val), len(y_train), len(y_val), len(train_sents), len(val_sents)"
   ]
  },
  {
   "cell_type": "code",
   "execution_count": null,
   "id": "13ca0942",
   "metadata": {
    "scrolled": true,
    "tags": []
   },
   "outputs": [],
   "source": [
    "%%time\n",
    "model = sklearn_crfsuite.CRF(\n",
    "    algorithm=ALGORITHM,\n",
    "    c1=C1,\n",
    "    c2=C2,\n",
    "    max_iterations=MAX_ITERATIONS,\n",
    "    all_possible_transitions=ALL_POSSIBLE_TRANSITIONS\n",
    ")\n",
    "model.fit(X_train, y_train)\n",
    "eli5.show_weights(model, top=(30, 30))"
   ]
  },
  {
   "cell_type": "code",
   "execution_count": null,
   "id": "38bb147c",
   "metadata": {},
   "outputs": [],
   "source": [
    "%%time\n",
    "y_pred = model.predict(X_val)\n",
    "marginals = model.predict_marginals(X_val)"
   ]
  },
  {
   "cell_type": "code",
   "execution_count": null,
   "id": "4ca72336-2665-480d-9f4e-8328ea6f88df",
   "metadata": {},
   "outputs": [],
   "source": [
    "unk_foreach_tag = count_unk_foreach_tag(X_tensors, labels, keys, dataset.word_to_ix[dataset.unk])"
   ]
  },
  {
   "cell_type": "code",
   "execution_count": null,
   "id": "639cfb53-8fe3-443e-96f9-e7a6c66d61ac",
   "metadata": {},
   "outputs": [],
   "source": [
    "confs = compute_model_confidence(marginals)\n",
    "prob_table = DataGenerator.generate_probability_table(marginals, val_sents)"
   ]
  },
  {
   "cell_type": "code",
   "execution_count": null,
   "id": "c20e1fb6",
   "metadata": {},
   "outputs": [],
   "source": [
    "%%time\n",
    "test_eval = [list(zip(sentence, tags, y_pred[index])) for index, (sentence, tags) in enumerate(val_sents)]"
   ]
  },
  {
   "cell_type": "code",
   "execution_count": null,
   "id": "925efc1c",
   "metadata": {},
   "outputs": [],
   "source": [
    "%%time\n",
    "run_params = {\n",
    "    'dataset_path': DATASET_PATH,\n",
    "    'lstm_model_path': LSTM_MODEL_PATH,\n",
    "    'vocab_path': VOCAB_PATH,\n",
    "    'case_sensitive_vocab': CASE_SENSITIVE_VOCAB,\n",
    "    'dictionary_path': DICTIONARY_PATH,\n",
    "    'datainfo_path': DATAINFO_PATH,\n",
    "    'device': DEVICE,\n",
    "    'model_name': MODEL_NAME,\n",
    "    'algorithm': ALGORITHM,\n",
    "    'c1': C1,\n",
    "    'c2': C2 ,\n",
    "    'max_iterations': MAX_ITERATIONS,\n",
    "    'all_possible_transitions': ALL_POSSIBLE_TRANSITIONS,\n",
    "    'test_size': TEST_SIZE,\n",
    "    'runname': RUN_NAME,\n",
    "    'start_time': START_TIME,\n",
    "    'output_dir': OUTPUT_DIR,\n",
    "    'models_confidence': np.mean(confs),\n",
    "    'unk_foreach_tag': json.dumps(unk_foreach_tag),\n",
    "    'prob_table': prob_table,\n",
    "    'use_num2words': USE_NUM2WORDS\n",
    "}"
   ]
  },
  {
   "cell_type": "code",
   "execution_count": null,
   "id": "974dcebe",
   "metadata": {},
   "outputs": [],
   "source": [
    "%%time\n",
    "log_mlflow_on_train(\n",
    "    run_params=run_params,\n",
    "    model=model,\n",
    "    y_true=y_val,\n",
    "    y_pred=y_pred,\n",
    "    test_eval=test_eval\n",
    ")"
   ]
  },
  {
   "cell_type": "code",
   "execution_count": null,
   "id": "25e48495-cb64-4229-94b2-259275639de1",
   "metadata": {},
   "outputs": [],
   "source": []
  }
 ],
 "metadata": {
  "celltoolbar": "Отсутствует",
  "kernelspec": {
   "display_name": "wine-recognition",
   "language": "python",
   "name": "wine-recognition"
  },
  "language_info": {
   "codemirror_mode": {
    "name": "ipython",
    "version": 3
   },
   "file_extension": ".py",
   "mimetype": "text/x-python",
   "name": "python",
   "nbconvert_exporter": "python",
   "pygments_lexer": "ipython3",
   "version": "3.9.7"
  }
 },
 "nbformat": 4,
 "nbformat_minor": 5
}
