{
 "cells": [
  {
   "cell_type": "code",
   "execution_count": null,
   "id": "a4e35c7f-fd83-4c1e-8062-ae9fccea054f",
   "metadata": {
    "tags": []
   },
   "outputs": [],
   "source": [
    "%%time\n",
    "import sys\n",
    "if not r'G:\\PythonProjects\\WineRecognition2' in sys.path:\n",
    "    sys.path.insert(0, r'G:\\PythonProjects\\WineRecognition2')\n",
    "\n",
    "import os\n",
    "import json\n",
    "import torch\n",
    "import numpy as np\n",
    "import pandas as pd\n",
    "import sklearn_crfsuite\n",
    "import eli5\n",
    "from sklearn.model_selection import train_test_split\n",
    "\n",
    "from data_master import DataGenerator, DataLoader\n",
    "from mlflow_utils import log_mlflow_on_train\n",
    "from features import features"
   ]
  },
  {
   "cell_type": "code",
   "execution_count": null,
   "id": "656de2bb-6721-4dac-bd82-0f8057bfb6c8",
   "metadata": {
    "tags": [
     "parameters"
    ]
   },
   "outputs": [],
   "source": [
    "%%time\n",
    "DATASET_PATH = r\"G:\\PythonProjects\\WineRecognition2\\data\\text\\Halliday_Wine_AU-only_completed_rows-complex.txt\"\n",
    "LSTM_MODEL_PATH = r\"G:\\PythonProjects\\WineRecognition2\\artifacts\\train\\BiLSTM_CRF_10112021_030733\\model\\data\\model.pth\"\n",
    "VOCAB_PATH = r\"G:\\PythonProjects\\WineRecognition2\\data\\vocabs\\Words_Halliday_Wine_AU.json\"\n",
    "CASE_SENSITIVE_VOCAB = False\n",
    "DICTIONARY_PATH = r\"G:\\PythonProjects\\WineRecognition2\\data\\dictionaries\\Dict-byword_Halliday_Winesearcher_Wine_AU-only_completed_rows\"\n",
    "DEVICE = 'cuda'\n",
    "MODEL_NAME = \"CRF_with_LSTM_features\"\n",
    "ALGORITHM = 'lbfgs'\n",
    "C1 = 0.1\n",
    "C2 = 0.1\n",
    "MAX_ITERATIONS = 5\n",
    "ALL_POSSIBLE_TRANSITIONS = True\n",
    "TEST_SIZE = 0.2\n",
    "RUN_NAME = 'Train-LSTMfeatures'\n",
    "OUTPUT_DIR = r\"G:\\PythonProjects\\WineRecognition2\\artifacts\\train\\test_exp\"\n",
    "START_TIME = ''"
   ]
  },
  {
   "cell_type": "code",
   "execution_count": null,
   "id": "0f3bd062-f2db-4b7a-9a94-3f12012ac788",
   "metadata": {},
   "outputs": [],
   "source": [
    "%%time\n",
    "model = torch.load(LSTM_MODEL_PATH).to(DEVICE).eval()\n",
    "freq_dict = DataLoader.load_frequency_dictionary(DICTIONARY_PATH)\n",
    "with open(VOCAB_PATH, 'r', encoding='utf-8') as file:\n",
    "    word_to_ix = json.load(file)\n",
    "if not CASE_SENSITIVE_VOCAB:\n",
    "    word_to_ix = {word.lower(): index for word, index in word_to_ix.items()}"
   ]
  },
  {
   "cell_type": "code",
   "execution_count": null,
   "id": "6205695f-f3d5-4c59-a0d2-b3a7b3bd1e24",
   "metadata": {},
   "outputs": [],
   "source": [
    "%%time\n",
    "# getting features from lstm\n",
    "\n",
    "def get_lstm_features(model, x):\n",
    "    x = model.embedding(x)\n",
    "    x, _ = model.lstm(x)\n",
    "    return x\n",
    "\n",
    "def features_with_keys(sentence):\n",
    "    return [{f'A{i}': feature for i, feature in enumerate(features)} for features in sentence]\n",
    "\n",
    "unk = 'UNK' if CASE_SENSITIVE_VOCAB else 'unk'\n",
    "\n",
    "with torch.no_grad():\n",
    "    sents = DataGenerator.generate_sents2(open(DATASET_PATH).read().split('\\n'))\n",
    "    filename = os.path.splitext(os.path.split(DATASET_PATH)[-1])[0]\n",
    "    metadata = {'features': [], 'labels': []}\n",
    "\n",
    "    for x_sent, y_sent in sents:\n",
    "        our_features = features.sent2features(list(zip(x_sent, y_sent)), freq_dict)\n",
    "        \n",
    "        if not CASE_SENSITIVE_VOCAB:\n",
    "            x_sent = [word.lower() for word in x_sent]\n",
    "            \n",
    "        x_tensor = torch.tensor(\n",
    "            [word_to_ix[word] if word in word_to_ix else word_to_ix[unk] for word in x_sent],\n",
    "            dtype=torch.int64\n",
    "        ).to(DEVICE)\n",
    "        \n",
    "        final_features = get_lstm_features(model, x_tensor.unsqueeze(0))\n",
    "        final_features = features_with_keys(final_features.squeeze(0).detach().cpu().numpy())\n",
    "        for i in range(len(x_sent)):\n",
    "            final_features[i].update(our_features[i])\n",
    "        metadata['features'].append(final_features)\n",
    "        metadata['labels'].append(y_sent)\n",
    "        \n",
    "labels = metadata['labels']\n",
    "x = metadata['features']\n",
    "len(x), len(labels)"
   ]
  },
  {
   "cell_type": "code",
   "execution_count": null,
   "id": "0d15635a",
   "metadata": {},
   "outputs": [],
   "source": [
    "%%time\n",
    "X_train, X_val, y_train, y_val, train_sents, val_sents = train_test_split(x, labels, sents, test_size=TEST_SIZE)\n",
    "len(X_train), len(X_val), len(y_train), len(y_val), len(train_sents), len(val_sents)"
   ]
  },
  {
   "cell_type": "code",
   "execution_count": null,
   "id": "13ca0942",
   "metadata": {
    "scrolled": true,
    "tags": []
   },
   "outputs": [],
   "source": [
    "%%time\n",
    "model = sklearn_crfsuite.CRF(\n",
    "    algorithm=ALGORITHM,\n",
    "    c1=C1,\n",
    "    c2=C2,\n",
    "    max_iterations=MAX_ITERATIONS,\n",
    "    all_possible_transitions=ALL_POSSIBLE_TRANSITIONS\n",
    ")\n",
    "model.fit(X_train, y_train)\n",
    "eli5.show_weights(model, top=(30, 30))"
   ]
  },
  {
   "cell_type": "code",
   "execution_count": null,
   "id": "38bb147c",
   "metadata": {},
   "outputs": [],
   "source": [
    "%%time\n",
    "y_pred = model.predict(X_val)"
   ]
  },
  {
   "cell_type": "code",
   "execution_count": null,
   "id": "c20e1fb6",
   "metadata": {},
   "outputs": [],
   "source": [
    "%%time\n",
    "test_eval = [list(zip(sentence, tags, y_pred[index])) for index, (sentence, tags) in enumerate(val_sents)]"
   ]
  },
  {
   "cell_type": "code",
   "execution_count": null,
   "id": "925efc1c",
   "metadata": {},
   "outputs": [],
   "source": [
    "%%time\n",
    "run_params = {\n",
    "    'dataset_path': DATASET_PATH,\n",
    "    'lstm_model_path': LSTM_MODEL_PATH,\n",
    "    'vocab_path': VOCAB_PATH,\n",
    "    'case_sensitive_vocab': CASE_SENSITIVE_VOCAB,\n",
    "    'dictionary_path': DICTIONARY_PATH,\n",
    "    'device': DEVICE,\n",
    "    'model_name': MODEL_NAME,\n",
    "    'algorithm': ALGORITHM,\n",
    "    'c1': C1,\n",
    "    'c2': C2 ,\n",
    "    'max_iterations': MAX_ITERATIONS,\n",
    "    'all_possible_transitions': ALL_POSSIBLE_TRANSITIONS,\n",
    "    'test_size': TEST_SIZE,\n",
    "    'runname': RUN_NAME,\n",
    "    'start_time': START_TIME,\n",
    "    'output_dir': OUTPUT_DIR\n",
    "}"
   ]
  },
  {
   "cell_type": "code",
   "execution_count": null,
   "id": "974dcebe",
   "metadata": {},
   "outputs": [],
   "source": [
    "%%time\n",
    "log_mlflow_on_train(\n",
    "    run_params=run_params,\n",
    "    model=model,\n",
    "    y_true=y_val,\n",
    "    y_pred=y_pred,\n",
    "    test_eval=test_eval\n",
    ")"
   ]
  },
  {
   "cell_type": "code",
   "execution_count": null,
   "id": "25e48495-cb64-4229-94b2-259275639de1",
   "metadata": {},
   "outputs": [],
   "source": []
  }
 ],
 "metadata": {
  "celltoolbar": "Отсутствует",
  "kernelspec": {
   "display_name": "wine-recognition",
   "language": "python",
   "name": "wine-recognition"
  },
  "language_info": {
   "codemirror_mode": {
    "name": "ipython",
    "version": 3
   },
   "file_extension": ".py",
   "mimetype": "text/x-python",
   "name": "python",
   "nbconvert_exporter": "python",
   "pygments_lexer": "ipython3",
   "version": "3.9.7"
  }
 },
 "nbformat": 4,
 "nbformat_minor": 5
}
