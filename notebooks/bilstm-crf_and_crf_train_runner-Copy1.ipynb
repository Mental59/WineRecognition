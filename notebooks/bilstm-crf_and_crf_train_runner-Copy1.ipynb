{
 "cells": [
  {
   "cell_type": "code",
   "execution_count": 1,
   "id": "fe76b413",
   "metadata": {},
   "outputs": [
    {
     "name": "stderr",
     "output_type": "stream",
     "text": [
      "D:\\ProgramFiles\\anaconda3\\envs\\wine-recognition\\lib\\site-packages\\papermill\\iorw.py:50: FutureWarning: pyarrow.HadoopFileSystem is deprecated as of 2.0.0, please use pyarrow.fs.HadoopFileSystem instead.\n",
      "  from pyarrow import HadoopFileSystem\n"
     ]
    }
   ],
   "source": [
    "import sys\n",
    "if r'G:\\PythonProjects\\WineRecognition2' not in sys.path:\n",
    "    sys.path.insert(0, r'G:\\PythonProjects\\WineRecognition2')\n",
    "from data_master import run_experiment"
   ]
  },
  {
   "cell_type": "code",
   "execution_count": 2,
   "id": "ce2b3e19",
   "metadata": {},
   "outputs": [],
   "source": [
    "dataset_path = r'G:\\PythonProjects\\WineRecognition2\\data\\text\\data_and_menu_gen_samples\\Halliday_WineSearcher_Bruxelles_MenuGenSamples_v5_BottleSize_fixed.txt'\n",
    "vocab_path = r'G:\\PythonProjects\\WineRecognition2\\data\\vocabs\\Words_Halliday_WineSearcher_Bruxelles_WORD_NUMS.json'\n",
    "datainfo_path = r'G:/PythonProjects/WineRecognition2/data_info.json'\n",
    "case_sensitive_vocab = False\n",
    "use_num2words = True\n",
    "test_size = 0.2\n",
    "# bilstm_model_path = 'G:/PythonProjects/WineRecognition2/artifacts/train/BiLSTM_CRF_28032022_161428/model/data/model.pth'"
   ]
  },
  {
   "cell_type": "markdown",
   "id": "0871860b",
   "metadata": {},
   "source": [
    "## train BiLSTM-CRF"
   ]
  },
  {
   "cell_type": "code",
   "execution_count": 3,
   "id": "4c5e78f6",
   "metadata": {
    "tags": []
   },
   "outputs": [
    {
     "data": {
      "application/vnd.jupyter.widget-view+json": {
       "model_id": "2e854e885b64458cb8dc19b6e6f3e02f",
       "version_major": 2,
       "version_minor": 0
      },
      "text/plain": [
       "Executing:   0%|          | 0/19 [00:00<?, ?cell/s]"
      ]
     },
     "metadata": {},
     "output_type": "display_data"
    }
   ],
   "source": [
    "experiment = {\n",
    "    'MODEL_NAME': 'BiLSTM_CRF',\n",
    "    'RUN_NAME': f'train-H_WS_Brux_MenuSamples+USA+ENG+CAN_Num2Words_',\n",
    "    'DATASET_PATH': dataset_path,\n",
    "    'VOCAB_PATH': vocab_path,\n",
    "    'DATAINFO_PATH': datainfo_path,\n",
    "    'DEVICE': 'cuda',\n",
    "    'BATCH_SIZE': 2048,\n",
    "    'EMBEDDING_DIM': 64,\n",
    "    'HIDDEN_DIM': 64,\n",
    "    'NUM_EPOCHS': 100,\n",
    "    'LEARNING_RATE': 0.01,\n",
    "    'SCHEDULER_FACTOR': 0.1,\n",
    "    'SCHEDULER_PATIENCE': 10,\n",
    "    'CASE_SENSITIVE_VOCAB': case_sensitive_vocab,\n",
    "    'WEIGHT_DECAY': 1e-4,\n",
    "    'TEST_SIZE': test_size,\n",
    "    'USE_NUM2WORDS': use_num2words\n",
    "}\n",
    "\n",
    "experiment = run_experiment(\n",
    "    experiment=experiment,\n",
    "    exp_settings_path=r\"G:\\PythonProjects\\WineRecognition2\\nn\\experiment_settings.json\",\n",
    "    notebook_path='train_bilstm_crf.ipynb',\n",
    "    train=True\n",
    ")\n",
    "\n",
    "bilstm_model_path = experiment['OUTPUT_DIR'] + '/model/data/model.pth'"
   ]
  },
  {
   "cell_type": "markdown",
   "id": "f79456c4",
   "metadata": {},
   "source": [
    "## train CRF with LSTM features"
   ]
  },
  {
   "cell_type": "code",
   "execution_count": 3,
   "id": "a2f91983",
   "metadata": {},
   "outputs": [
    {
     "data": {
      "application/vnd.jupyter.widget-view+json": {
       "model_id": "ee6f8db2d0104406acfdbe68dc606451",
       "version_major": 2,
       "version_minor": 0
      },
      "text/plain": [
       "Executing:   0%|          | 0/17 [00:00<?, ?cell/s]"
      ]
     },
     "metadata": {},
     "output_type": "display_data"
    }
   ],
   "source": [
    "bilstm_model_path = 'G:/PythonProjects/WineRecognition2/artifacts/train/BiLSTM_CRF_28032022_161428/model/data/model.pth'\n",
    "dictionary_path = r\"G:\\PythonProjects\\WineRecognition2\\data\\dictionaries\\Dict-byword_Halliday_Winesearcher_Bruxelles\"\n",
    "\n",
    "experiment = {\n",
    "    'DATASET_PATH': dataset_path,\n",
    "    'LSTM_MODEL_PATH': bilstm_model_path,\n",
    "    'VOCAB_PATH': vocab_path,\n",
    "    'DICTIONARY_PATH': dictionary_path,\n",
    "    'DATAINFO_PATH': datainfo_path,\n",
    "    'DEVICE': 'cuda',\n",
    "    'CASE_SENSITIVE_VOCAB': case_sensitive_vocab,\n",
    "    'MODEL_NAME': \"CRF_with_LSTM_and_Our_features_and_Dict_features_with_bigrams\",\n",
    "    'ALGORITHM': 'lbfgs',\n",
    "    'C1': 0.1,\n",
    "    'C2': 0.1,\n",
    "    'MAX_ITERATIONS': 1,\n",
    "    'ALL_POSSIBLE_TRANSITIONS': True,\n",
    "    'TEST_SIZE': test_size,\n",
    "    'RUN_NAME': 'TESTRUN-train-H_WS_Brux_MenuSamples_Num2Words_for_OCR_blocks',\n",
    "    'OUTPUT_DIR': None,\n",
    "    'START_TIME': None,\n",
    "    'USE_NUM2WORDS': use_num2words\n",
    "}\n",
    "\n",
    "experiment = run_experiment(\n",
    "    experiment=experiment,\n",
    "    exp_settings_path=r\"G:\\PythonProjects\\WineRecognition2\\nn\\experiment_settings.json\",\n",
    "    notebook_path=\"train_crf_with_lstm_features.ipynb\",\n",
    "    train=True\n",
    ")"
   ]
  },
  {
   "cell_type": "code",
   "execution_count": null,
   "id": "000355a6",
   "metadata": {},
   "outputs": [],
   "source": []
  }
 ],
 "metadata": {
  "kernelspec": {
   "display_name": "wine-recognition",
   "language": "python",
   "name": "wine-recognition"
  },
  "language_info": {
   "codemirror_mode": {
    "name": "ipython",
    "version": 3
   },
   "file_extension": ".py",
   "mimetype": "text/x-python",
   "name": "python",
   "nbconvert_exporter": "python",
   "pygments_lexer": "ipython3",
   "version": "3.9.16"
  }
 },
 "nbformat": 4,
 "nbformat_minor": 5
}
