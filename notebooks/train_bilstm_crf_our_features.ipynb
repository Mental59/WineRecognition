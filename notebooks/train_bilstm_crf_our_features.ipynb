{
 "cells": [
  {
   "cell_type": "code",
   "execution_count": 1,
   "id": "a4df137a-7825-4ee9-bba5-c22e64e58532",
   "metadata": {},
   "outputs": [],
   "source": [
    "import sys\n",
    "import json\n",
    "\n",
    "import torch\n",
    "from torch.optim import Adam\n",
    "from torch.utils.data import DataLoader\n",
    "from torch.optim.lr_scheduler import ReduceLROnPlateau\n",
    "from tqdm.notebook import tqdm\n",
    "from sklearn.model_selection import train_test_split\n",
    "import numpy as np\n",
    "\n",
    "if r'G:\\PythonProjects\\WineRecognition2' not in sys.path:\n",
    "    sys.path.insert(0, r'G:\\PythonProjects\\WineRecognition2')\n",
    "from nn.utils import CustomDataset, train, plot_losses, generate_tag_to_ix, get_model_confidence\n",
    "from nn.model import BiLSTM_CRF\n",
    "from nn.mlflow_utils import log_mlflow_on_train\n",
    "from data_master import DataGenerator, count_unk_foreach_tag, DataLoader as data_loader"
   ]
  },
  {
   "cell_type": "code",
   "execution_count": 2,
   "id": "88eb69d0-a561-490f-b96c-2251c20d4252",
   "metadata": {
    "tags": [
     "parameters"
    ]
   },
   "outputs": [],
   "source": [
    "MODEL_NAME = 'BiLSTM_CRF'\n",
    "RUN_NAME = ''\n",
    "START_TIME = ''\n",
    "OUTPUT_DIR = ''\n",
    "DATASET_PATH = r'G:\\PythonProjects\\WineRecognition2\\data\\text\\halliday_winesearcher_menu_gen_samplesv2\\Halliday_WineSearcher_MenuGenSamples.txt'\n",
    "VOCAB_PATH = 'G:/PythonProjects/WineRecognition2/data/vocabs/Words_Halliday_Wine_AU.json'\n",
    "DATAINFO_PATH = 'G:/PythonProjects/WineRecognition2/data_info.json'\n",
    "DICTIONARY_PATH = r'G:\\PythonProjects\\WineRecognition2\\data\\dictionaries\\Dict-byword_Halliday_Winesearcher_Wine_AU-only_completed_rows'\n",
    "DEVICE = 'cuda'\n",
    "BATCH_SIZE = 8\n",
    "EMBEDDING_DIM = 256\n",
    "HIDDEN_DIM = 64\n",
    "NUM_EPOCHS = 1\n",
    "LEARNING_RATE = 0.01\n",
    "SCHEDULER_FACTOR = 0.1\n",
    "SCHEDULER_PATIENCE = 10\n",
    "CASE_SENSITIVE_VOCAB = False\n",
    "WEIGHT_DECAY = 0.0001\n",
    "USE_NUM2WORDS = False\n",
    "TEST_SIZE = 0.2"
   ]
  },
  {
   "cell_type": "code",
   "execution_count": 3,
   "id": "0a679855-195c-48a5-b1df-d7992a433650",
   "metadata": {},
   "outputs": [
    {
     "data": {
      "text/plain": [
       "100"
      ]
     },
     "execution_count": 3,
     "metadata": {},
     "output_type": "execute_result"
    }
   ],
   "source": [
    "with open(DATASET_PATH, encoding='utf-8') as file:\n",
    "    sents = DataGenerator.generate_sents2(file.read().split('\\n'))\n",
    "len(sents)"
   ]
  },
  {
   "cell_type": "code",
   "execution_count": 4,
   "id": "147d43fa-aff7-43c1-97d9-424cea350e10",
   "metadata": {},
   "outputs": [
    {
     "data": {
      "text/plain": [
       "(80, 20)"
      ]
     },
     "execution_count": 4,
     "metadata": {},
     "output_type": "execute_result"
    }
   ],
   "source": [
    "train_data, val_data = train_test_split(sents, test_size=TEST_SIZE)\n",
    "len(train_data), len(val_data)"
   ]
  },
  {
   "cell_type": "code",
   "execution_count": 5,
   "id": "8ebd43e1-2ff8-4f39-8810-1c3a0d3546db",
   "metadata": {
    "tags": []
   },
   "outputs": [
    {
     "data": {
      "text/plain": [
       "{'Add_TradeName': 0,\n",
       " 'Add_Brand': 1,\n",
       " 'Add_KeyWordTrue': 2,\n",
       " 'Add_KeyWordFalse': 3,\n",
       " 'Add_GrapeVarieties': 4,\n",
       " 'Add_GeoIndication': 5,\n",
       " 'Add_WineType': 6,\n",
       " 'Add_BottleSize': 7,\n",
       " 'Add_Sweetness': 8,\n",
       " 'Add_WineColor': 9,\n",
       " 'Add_ClosureType': 10,\n",
       " 'Add_Certificate': 11,\n",
       " 'Add_Vintage': 12,\n",
       " 'Add_Price': 13,\n",
       " 'Punctuation': 14,\n",
       " 'Other': 15}"
      ]
     },
     "execution_count": 5,
     "metadata": {},
     "output_type": "execute_result"
    }
   ],
   "source": [
    "with open(DATAINFO_PATH) as file:\n",
    "    tag_to_ix = generate_tag_to_ix(json.load(file)['keys']['all'])\n",
    "tag_to_ix"
   ]
  },
  {
   "cell_type": "code",
   "execution_count": 6,
   "id": "535b15e3-8339-43b4-a46f-0d4f9d5131b9",
   "metadata": {
    "tags": []
   },
   "outputs": [
    {
     "data": {
      "text/plain": [
       "12139"
      ]
     },
     "execution_count": 6,
     "metadata": {},
     "output_type": "execute_result"
    }
   ],
   "source": [
    "with open(VOCAB_PATH, 'r', encoding='utf-8') as file:\n",
    "    word_to_ix = json.load(file)\n",
    "freq_dict = data_loader.load_frequency_dictionary(DICTIONARY_PATH, to_lowercase=True)\n",
    "len(word_to_ix)"
   ]
  },
  {
   "cell_type": "code",
   "execution_count": 7,
   "id": "73c5d913-4add-410b-86fc-fc9abc0003d7",
   "metadata": {},
   "outputs": [],
   "source": [
    "train_dataset = CustomDataset(\n",
    "    train_data, tag_to_ix, word_to_ix, freq_dict=freq_dict, case_sensitive=CASE_SENSITIVE_VOCAB, convert_nums2words=USE_NUM2WORDS\n",
    ")\n",
    "val_dataset = CustomDataset(\n",
    "    val_data, tag_to_ix, word_to_ix, freq_dict=freq_dict, case_sensitive=CASE_SENSITIVE_VOCAB, convert_nums2words=USE_NUM2WORDS\n",
    ")"
   ]
  },
  {
   "cell_type": "code",
   "execution_count": 8,
   "id": "9b10f48f-ab74-4afb-856f-a4c01e732651",
   "metadata": {},
   "outputs": [],
   "source": [
    "dataloaders = {\n",
    "    'train': DataLoader(train_dataset, batch_size=BATCH_SIZE, shuffle=True, drop_last=True),\n",
    "    'val': DataLoader(val_dataset, batch_size=BATCH_SIZE, shuffle=False, drop_last=False)\n",
    "}"
   ]
  },
  {
   "cell_type": "code",
   "execution_count": 9,
   "id": "4e568962-322a-4ad0-a064-de168eac44ef",
   "metadata": {},
   "outputs": [],
   "source": [
    "vocab_size = len(word_to_ix)\n",
    "model = BiLSTM_CRF(vocab_size, len(tag_to_ix), EMBEDDING_DIM, HIDDEN_DIM, padding_idx=word_to_ix['PAD'], custom_features_size=43).to(DEVICE)\n",
    "optimizer = Adam(model.parameters(), lr=LEARNING_RATE, weight_decay=WEIGHT_DECAY)\n",
    "scheduler = ReduceLROnPlateau(optimizer, factor=SCHEDULER_FACTOR, patience=SCHEDULER_PATIENCE)"
   ]
  },
  {
   "cell_type": "code",
   "execution_count": 10,
   "id": "722dcaf0-27b3-449c-b5fe-2be8955a8af0",
   "metadata": {},
   "outputs": [
    {
     "data": {
      "application/vnd.jupyter.widget-view+json": {
       "model_id": "3d4a8bae05a248f1bad66c5880c70e19",
       "version_major": 2,
       "version_minor": 0
      },
      "text/plain": [
       "  0%|          | 0/1 [00:00<?, ?it/s]"
      ]
     },
     "metadata": {},
     "output_type": "display_data"
    },
    {
     "name": "stdout",
     "output_type": "stream",
     "text": [
      "Epoch: 1, train_loss: 117.64966316223145, val_loss: 19.802398681640625\n"
     ]
    }
   ],
   "source": [
    "model, losses = train(\n",
    "    model,\n",
    "    optimizer,\n",
    "    dataloaders,\n",
    "    DEVICE,\n",
    "    NUM_EPOCHS,\n",
    "    OUTPUT_DIR,\n",
    "    scheduler=scheduler,\n",
    "    tqdm=tqdm\n",
    ")"
   ]
  },
  {
   "cell_type": "code",
   "execution_count": 11,
   "id": "2c3d17a6-f156-42b4-b337-b51100c20c9d",
   "metadata": {},
   "outputs": [],
   "source": [
    "y_val_true = [tags for _, tags in val_dataset.raw_data()]"
   ]
  },
  {
   "cell_type": "code",
   "execution_count": 12,
   "id": "a908e3e2-2a78-41ae-bd2e-2b6aa65364e4",
   "metadata": {},
   "outputs": [],
   "source": [
    "y_val_pred = []\n",
    "tags = list(tag_to_ix.keys())\n",
    "model.eval()\n",
    "with torch.no_grad():\n",
    "    for x_batch, y_batch, mask_batch, custom_features in dataloaders['val']:\n",
    "        x_batch, mask_batch = x_batch.to(DEVICE), mask_batch.to(DEVICE)\n",
    "        custom_features = custom_features.to(DEVICE)\n",
    "        y_batch_pred = model(x_batch, mask_batch, custom_features)\n",
    "        y_val_pred.extend(y_batch_pred)\n",
    "y_val_pred = [[tags[tag] for tag in sentence] for sentence in y_val_pred]"
   ]
  },
  {
   "cell_type": "code",
   "execution_count": 13,
   "id": "7b25125f-4e5e-4642-9829-7adaa989303e",
   "metadata": {
    "tags": []
   },
   "outputs": [],
   "source": [
    "X_test = [\n",
    "    torch.tensor(val_dataset.sentence_to_indices(sentence), dtype=torch.int64) for sentence, _ in val_dataset.raw_data()\n",
    "]"
   ]
  },
  {
   "cell_type": "code",
   "execution_count": 14,
   "id": "abcce5b0-d3de-4672-a475-607a491dbb51",
   "metadata": {},
   "outputs": [],
   "source": [
    "unk_foreach_tag = count_unk_foreach_tag(X_test, y_val_true, list(tag_to_ix), val_dataset.word_to_ix[val_dataset.unk])"
   ]
  },
  {
   "cell_type": "code",
   "execution_count": 15,
   "id": "57aa7b80-1200-4f9c-a5a5-03332576ac79",
   "metadata": {},
   "outputs": [
    {
     "name": "stderr",
     "output_type": "stream",
     "text": [
      "D:\\ProgramFiles\\anaconda3\\envs\\wine-recognition\\lib\\site-packages\\torchcrf\\__init__.py:305: UserWarning: where received a uint8 condition tensor. This behavior is deprecated and will be removed in a future version of PyTorch. Use a boolean condition instead. (Triggered internally at  ..\\aten\\src\\ATen\\native\\TensorCompare.cpp:328.)\n",
      "  score = torch.where(mask[i].unsqueeze(1), next_score, score)\n"
     ]
    }
   ],
   "source": [
    "confs = get_model_confidence(model, X_test, DEVICE, custom_features=val_dataset.custom_features)"
   ]
  },
  {
   "cell_type": "code",
   "execution_count": 16,
   "id": "e97db095-64c1-4862-b763-1f96e498931e",
   "metadata": {},
   "outputs": [],
   "source": [
    "test_eval = [list(zip(sentence, tags, y_val_pred[index])) for index, (sentence, tags) in enumerate(val_dataset.raw_data())]"
   ]
  },
  {
   "cell_type": "code",
   "execution_count": 17,
   "id": "eb219f54-01ee-45cd-ab28-3b042c981ba7",
   "metadata": {},
   "outputs": [],
   "source": [
    "run_params = {\n",
    "    'model_name': MODEL_NAME,\n",
    "    'run_name': RUN_NAME,\n",
    "    'start_time': START_TIME,\n",
    "    'output_dir': OUTPUT_DIR,\n",
    "    'dataset_path': DATASET_PATH,\n",
    "    'vocab_path': VOCAB_PATH,\n",
    "    'datainfo_path': DATAINFO_PATH,\n",
    "    'device': DEVICE,\n",
    "    'batch_size': BATCH_SIZE,\n",
    "    'embedding_dim': EMBEDDING_DIM,\n",
    "    'hidden_dim': HIDDEN_DIM,\n",
    "    'vocab_size': vocab_size,\n",
    "    'tags': ', '.join(tag_to_ix),\n",
    "    'num_epochs': NUM_EPOCHS,\n",
    "    'learning_rate': LEARNING_RATE,\n",
    "    'weight_decay': WEIGHT_DECAY,\n",
    "    'factor': SCHEDULER_FACTOR,\n",
    "    'patience': SCHEDULER_PATIENCE,\n",
    "    'case_sensitive': CASE_SENSITIVE_VOCAB,\n",
    "    'test_size': TEST_SIZE,\n",
    "    'models_confidence': np.mean(confs),\n",
    "    'unk_foreach_tag': json.dumps(unk_foreach_tag),\n",
    "    'dictionary_path': DICTIONARY_PATH,\n",
    "    'use_num2words': USE_NUM2WORDS\n",
    "}"
   ]
  },
  {
   "cell_type": "code",
   "execution_count": null,
   "id": "caf57326-0d9e-40d2-ad5f-1c5937cb0cc2",
   "metadata": {},
   "outputs": [],
   "source": [
    "log_mlflow_on_train(\n",
    "    run_params=run_params,\n",
    "    model=model,\n",
    "    classes=list(tag_to_ix),\n",
    "    losses=losses,\n",
    "    y_true=y_val_true,\n",
    "    y_pred=y_val_pred,\n",
    "    test_eval=test_eval\n",
    ")"
   ]
  }
 ],
 "metadata": {
  "kernelspec": {
   "display_name": "wine-recognition",
   "language": "python",
   "name": "wine-recognition"
  },
  "language_info": {
   "codemirror_mode": {
    "name": "ipython",
    "version": 3
   },
   "file_extension": ".py",
   "mimetype": "text/x-python",
   "name": "python",
   "nbconvert_exporter": "python",
   "pygments_lexer": "ipython3",
   "version": "3.9.7"
  }
 },
 "nbformat": 4,
 "nbformat_minor": 5
}
